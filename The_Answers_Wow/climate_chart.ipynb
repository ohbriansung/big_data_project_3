{
 "cells": [
  {
   "cell_type": "code",
   "execution_count": 123,
   "metadata": {},
   "outputs": [],
   "source": [
    "from pyspark.sql.types import StructType, StructField, FloatType, LongType, StringType"
   ]
  },
  {
   "cell_type": "code",
   "execution_count": 124,
   "metadata": {},
   "outputs": [],
   "source": [
    "hdfs_port = \"hdfs://orion11:26990\"\n",
    "# data_path = \"/nam_s/nam_201501_s*\"\n",
    "data_path = \"/nam_s/*\"\n",
    "# data_path = \"/sample/nam_tiny*\""
   ]
  },
  {
   "cell_type": "code",
   "execution_count": 125,
   "metadata": {},
   "outputs": [],
   "source": [
    "feats = []\n",
    "f = open('../features.txt')\n",
    "for line_num, line in enumerate(f):\n",
    "    if line_num == 0:\n",
    "        # Timestamp\n",
    "        feats.append(StructField(line.strip(), LongType(), True))\n",
    "    elif line_num == 1:\n",
    "        # Geohash\n",
    "        feats.append(StructField(line.strip(), StringType(), True))\n",
    "    else:\n",
    "        # Other features\n",
    "        feats.append(StructField(line.strip(), FloatType(), True))\n",
    "    \n",
    "schema = StructType(feats)"
   ]
  },
  {
   "cell_type": "code",
   "execution_count": 126,
   "metadata": {},
   "outputs": [
    {
     "name": "stdout",
     "output_type": "stream",
     "text": [
      "CPU times: user 0 ns, sys: 2.93 ms, total: 2.93 ms\n",
      "Wall time: 50 ms\n"
     ]
    }
   ],
   "source": [
    "%%time\n",
    "\n",
    "df = spark.read.format('csv').option('sep', '\\t').schema(schema).load(f'{hdfs_port}{data_path}')\n",
    "# df.take(1)\n",
    "# print(df.head())"
   ]
  },
  {
   "cell_type": "code",
   "execution_count": 127,
   "metadata": {},
   "outputs": [],
   "source": [
    "hash_prefix = \"c6s64\""
   ]
  },
  {
   "cell_type": "code",
   "execution_count": 132,
   "metadata": {},
   "outputs": [
    {
     "name": "stdout",
     "output_type": "stream",
     "text": [
      "\n",
      "SELECT AVG(temperature_surface) AS tmp_avg,\n",
      "    MIN(temperature_surface) AS tmp_min,\n",
      "    MAX(temperature_surface) AS tmp_max,\n",
      "    AVG(categorical_rain_yes1_no0_surface) AS rain_avg,\n",
      "    FROM_UNIXTIME(Timestamp/1000, 'YYYY-MM') AS year_month\n",
      "FROM nam_small\n",
      "WHERE Geohash LIKE \"c6s64%\"\n",
      "GROUP BY year_month\n",
      "ORDER BY year_month\n",
      "\n",
      "CPU times: user 1.13 ms, sys: 0 ns, total: 1.13 ms\n",
      "Wall time: 4.5 ms\n"
     ]
    }
   ],
   "source": [
    "%%time\n",
    "\n",
    "dg = df\n",
    "\n",
    "dg.createOrReplaceTempView(\"nam_small\")\n",
    "\n",
    "query_str = f'''\n",
    "SELECT AVG(temperature_surface) AS tmp_avg,\n",
    "    MIN(temperature_surface) AS tmp_min,\n",
    "    MAX(temperature_surface) AS tmp_max,\n",
    "    AVG(categorical_rain_yes1_no0_surface) AS rain_avg,\n",
    "    FROM_UNIXTIME(Timestamp/1000, 'YYYY-MM') AS year_month\n",
    "FROM nam_small\n",
    "WHERE Geohash LIKE \"{hash_prefix}%\"\n",
    "GROUP BY year_month\n",
    "ORDER BY year_month\n",
    "'''\n",
    "\n",
    "print(query_str)"
   ]
  },
  {
   "cell_type": "code",
   "execution_count": null,
   "metadata": {},
   "outputs": [],
   "source": [
    "%%time\n",
    "\n",
    "visibilities = spark.sql(query_str).collect()"
   ]
  },
  {
   "cell_type": "code",
   "execution_count": null,
   "metadata": {},
   "outputs": [],
   "source": [
    "visibilities"
   ]
  },
  {
   "cell_type": "code",
   "execution_count": null,
   "metadata": {},
   "outputs": [],
   "source": []
  }
 ],
 "metadata": {
  "kernelspec": {
   "display_name": "Python 3",
   "language": "python",
   "name": "python3"
  },
  "language_info": {
   "codemirror_mode": {
    "name": "ipython",
    "version": 3
   },
   "file_extension": ".py",
   "mimetype": "text/x-python",
   "name": "python",
   "nbconvert_exporter": "python",
   "pygments_lexer": "ipython3",
   "version": "3.6.5"
  }
 },
 "nbformat": 4,
 "nbformat_minor": 2
}
