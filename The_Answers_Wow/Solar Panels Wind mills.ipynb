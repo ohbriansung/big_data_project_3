{
 "cells": [
  {
   "cell_type": "code",
   "execution_count": 9,
   "metadata": {},
   "outputs": [],
   "source": [
    "import matplotlib.pyplot as plt\n",
    "import numpy as np\n",
    "import geohash2 as gh\n",
    "import gmaps\n",
    "import gmaps.datasets\n",
    "from pyspark.sql.types import StructType, StructField, FloatType, LongType, StringType\n",
    "from datetime import datetime"
   ]
  },
  {
   "cell_type": "code",
   "execution_count": 3,
   "metadata": {},
   "outputs": [],
   "source": [
    "feats = []\n",
    "f = open('../features.txt')\n",
    "for line_num, line in enumerate(f):\n",
    "    if line_num == 0:\n",
    "        # Timestamp\n",
    "        feats.append(StructField(line.strip(), LongType(), True))\n",
    "    elif line_num == 1:\n",
    "        # Geohash\n",
    "        feats.append(StructField(line.strip(), StringType(), True))\n",
    "    else:\n",
    "        # Other features\n",
    "        feats.append(StructField(line.strip(), FloatType(), True))\n",
    "schema = StructType(feats)"
   ]
  },
  {
   "cell_type": "code",
   "execution_count": 4,
   "metadata": {},
   "outputs": [
    {
     "name": "stdout",
     "output_type": "stream",
     "text": [
      "CPU times: user 43 ms, sys: 9.88 ms, total: 52.8 ms\n",
      "Wall time: 2min 30s\n"
     ]
    }
   ],
   "source": [
    "%%time\n",
    "\n",
    "df = spark.read.format('csv').option('sep', '\\t').schema(schema).load('hdfs://orion11:30999/nam/data/nam_s')\n",
    "df.take(1)"
   ]
  },
  {
   "cell_type": "markdown",
   "metadata": {},
   "source": [
    "### Solar Features\n",
    "total_cloud_cover_entire_atmosphere<br>\n",
    "visibility_surface<br>\n",
    "categorical_rain_yes1_no0_surface<br>\n",
    "\n",
    "We want to find features that have low cloud coverage and high visiblity surface ( Not 100% sure what visiblity surface means but I will assume that higher visiblity would allow for more sunlight ). Of course the best places for solar farms would also be places with low rainfall since we want as little clouds as possible. \n",
    "\n",
    "### Wind Features\n",
    "surface_wind_gust_surface<br>\n",
    "v-component_of_wind_maximum_wind<br>\n",
    "pressure_surface<br>\n",
    "pressure_maximum_wind<br>\n",
    "\n",
    "For Wind Featuress we look for wind related attributes and track choose areas in which the average wind attribute is higher than the average. It is important to have multiple attributes to measure weither or not the area is suitable for a wind farm.\n",
    "\n",
    "\n",
    "### General Features\n",
    "\n",
    "It is important for the farm to be on a location that can actually be inhabitable. For now we will only isolate for land ( we dont want a solar farm in the middle of the ocean )"
   ]
  },
  {
   "cell_type": "markdown",
   "metadata": {},
   "source": [
    "## Solar Features Description"
   ]
  },
  {
   "cell_type": "code",
   "execution_count": 8,
   "metadata": {
    "scrolled": true
   },
   "outputs": [
    {
     "name": "stdout",
     "output_type": "stream",
     "text": [
      "+-------+-----------------------------------+------------------+---------------------------------+\n",
      "|summary|total_cloud_cover_entire_atmosphere|visibility_surface|categorical_rain_yes1_no0_surface|\n",
      "+-------+-----------------------------------+------------------+---------------------------------+\n",
      "|  count|                          108000000|         108000000|                        108000000|\n",
      "|   mean|               -2.42109131147400...|21717.428957248074|              0.08852023148148148|\n",
      "| stddev|               4.914506718751981...| 6141.102072809382|              0.28404999709034684|\n",
      "|    min|                      -1.0000036E20|         17.292929|                              0.0|\n",
      "|    max|                              100.0|         24307.436|                              1.0|\n",
      "+-------+-----------------------------------+------------------+---------------------------------+\n",
      "\n"
     ]
    }
   ],
   "source": [
    "df.describe([\n",
    "    'total_cloud_cover_entire_atmosphere',\n",
    "    'visibility_surface',\n",
    "    'categorical_rain_yes1_no0_surface'\n",
    "]).show()"
   ]
  },
  {
   "cell_type": "markdown",
   "metadata": {},
   "source": [
    "## Wind Features Description"
   ]
  },
  {
   "cell_type": "code",
   "execution_count": 7,
   "metadata": {
    "scrolled": true
   },
   "outputs": [
    {
     "name": "stdout",
     "output_type": "stream",
     "text": [
      "+-------+-------------------------+--------------------------------+-----------------+---------------------+\n",
      "|summary|surface_wind_gust_surface|v-component_of_wind_maximum_wind| pressure_surface|pressure_maximum_wind|\n",
      "+-------+-------------------------+--------------------------------+-----------------+---------------------+\n",
      "|  count|                108000000|                       108000000|        108000000|            108000000|\n",
      "|   mean|        6.847670909482179|             -1.1452036799420957|97924.25023205555|   22274.680711306133|\n",
      "| stddev|        4.462058868522337|              18.983894779918007|6041.825119192631|    7190.963967770848|\n",
      "|    min|             7.1111065E-4|                        -92.0031|          63860.0|            11120.641|\n",
      "|    max|                 55.79795|                       106.34735|         105154.0|            50128.137|\n",
      "+-------+-------------------------+--------------------------------+-----------------+---------------------+\n",
      "\n"
     ]
    }
   ],
   "source": [
    "df.describe([\n",
    "    'surface_wind_gust_surface',\n",
    "    'v-component_of_wind_maximum_wind',\n",
    "    'pressure_surface',\n",
    "    'pressure_maximum_wind'\n",
    "]).show()"
   ]
  },
  {
   "cell_type": "code",
   "execution_count": 11,
   "metadata": {
    "scrolled": false
   },
   "outputs": [
    {
     "name": "stdout",
     "output_type": "stream",
     "text": [
      "Row(Geohash='9muc4swndp2p', avg_cloud=-8.241785230181007e+17, avg_vis=23113.471296037947, avg_rain=0.01098901098901099)\n",
      "Row(Geohash='9sqscbng8qhp', avg_cloud=-8.196748152420456e+17, avg_vis=23235.54689767973, avg_rain=0.06830601092896176)\n",
      "Row(Geohash='9qvg43dhb5eb', avg_cloud=-8.152200608113823e+17, avg_vis=23374.304511028786, avg_rain=0.0625)\n",
      "CPU times: user 47.7 ms, sys: 16.6 ms, total: 64.3 ms\n",
      "Wall time: 2min 45s\n"
     ]
    }
   ],
   "source": [
    "%%time\n",
    "df.createOrReplaceTempView(\"nam_small\")\n",
    "solar_location = spark.sql(\n",
    "    f'''SELECT * FROM(SELECT Geohash, avg(total_cloud_cover_entire_atmosphere) as avg_cloud, avg(visibility_surface) as avg_vis, avg(categorical_rain_yes1_no0_surface) as avg_rain\n",
    "        FROM nam_small \n",
    "        GROUP BY Geohash \n",
    "        Having avg_cloud < -.2 and avg_vis > 21700 and avg_rain < .08 and avg(land_cover_land1_sea0_surface) = 1) as t2\n",
    "    ORDER BY avg_cloud, avg_vis DESC, avg_rain\n",
    "    Limit 3\n",
    "    ''').collect()\n",
    "\n",
    "for row in solar_location:\n",
    "    print (row)"
   ]
  },
  {
   "cell_type": "code",
   "execution_count": null,
   "metadata": {},
   "outputs": [],
   "source": [
    "lat_long_list = [gh.decode(row[0]) for row in solar_location]\n",
    "lat_long_list = [(float(row[0]), float(row[1])) for row in lat_long_list]\n",
    "\n",
    "solar = gmaps.symbol_layer(\n",
    "    lat_long_list,\n",
    "    fill_color='red',\n",
    "    stroke_color='red',\n",
    ")\n",
    "fig = gmaps.figure()\n",
    "fig.add_layer(solar)\n",
    "fig"
   ]
  },
  {
   "cell_type": "markdown",
   "metadata": {},
   "source": [
    "![Solar](img/SolarFarm.png)"
   ]
  },
  {
   "cell_type": "code",
   "execution_count": 14,
   "metadata": {
    "scrolled": true
   },
   "outputs": [
    {
     "name": "stdout",
     "output_type": "stream",
     "text": [
      "Row(Geohash='f6c0dnrzupkp', avg_gust=7.301884487974194, avg_pressure=100876.15330188679, avg_max_pressure=27631.67333984375)\n",
      "Row(Geohash='f6dquxqseheb', avg_gust=7.487838643878033, avg_pressure=99143.55831265509, avg_max_pressure=27631.04482736895)\n",
      "Row(Geohash='f63jjcx9hhkp', avg_gust=7.6772719182737985, avg_pressure=100049.68069306931, avg_max_pressure=27557.737307104733)\n"
     ]
    }
   ],
   "source": [
    "wind_location = spark.sql(\n",
    "    f'''SELECT * FROM(SELECT Geohash, avg(surface_wind_gust_surface) as avg_gust, avg(pressure_surface) as avg_pressure, avg(pressure_maximum_wind) as avg_max_pressure\n",
    "        FROM nam_small \n",
    "        GROUP BY Geohash \n",
    "        Having avg_gust > 6.8 and avg_pressure > 98000 and avg_max_pressure > 22000 and avg(land_cover_land1_sea0_surface) = 1) as t2\n",
    "    ORDER BY avg_max_pressure DESC, avg_gust DESC, avg_pressure DESC\n",
    "    Limit 3\n",
    "    ''').collect()\n",
    "\n",
    "\n",
    "for row in wind_location:\n",
    "    print (row)"
   ]
  },
  {
   "cell_type": "code",
   "execution_count": null,
   "metadata": {},
   "outputs": [],
   "source": [
    "lat_long_list = [gh.decode(row[0]) for row in wind_location]\n",
    "lat_long_list = [(float(row[0]), float(row[1])) for row in lat_long_list]\n",
    "\n",
    "wind = gmaps.symbol_layer(\n",
    "    lat_long_list,\n",
    "    fill_color='red',\n",
    "    stroke_color='red',\n",
    ")\n",
    "fig = gmaps.figure()\n",
    "fig.add_layer(wind)\n",
    "fig"
   ]
  },
  {
   "cell_type": "markdown",
   "metadata": {},
   "source": [
    "![Wind](img/WindFarms.png)"
   ]
  },
  {
   "cell_type": "code",
   "execution_count": 16,
   "metadata": {},
   "outputs": [
    {
     "name": "stdout",
     "output_type": "stream",
     "text": [
      "Row(Geohash='cbdgu8ssqukp', avg_cloud=-7.317099062034778e+17, avg_vis=22050.815116668327, avg_rain=0.046341463414634146, avg_gust=7.20288945211143, avg_pressure=98590.6243902439, avg_max_pressure=23063.607140815548)\n",
      "Row(Geohash='cbdejvg4pgxb', avg_cloud=-5.249361021497615e+17, avg_vis=22233.35329998447, avg_rain=0.03937007874015748, avg_gust=6.960226039404631, avg_pressure=98365.70341207349, avg_max_pressure=23514.148401615814)\n",
      "Row(Geohash='9zvjgu2w68pb', avg_cloud=-5.235619238718825e+17, avg_vis=21927.44379666713, avg_rain=0.03664921465968586, avg_gust=6.92882694561444, avg_pressure=98086.35340314136, avg_max_pressure=22601.759586673757)\n",
      "CPU times: user 40.7 ms, sys: 9.65 ms, total: 50.4 ms\n",
      "Wall time: 2min 51s\n"
     ]
    }
   ],
   "source": [
    "%%time\n",
    "df.createOrReplaceTempView(\"nam_small\")\n",
    "solar_location = spark.sql(\n",
    "    f'''SELECT * FROM(SELECT Geohash, avg(total_cloud_cover_entire_atmosphere) as avg_cloud, avg(visibility_surface) as avg_vis, avg(categorical_rain_yes1_no0_surface) as avg_rain,\n",
    "        avg(surface_wind_gust_surface) as avg_gust, avg(pressure_surface) as avg_pressure, avg(pressure_maximum_wind) as avg_max_pressure\n",
    "        FROM nam_small \n",
    "        GROUP BY Geohash \n",
    "        Having avg(land_cover_land1_sea0_surface) = 1 and avg_cloud < -.2 and avg_vis > 21700 and avg_rain < .08 and avg_gust > 6.8 and avg_pressure > 98000 and avg_max_pressure > 22000) as t2\n",
    "    ORDER BY avg_cloud, avg_vis DESC, avg_rain, avg_max_pressure DESC, avg_gust DESC, avg_pressure DESC\n",
    "    Limit 3\n",
    "    ''').collect()\n",
    "\n",
    "for row in solar_location:\n",
    "    print (row)"
   ]
  },
  {
   "cell_type": "code",
   "execution_count": null,
   "metadata": {},
   "outputs": [],
   "source": [
    "lat_long_list = [gh.decode(row[0]) for row in solar_location]\n",
    "lat_long_list = [(float(row[0]), float(row[1])) for row in lat_long_list]\n",
    "\n",
    "wind_sol = gmaps.symbol_layer(\n",
    "    lat_long_list,\n",
    "    fill_color='red',\n",
    "    stroke_color='red',\n",
    ")\n",
    "fig = gmaps.figure()\n",
    "fig.add_layer(wind_sol)\n",
    "fig"
   ]
  },
  {
   "cell_type": "markdown",
   "metadata": {},
   "source": [
    "![Solar_Wind](img/Wind_Sol.png)"
   ]
  },
  {
   "cell_type": "markdown",
   "metadata": {},
   "source": [
    "### Analysis\n",
    "\n",
    "Many of the result was expected. The Trend seems to be SOLAR farms tend to be located near the south (Unsuprisingly San Diego is a great place to place a solar farm :))\n",
    "\n",
    "However places to put WIND farms seem to be less desirable all in the cold north near the top of canada.\n",
    "When we fuse these two and look for places for both wind and solar those seem to be located near the middle between the optimal place for solar and wind farms. (Also kind of makes sense but not really expected)"
   ]
  },
  {
   "cell_type": "code",
   "execution_count": null,
   "metadata": {},
   "outputs": [],
   "source": []
  }
 ],
 "metadata": {
  "kernelspec": {
   "display_name": "Python 3",
   "language": "python",
   "name": "python3"
  },
  "language_info": {
   "codemirror_mode": {
    "name": "ipython",
    "version": 3
   },
   "file_extension": ".py",
   "mimetype": "text/x-python",
   "name": "python",
   "nbconvert_exporter": "python",
   "pygments_lexer": "ipython3",
   "version": "3.7.1"
  }
 },
 "nbformat": 4,
 "nbformat_minor": 2
}
