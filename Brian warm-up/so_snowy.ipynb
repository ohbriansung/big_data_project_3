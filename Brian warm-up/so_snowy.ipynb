{
 "cells": [
  {
   "cell_type": "markdown",
   "metadata": {},
   "source": [
    "# 1. Sample Dataset 2015-12"
   ]
  },
  {
   "cell_type": "code",
   "execution_count": 1,
   "metadata": {},
   "outputs": [],
   "source": [
    "import matplotlib.pyplot as plt\n",
    "import numpy as np\n",
    "import geohash2 as gh\n",
    "import gmaps\n",
    "import gmaps.datasets\n",
    "import os\n",
    "\n",
    "from pyspark.sql.types import StructType, StructField, FloatType, LongType, StringType\n",
    "from datetime import datetime\n",
    "\n",
    "gmaps.configure(api_key=os.environ[\"GOOGLE_API_KEY\"])"
   ]
  },
  {
   "cell_type": "markdown",
   "metadata": {},
   "source": [
    "## Create schema"
   ]
  },
  {
   "cell_type": "code",
   "execution_count": 2,
   "metadata": {
    "scrolled": true
   },
   "outputs": [
    {
     "name": "stdout",
     "output_type": "stream",
     "text": [
      "StructType(List(StructField(Timestamp,LongType,true),StructField(Geohash,StringType,true),StructField(geopotential_height_lltw,FloatType,true),StructField(water_equiv_of_accum_snow_depth_surface,FloatType,true),StructField(drag_coefficient_surface,FloatType,true),StructField(sensible_heat_net_flux_surface,FloatType,true),StructField(categorical_ice_pellets_yes1_no0_surface,FloatType,true),StructField(visibility_surface,FloatType,true),StructField(number_of_soil_layers_in_root_zone_surface,FloatType,true),StructField(categorical_freezing_rain_yes1_no0_surface,FloatType,true),StructField(pressure_reduced_to_msl_msl,FloatType,true),StructField(upward_short_wave_rad_flux_surface,FloatType,true),StructField(relative_humidity_zerodegc_isotherm,FloatType,true),StructField(categorical_snow_yes1_no0_surface,FloatType,true),StructField(u-component_of_wind_tropopause,FloatType,true),StructField(surface_wind_gust_surface,FloatType,true),StructField(total_cloud_cover_entire_atmosphere,FloatType,true),StructField(upward_long_wave_rad_flux_surface,FloatType,true),StructField(land_cover_land1_sea0_surface,FloatType,true),StructField(vegitation_type_as_in_sib_surface,FloatType,true),StructField(v-component_of_wind_pblri,FloatType,true),StructField(albedo_surface,FloatType,true),StructField(lightning_surface,FloatType,true),StructField(ice_cover_ice1_no_ice0_surface,FloatType,true),StructField(convective_inhibition_surface,FloatType,true),StructField(pressure_surface,FloatType,true),StructField(transpiration_stress-onset_soil_moisture_surface,FloatType,true),StructField(soil_porosity_surface,FloatType,true),StructField(vegetation_surface,FloatType,true),StructField(categorical_rain_yes1_no0_surface,FloatType,true),StructField(downward_long_wave_rad_flux_surface,FloatType,true),StructField(planetary_boundary_layer_height_surface,FloatType,true),StructField(soil_type_as_in_zobler_surface,FloatType,true),StructField(geopotential_height_cloud_base,FloatType,true),StructField(friction_velocity_surface,FloatType,true),StructField(maximumcomposite_radar_reflectivity_entire_atmosphere,FloatType,true),StructField(plant_canopy_surface_water_surface,FloatType,true),StructField(v-component_of_wind_maximum_wind,FloatType,true),StructField(geopotential_height_zerodegc_isotherm,FloatType,true),StructField(mean_sea_level_pressure_nam_model_reduction_msl,FloatType,true),StructField(temperature_surface,FloatType,true),StructField(snow_cover_surface,FloatType,true),StructField(geopotential_height_surface,FloatType,true),StructField(convective_available_potential_energy_surface,FloatType,true),StructField(latent_heat_net_flux_surface,FloatType,true),StructField(surface_roughness_surface,FloatType,true),StructField(pressure_maximum_wind,FloatType,true),StructField(temperature_tropopause,FloatType,true),StructField(geopotential_height_pblri,FloatType,true),StructField(pressure_tropopause,FloatType,true),StructField(snow_depth_surface,FloatType,true),StructField(v-component_of_wind_tropopause,FloatType,true),StructField(downward_short_wave_rad_flux_surface,FloatType,true),StructField(u-component_of_wind_maximum_wind,FloatType,true),StructField(wilting_point_surface,FloatType,true),StructField(precipitable_water_entire_atmosphere,FloatType,true),StructField(u-component_of_wind_pblri,FloatType,true),StructField(direct_evaporation_cease_soil_moisture_surface,FloatType,true)))\n"
     ]
    }
   ],
   "source": [
    "feats = []\n",
    "f = open('../features.txt')\n",
    "for line_num, line in enumerate(f):\n",
    "    if line_num == 0:\n",
    "        # Timestamp\n",
    "        feats.append(StructField(line.strip(), LongType(), True))\n",
    "    elif line_num == 1:\n",
    "        # Geohash\n",
    "        feats.append(StructField(line.strip(), StringType(), True))\n",
    "    else:\n",
    "        # Other features\n",
    "        feats.append(StructField(line.strip(), FloatType(), True))\n",
    "    \n",
    "schema = StructType(feats)\n",
    "\n",
    "print(schema)"
   ]
  },
  {
   "cell_type": "markdown",
   "metadata": {},
   "source": [
    "## Load sample data"
   ]
  },
  {
   "cell_type": "code",
   "execution_count": 3,
   "metadata": {},
   "outputs": [
    {
     "name": "stdout",
     "output_type": "stream",
     "text": [
      "CPU times: user 12.7 ms, sys: 5.24 ms, total: 17.9 ms\n",
      "Wall time: 11.3 s\n"
     ]
    }
   ],
   "source": [
    "%%time\n",
    "\n",
    "df = spark.read.format('csv').option('sep', '\\t').schema(schema).load('hdfs://orion11:13030/nam_tiny.tdv')\n",
    "df.take(1)"
   ]
  },
  {
   "cell_type": "markdown",
   "metadata": {},
   "source": [
    "## EDA about \"snow\"\n",
    "* Fields include snow keyword: water_equiv_of_accum_snow_depth_surface, categorical_snow_yes1_no0_surface, snow_cover_surface, snow_depth_surface"
   ]
  },
  {
   "cell_type": "code",
   "execution_count": 4,
   "metadata": {
    "scrolled": false
   },
   "outputs": [
    {
     "name": "stdout",
     "output_type": "stream",
     "text": [
      "+-------+---------------------------------------+---------------------------------+------------------+-------------------+\n",
      "|summary|water_equiv_of_accum_snow_depth_surface|categorical_snow_yes1_no0_surface|snow_cover_surface| snow_depth_surface|\n",
      "+-------+---------------------------------------+---------------------------------+------------------+-------------------+\n",
      "|  count|                                    100|                              100|               100|                100|\n",
      "|   mean|                                  29.28|                             0.06|              25.0|0.09450799790618475|\n",
      "| stddev|                      137.3906970517423|              0.23868325657594203|43.519413988924455| 0.2866969536458589|\n",
      "|    min|                                    0.0|                              0.0|               0.0|                0.0|\n",
      "|    max|                                 1321.0|                              1.0|             100.0|              2.128|\n",
      "+-------+---------------------------------------+---------------------------------+------------------+-------------------+\n",
      "\n"
     ]
    }
   ],
   "source": [
    "df.describe([\n",
    "    'water_equiv_of_accum_snow_depth_surface',\n",
    "    'categorical_snow_yes1_no0_surface',\n",
    "    'snow_cover_surface',\n",
    "    'snow_depth_surface',\n",
    "]).show()"
   ]
  },
  {
   "cell_type": "markdown",
   "metadata": {},
   "source": [
    "* The categorical_snow_yes1_no0_surface is the field to determine if it's snowy or not since other fields could be ther result of remaining snow. "
   ]
  },
  {
   "cell_type": "code",
   "execution_count": 5,
   "metadata": {},
   "outputs": [
    {
     "name": "stdout",
     "output_type": "stream",
     "text": [
      "Sonwy all year location count = 6\n"
     ]
    }
   ],
   "source": [
    "df.createOrReplaceTempView(\"TINY_NAM\")\n",
    "snowy_location = spark.sql(\n",
    "    f'''SELECT Geohash FROM TINY_NAM WHERE Geohash NOT IN (\n",
    "    SELECT Geohash FROM TINY_NAM WHERE categorical_snow_yes1_no0_surface = 0 GROUP BY Geohash\n",
    "    )'''\n",
    ").collect()\n",
    "print(f'Sonwy all year location count = {len(snowy_location)}')"
   ]
  },
  {
   "cell_type": "code",
   "execution_count": 6,
   "metadata": {},
   "outputs": [
    {
     "data": {
      "text/plain": [
       "['f2w29r4werxb',\n",
       " 'fccz22w4fytb',\n",
       " 'c1nuq5290jup',\n",
       " 'f2d5v1jeyp7z',\n",
       " 'c6s64488ws80',\n",
       " 'f2fh6jpdgv5b']"
      ]
     },
     "execution_count": 6,
     "metadata": {},
     "output_type": "execute_result"
    }
   ],
   "source": [
    "snowy_location = [row['Geohash'] for row in snowy_location]\n",
    "snowy_location"
   ]
  },
  {
   "cell_type": "markdown",
   "metadata": {},
   "source": [
    "* Here are all locations that were snowy all year.\n",
    "* I found some useful website to check the geohash:\n",
    "    * [http://geohash.gofreerange.com](http://geohash.gofreerange.com)\n",
    "    * [http://www.movable-type.co.uk/scripts/geohash.html](http://www.movable-type.co.uk/scripts/geohash.html)\n",
    "* The Geohash 'c1nuq5290jup' is the clostest one from San Francisco, which is located in Comox-Strathcona J, British Columbia, Canada. It's Latitude is 51.39012686, and it's Longitude is -125.24344845.\n",
    "* If the Geohash starts from 'f', it is located in the east coast.\n",
    "* Geohash 'c6s' is more northern than 'c1n'."
   ]
  },
  {
   "cell_type": "code",
   "execution_count": 7,
   "metadata": {},
   "outputs": [
    {
     "data": {
      "text/plain": [
       "[(47.939999, -69.902423),\n",
       " (56.121418, -53.769711),\n",
       " (51.390127, -125.243448),\n",
       " (48.477857, -75.709958),\n",
       " (59.427905, -117.684581),\n",
       " (49.993785, -75.839144)]"
      ]
     },
     "execution_count": 7,
     "metadata": {},
     "output_type": "execute_result"
    }
   ],
   "source": [
    "# Decode geohash into lat and long\n",
    "lat_long_list = [gh.decode(row) for row in snowy_location]\n",
    "lat_long_list = [(float(row[0]), float(row[1])) for row in lat_long_list]\n",
    "lat_long_list"
   ]
  },
  {
   "cell_type": "code",
   "execution_count": 15,
   "metadata": {},
   "outputs": [
    {
     "data": {
      "application/vnd.jupyter.widget-view+json": {
       "model_id": "f92b6d669ff94214aed0924240165e26",
       "version_major": 2,
       "version_minor": 0
      },
      "text/plain": [
       "Figure(layout=FigureLayout(height='420px'))"
      ]
     },
     "metadata": {},
     "output_type": "display_data"
    }
   ],
   "source": [
    "snowy_layer = gmaps.symbol_layer(\n",
    "    lat_long_list,\n",
    "    fill_color='red',\n",
    "    stroke_color='red',\n",
    "    hover_text=snowy_location,\n",
    ")\n",
    "fig = gmaps.figure()\n",
    "fig.add_layer(snowy_layer)\n",
    "fig"
   ]
  },
  {
   "cell_type": "markdown",
   "metadata": {},
   "source": [
    "![Figure](img/map_tiny.png)"
   ]
  },
  {
   "cell_type": "markdown",
   "metadata": {},
   "source": [
    "## S dataset"
   ]
  },
  {
   "cell_type": "code",
   "execution_count": 3,
   "metadata": {},
   "outputs": [
    {
     "name": "stdout",
     "output_type": "stream",
     "text": [
      "+-------------+------------+------------------------+---------------------------------------+------------------------+------------------------------+----------------------------------------+------------------+------------------------------------------+------------------------------------------+---------------------------+----------------------------------+-----------------------------------+---------------------------------+------------------------------+-------------------------+-----------------------------------+---------------------------------+-----------------------------+---------------------------------+-------------------------+--------------+-----------------+------------------------------+-----------------------------+----------------+------------------------------------------------+---------------------+------------------+---------------------------------+-----------------------------------+---------------------------------------+------------------------------+------------------------------+-------------------------+-----------------------------------------------------+----------------------------------+--------------------------------+-------------------------------------+-----------------------------------------------+-------------------+------------------+---------------------------+---------------------------------------------+----------------------------+-------------------------+---------------------+----------------------+-------------------------+-------------------+------------------+------------------------------+------------------------------------+--------------------------------+---------------------+------------------------------------+-------------------------+----------------------------------------------+\n",
      "|    Timestamp|     Geohash|geopotential_height_lltw|water_equiv_of_accum_snow_depth_surface|drag_coefficient_surface|sensible_heat_net_flux_surface|categorical_ice_pellets_yes1_no0_surface|visibility_surface|number_of_soil_layers_in_root_zone_surface|categorical_freezing_rain_yes1_no0_surface|pressure_reduced_to_msl_msl|upward_short_wave_rad_flux_surface|relative_humidity_zerodegc_isotherm|categorical_snow_yes1_no0_surface|u-component_of_wind_tropopause|surface_wind_gust_surface|total_cloud_cover_entire_atmosphere|upward_long_wave_rad_flux_surface|land_cover_land1_sea0_surface|vegitation_type_as_in_sib_surface|v-component_of_wind_pblri|albedo_surface|lightning_surface|ice_cover_ice1_no_ice0_surface|convective_inhibition_surface|pressure_surface|transpiration_stress-onset_soil_moisture_surface|soil_porosity_surface|vegetation_surface|categorical_rain_yes1_no0_surface|downward_long_wave_rad_flux_surface|planetary_boundary_layer_height_surface|soil_type_as_in_zobler_surface|geopotential_height_cloud_base|friction_velocity_surface|maximumcomposite_radar_reflectivity_entire_atmosphere|plant_canopy_surface_water_surface|v-component_of_wind_maximum_wind|geopotential_height_zerodegc_isotherm|mean_sea_level_pressure_nam_model_reduction_msl|temperature_surface|snow_cover_surface|geopotential_height_surface|convective_available_potential_energy_surface|latent_heat_net_flux_surface|surface_roughness_surface|pressure_maximum_wind|temperature_tropopause|geopotential_height_pblri|pressure_tropopause|snow_depth_surface|v-component_of_wind_tropopause|downward_short_wave_rad_flux_surface|u-component_of_wind_maximum_wind|wilting_point_surface|precipitable_water_entire_atmosphere|u-component_of_wind_pblri|direct_evaporation_cease_soil_moisture_surface|\n",
      "+-------------+------------+------------------------+---------------------------------------+------------------------+------------------------------+----------------------------------------+------------------+------------------------------------------+------------------------------------------+---------------------------+----------------------------------+-----------------------------------+---------------------------------+------------------------------+-------------------------+-----------------------------------+---------------------------------+-----------------------------+---------------------------------+-------------------------+--------------+-----------------+------------------------------+-----------------------------+----------------+------------------------------------------------+---------------------+------------------+---------------------------------+-----------------------------------+---------------------------------------+------------------------------+------------------------------+-------------------------+-----------------------------------------------------+----------------------------------+--------------------------------+-------------------------------------+-----------------------------------------------+-------------------+------------------+---------------------------+---------------------------------------------+----------------------------+-------------------------+---------------------+----------------------+-------------------------+-------------------+------------------+------------------------------+------------------------------------+--------------------------------+---------------------+------------------------------------+-------------------------+----------------------------------------------+\n",
      "|1438754400000|f2jv9b26m9kp|                2569.937|                                    0.0|                     0.0|                     -10.10498|                                     0.0|         24222.275|                                       4.0|                                       0.0|                   101019.0|                               0.0|                               57.0|                              0.0|                     20.623413|                 6.131471|                               60.0|                          354.625|                          1.0|                              5.0|                2.7563553|         17.75|              0.0|                           0.0|                    -95.15674|         96846.0|                                      0.32999998|                  0.5|             95.75|                              0.0|                           310.1922|                                 381.25|                           6.0|                        8194.0|               0.25018185|                                                -20.0|                             0.065|                       21.131699|                               3020.0|                                       101016.0|          281.25854|               0.0|                     356.57|                                         20.0|                  -1.3343506|                 2.062516|            25127.867|             222.41522|                 152.3127|          26495.574|               0.0|                     21.209106|                                 0.0|                       21.180878|              0.06625|                           24.311327|                4.1440125|                                       0.06625|\n",
      "|1439748000000|c0r6zjuefu2p|               2538.4978|                                    0.0|                     0.0|                      4.395767|                                     0.0|         24220.164|                                       0.0|                                       0.0|                   102543.0|                         40.048077|                               17.0|                              0.0|                     23.075073|                 5.616594|                                0.0|                           384.25|                          0.0|                              0.0|                 -6.14946|           6.0|              0.0|                           0.0|                   0.79541016|        102543.0|                                             0.0|                  0.0|               0.0|                              0.0|                          326.71014|                                 496.75|                           0.0|                         231.0|               0.18861061|                                                -20.0|                               0.0|                      -30.519485|                            3892.4429|                                       102543.0|          289.06982|               0.0|                 0.07002258|                                         20.0|                   23.906555|             1.5900003E-5|            21927.902|              213.5431|                498.82104|          19264.445|               0.0|                    -22.412338|                           707.97095|                        22.67125|                  0.0|                            20.39285|               0.85931396|                                           0.0|\n",
      "|1440547200000|f26y8y56pn7z|               2745.0647|                                    0.0|                     0.0|                    -11.783951|                                     0.0|         24222.264|                                       4.0|                                       0.0|                   101043.0|                               0.0|                               84.0|                              0.0|                     11.288818|                 5.903287|                                6.0|                        375.22974|                          1.0|                              5.0|                5.0123386|          14.0|              0.0|                           0.0|                    -2.550293|         95664.0|                                          0.2825|                  0.5|             86.25|                              0.0|                           309.2537|                                  949.0|                           2.0|                       -4045.5|                0.4037358|                                             -16.6875|                            0.0425|                       28.511398|                            2905.8228|                                       101027.0|          285.27368|               0.0|                     464.82|                                        120.0|                    -1.92482|                 2.062516|            26127.727|             227.00537|                273.58722|          26388.113|               0.0|                     28.503906|                                 0.0|                        11.24057|               0.0275|                           23.475079|                0.6616621|                                        0.0275|\n",
      "+-------------+------------+------------------------+---------------------------------------+------------------------+------------------------------+----------------------------------------+------------------+------------------------------------------+------------------------------------------+---------------------------+----------------------------------+-----------------------------------+---------------------------------+------------------------------+-------------------------+-----------------------------------+---------------------------------+-----------------------------+---------------------------------+-------------------------+--------------+-----------------+------------------------------+-----------------------------+----------------+------------------------------------------------+---------------------+------------------+---------------------------------+-----------------------------------+---------------------------------------+------------------------------+------------------------------+-------------------------+-----------------------------------------------------+----------------------------------+--------------------------------+-------------------------------------+-----------------------------------------------+-------------------+------------------+---------------------------+---------------------------------------------+----------------------------+-------------------------+---------------------+----------------------+-------------------------+-------------------+------------------+------------------------------+------------------------------------+--------------------------------+---------------------+------------------------------------+-------------------------+----------------------------------------------+\n",
      "only showing top 3 rows\n",
      "\n",
      "CPU times: user 15.7 ms, sys: 4.03 ms, total: 19.8 ms\n",
      "Wall time: 2min 25s\n"
     ]
    }
   ],
   "source": [
    "%%time\n",
    "\n",
    "df = spark.read.format('csv').option('sep', '\\t').schema(schema).load('hdfs://orion11:13030/nam_s/*')\n",
    "df.show(3)"
   ]
  },
  {
   "cell_type": "code",
   "execution_count": 4,
   "metadata": {},
   "outputs": [
    {
     "name": "stdout",
     "output_type": "stream",
     "text": [
      "+------------+\n",
      "|     Geohash|\n",
      "+------------+\n",
      "|c41kxf2pgq00|\n",
      "|9mf6wz2s507z|\n",
      "|dmejh7g1xshp|\n",
      "|dptu4jbqrvgz|\n",
      "|c2xm7h3qt5rz|\n",
      "|9q218mtp4500|\n",
      "|dhp2heqfhvs0|\n",
      "|dxwr6qw3q1fp|\n",
      "|f8w3y0dukx6p|\n",
      "|9tny7zv632rb|\n",
      "+------------+\n",
      "only showing top 10 rows\n",
      "\n",
      "CPU times: user 17.6 ms, sys: 3.36 ms, total: 20.9 ms\n",
      "Wall time: 2min 55s\n"
     ]
    }
   ],
   "source": [
    "%%time\n",
    "\n",
    "df.createOrReplaceTempView('NAM')\n",
    "non_snowy_location = spark.sql(\n",
    "    'SELECT Geohash FROM NAM WHERE categorical_snow_yes1_no0_surface = 0 GROUP BY Geohash'\n",
    ")\n",
    "non_snowy_location.show(10)"
   ]
  },
  {
   "cell_type": "code",
   "execution_count": null,
   "metadata": {},
   "outputs": [],
   "source": [
    "%%time\n",
    "\n",
    "non_snowy_location.createOrReplaceTempView('NON_SNOWY')\n",
    "snowy_location = spark.sql(\n",
    "    'SELECT Geohash FROM NAM WHERE Geohash NOT IN (SELECT Geohash FROM NON_SNOWY)'\n",
    ")\n",
    "snowy_location.show(10)"
   ]
  },
  {
   "cell_type": "code",
   "execution_count": null,
   "metadata": {},
   "outputs": [],
   "source": []
  }
 ],
 "metadata": {
  "kernelspec": {
   "display_name": "Python 3",
   "language": "python",
   "name": "python3"
  },
  "language_info": {
   "codemirror_mode": {
    "name": "ipython",
    "version": 3
   },
   "file_extension": ".py",
   "mimetype": "text/x-python",
   "name": "python",
   "nbconvert_exporter": "python",
   "pygments_lexer": "ipython3",
   "version": "3.6.5"
  }
 },
 "nbformat": 4,
 "nbformat_minor": 2
}
