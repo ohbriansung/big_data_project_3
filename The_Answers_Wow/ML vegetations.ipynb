{
 "cells": [
  {
   "cell_type": "code",
   "execution_count": 2,
   "metadata": {},
   "outputs": [],
   "source": [
    "from pyspark.sql.types import StructType, StructField, FloatType, LongType, StringType\n",
    "\n",
    "feats = []\n",
    "f = open('../features.txt')\n",
    "for line_num, line in enumerate(f):\n",
    "    if line_num == 0:\n",
    "        # Timestamp\n",
    "        feats.append(StructField(line.strip(), LongType(), True))\n",
    "    elif line_num == 1:\n",
    "        # Geohash\n",
    "        feats.append(StructField(line.strip(), StringType(), True))\n",
    "    else:\n",
    "        # Other features\n",
    "        feats.append(StructField(line.strip(), FloatType(), True))\n",
    "    \n",
    "schema = StructType(feats)"
   ]
  },
  {
   "cell_type": "code",
   "execution_count": 3,
   "metadata": {},
   "outputs": [
    {
     "name": "stdout",
     "output_type": "stream",
     "text": [
      "CPU times: user 77.4 ms, sys: 36.9 ms, total: 114 ms\n",
      "Wall time: 5min 24s\n"
     ]
    }
   ],
   "source": [
    "%%time\n",
    "\n",
    "df = spark.read.format('csv').option('sep', '\\t').schema(schema).load('hdfs://orion11:30999/nam/data/nam_s')\n",
    "df.take(1)"
   ]
  },
  {
   "cell_type": "markdown",
   "metadata": {},
   "source": [
    "## Finding Featueres\n",
    "\n",
    "For this part of the project we want to be able predict vegitation surface based on a certain number a features.\n",
    "Initially we chose features with a higher Pearson Correlation Coeffient to decide which features to include and include ALL of them. However this in the end lead to a very high RMSE Since we had way to many features included (RMSE for our first attempt was almost 40%) For the following we trimmed the features down to slightly less and got some slight improvement.\n",
    "\n",
    "For the trial below we used \"direct_evaporation_cease_soil_moisture_surface\", \"precipitable_water_entire_atmosphere\", \"soil_porosity_surface\", \"direct_evaporation_cease_soil_moisture_surface\".\n",
    "Mostly features that relate to the soil in the ground."
   ]
  },
  {
   "cell_type": "code",
   "execution_count": 5,
   "metadata": {},
   "outputs": [],
   "source": [
    "from pyspark.ml.feature import VectorAssembler\n",
    "\n",
    "def prepare_data(dframe, predictors, target):\n",
    "    assembler = VectorAssembler(inputCols=predictors, outputCol=\"features\")\n",
    "    output = assembler.transform(dframe)\n",
    "    return output.select(\"features\", target).withColumnRenamed(target, \"label\")"
   ]
  },
  {
   "cell_type": "code",
   "execution_count": 3,
   "metadata": {},
   "outputs": [
    {
     "name": "stdout",
     "output_type": "stream",
     "text": [
      "+--------------------+-----+\n",
      "|            features|label|\n",
      "+--------------------+-----+\n",
      "|[0.06624999642372...|95.75|\n",
      "|(4,[1],[20.392850...|  0.0|\n",
      "|[0.02749999985098...|86.25|\n",
      "|(4,[1],[55.483531...|  0.0|\n",
      "|[0.04749999940395...|41.25|\n",
      "|(4,[1],[27.725078...|  0.0|\n",
      "|[0.13499999046325...| 64.5|\n",
      "|(4,[1],[17.061397...|  0.0|\n",
      "|(4,[1],[23.348155...|  0.0|\n",
      "|(4,[1],[53.529350...|  0.0|\n",
      "|(4,[1],[39.825428...|  0.0|\n",
      "|(4,[1],[26.067039...|  0.0|\n",
      "|[0.04749999940395...| 77.0|\n",
      "|(4,[1],[26.277297...|  0.0|\n",
      "|(4,[1],[25.827457...|  0.0|\n",
      "|[0.06624999642372...|43.25|\n",
      "|[0.06624999642372...| 58.0|\n",
      "|(4,[1],[53.584957...|  0.0|\n",
      "|(4,[1],[53.376407...|  0.0|\n",
      "|(4,[1],[54.270172...|  0.0|\n",
      "+--------------------+-----+\n",
      "only showing top 20 rows\n",
      "\n"
     ]
    }
   ],
   "source": [
    "\n",
    "\n",
    "prepped = prepare_data(df,\n",
    "    [ \"direct_evaporation_cease_soil_moisture_surface\", \n",
    "         \"precipitable_water_entire_atmosphere\", \n",
    "         \"soil_porosity_surface\",\n",
    "        \"direct_evaporation_cease_soil_moisture_surface\"],\n",
    "    \"vegetation_surface\")\n",
    "\n",
    "prepped.show()\n",
    "(trainingData, testData) = prepped.randomSplit([0.9, 0.1])"
   ]
  },
  {
   "cell_type": "code",
   "execution_count": 4,
   "metadata": {
    "scrolled": true
   },
   "outputs": [
    {
     "name": "stdout",
     "output_type": "stream",
     "text": [
      "Root Mean Squared Error (RMSE) on test data = 14.0523\n",
      "CPU times: user 411 ms, sys: 188 ms, total: 599 ms\n",
      "Wall time: 36min 4s\n"
     ]
    }
   ],
   "source": [
    "%%time \n",
    "from pyspark.ml.regression import RandomForestRegressor\n",
    "from pyspark.ml.evaluation import RegressionEvaluator\n",
    "\n",
    "rf = RandomForestRegressor(numTrees=100, maxDepth=5, maxBins=32)\n",
    "model = rf.fit(trainingData)\n",
    "predictions = model.transform(testData)\n",
    "\n",
    "evaluator = RegressionEvaluator(\n",
    "    labelCol=\"label\", predictionCol=\"prediction\", metricName=\"rmse\")\n",
    "rmse = evaluator.evaluate(predictions)\n",
    "print(\"Root Mean Squared Error (RMSE) on test data = %g\" % rmse)"
   ]
  },
  {
   "cell_type": "markdown",
   "metadata": {},
   "source": [
    "As Shown above this did not produce an accruate model at all. Perhaps we need to trim the features even more.\n"
   ]
  },
  {
   "cell_type": "code",
   "execution_count": 7,
   "metadata": {},
   "outputs": [
    {
     "data": {
      "image/png": "[encoded data removed]",
      "text/plain": [
       "<Figure size 432x288 with 1 Axes>"
      ]
     },
     "metadata": {},
     "output_type": "display_data"
    }
   ],
   "source": [
    "import matplotlib.pyplot as plt\n",
    "pdf = predictions.sample(False, 0.1)\n",
    "p_df = pdf.select(\"label\", \"prediction\").toPandas()\n",
    "\n",
    "plt.suptitle('Random Forest Regressor', fontsize=16)\n",
    "\n",
    "minval = p_df[['label', 'prediction']].min().min()\n",
    "maxval = p_df[['label', 'prediction']].max().max()\n",
    "plt.axis([minval, maxval, minval, maxval])\n",
    "\n",
    "plt.plot(p_df['label'], p_df['prediction'], '.', color='#2ba5f1')\n",
    "plt.plot(range(int(minval), int(maxval)), range(int(minval), int(maxval)), lw=3, dashes=(10, 3), color='#000000', alpha=0.25, label='Ideal Predictor')\n",
    "plt.show()"
   ]
  },
  {
   "cell_type": "markdown",
   "metadata": {},
   "source": [
    "## MORE TRIMMING\n",
    "\n",
    "For here we will remove some of the soil features and add in rainfall as a feature to measure\n",
    "\n"
   ]
  },
  {
   "cell_type": "code",
   "execution_count": 8,
   "metadata": {},
   "outputs": [
    {
     "name": "stdout",
     "output_type": "stream",
     "text": [
      "+--------------------+-----+\n",
      "|            features|label|\n",
      "+--------------------+-----+\n",
      "|[24.3113269805908...|95.75|\n",
      "|[20.3928508758544...|  0.0|\n",
      "|[23.4750785827636...|86.25|\n",
      "|[55.4835319519043...|  0.0|\n",
      "|[17.9072780609130...|41.25|\n",
      "|[27.7250785827636...|  0.0|\n",
      "|[48.6899909973144...| 64.5|\n",
      "|[17.0613975524902...|  0.0|\n",
      "|[23.3481559753417...|  0.0|\n",
      "|[53.5293502807617...|  0.0|\n",
      "|[39.8254280090332...|  0.0|\n",
      "|[26.0670394897460...|  0.0|\n",
      "|[45.5307846069335...| 77.0|\n",
      "|[26.2772979736328...|  0.0|\n",
      "|[25.8274574279785...|  0.0|\n",
      "|[19.0562362670898...|43.25|\n",
      "|[29.5487270355224...| 58.0|\n",
      "|[53.5849571228027...|  0.0|\n",
      "|[53.3764076232910...|  0.0|\n",
      "|[54.2701721191406...|  0.0|\n",
      "+--------------------+-----+\n",
      "only showing top 20 rows\n",
      "\n"
     ]
    }
   ],
   "source": [
    "prepped = prepare_data(df,\n",
    "    [  \"precipitable_water_entire_atmosphere\", \n",
    "         \"soil_porosity_surface\",\n",
    "        \"categorical_rain_yes1_no0_surface\"\n",
    "],\n",
    "    \"vegetation_surface\")\n",
    "\n",
    "prepped.show()\n",
    "(trainingData, testData) = prepped.randomSplit([0.9, 0.1])"
   ]
  },
  {
   "cell_type": "code",
   "execution_count": 9,
   "metadata": {},
   "outputs": [
    {
     "name": "stdout",
     "output_type": "stream",
     "text": [
      "Root Mean Squared Error (RMSE) on test data = 16.4057\n",
      "CPU times: user 498 ms, sys: 252 ms, total: 750 ms\n",
      "Wall time: 47min 9s\n"
     ]
    }
   ],
   "source": [
    "%%time \n",
    "from pyspark.ml.regression import RandomForestRegressor\n",
    "from pyspark.ml.evaluation import RegressionEvaluator\n",
    "\n",
    "rf = RandomForestRegressor(numTrees=100, maxDepth=5, maxBins=32)\n",
    "model = rf.fit(trainingData)\n",
    "predictions = model.transform(testData)\n",
    "\n",
    "evaluator = RegressionEvaluator(\n",
    "    labelCol=\"label\", predictionCol=\"prediction\", metricName=\"rmse\")\n",
    "rmse = evaluator.evaluate(predictions)\n",
    "print(\"Root Mean Squared Error (RMSE) on test data = %g\" % rmse)"
   ]
  },
  {
   "cell_type": "code",
   "execution_count": 10,
   "metadata": {},
   "outputs": [
    {
     "data": {
      "image/png": "[encoded data removed]",
      "text/plain": [
       "<Figure size 432x288 with 1 Axes>"
      ]
     },
     "metadata": {},
     "output_type": "display_data"
    }
   ],
   "source": [
    "import matplotlib.pyplot as plt\n",
    "pdf = predictions.sample(False, 0.1)\n",
    "p_df = pdf.select(\"label\", \"prediction\").toPandas()\n",
    "\n",
    "plt.suptitle('Random Forest Regressor', fontsize=16)\n",
    "\n",
    "minval = p_df[['label', 'prediction']].min().min()\n",
    "maxval = p_df[['label', 'prediction']].max().max()\n",
    "plt.axis([minval, maxval, minval, maxval])\n",
    "\n",
    "plt.plot(p_df['label'], p_df['prediction'], '.', color='#2ba5f1')\n",
    "plt.plot(range(int(minval), int(maxval)), range(int(minval), int(maxval)), lw=3, dashes=(10, 3), color='#000000', alpha=0.25, label='Ideal Predictor')\n",
    "plt.show()"
   ]
  },
  {
   "cell_type": "markdown",
   "metadata": {},
   "source": [
    "Not much better. When looking into the pearson correlations there does not seem like there is a feature that is nessessarily correlated with vegetation. For Now we can attempt to predict a different feature with more correlated features...\n"
   ]
  },
  {
   "cell_type": "code",
   "execution_count": 6,
   "metadata": {},
   "outputs": [
    {
     "name": "stdout",
     "output_type": "stream",
     "text": [
      "+--------------------+-----+\n",
      "|            features|label|\n",
      "+--------------------+-----+\n",
      "|[0.32999998331069...|  4.0|\n",
      "|           (4,[],[])|  0.0|\n",
      "|[0.28249999880790...|  4.0|\n",
      "|           (4,[],[])|  0.0|\n",
      "|[0.3125,1.0,0.5,0...|  4.0|\n",
      "|           (4,[],[])|  0.0|\n",
      "|[0.40250000357627...|  3.0|\n",
      "|           (4,[],[])|  0.0|\n",
      "|           (4,[],[])|  0.0|\n",
      "|           (4,[],[])|  0.0|\n",
      "|           (4,[],[])|  0.0|\n",
      "|           (4,[],[])|  0.0|\n",
      "|[0.3125,1.0,0.5,0...|  4.0|\n",
      "|           (4,[],[])|  0.0|\n",
      "|           (4,[],[])|  0.0|\n",
      "|[0.32999998331069...|  3.0|\n",
      "|[0.32999998331069...|  4.0|\n",
      "|           (4,[],[])|  0.0|\n",
      "|           (4,[],[])|  0.0|\n",
      "|           (4,[],[])|  0.0|\n",
      "+--------------------+-----+\n",
      "only showing top 20 rows\n",
      "\n"
     ]
    }
   ],
   "source": [
    "prepped = prepare_data(df,\n",
    "    [  \"transpiration_stress-onset_soil_moisture_surface\", \n",
    "         \"land_cover_land1_sea0_surface\",\n",
    "        \"soil_porosity_surface\",\n",
    "         \"wilting_point_surface\"\n",
    "],\n",
    "    \"number_of_soil_layers_in_root_zone_surface\")\n",
    "\n",
    "prepped.show()\n",
    "(trainingData, testData) = prepped.randomSplit([0.9, 0.1])"
   ]
  },
  {
   "cell_type": "code",
   "execution_count": 7,
   "metadata": {},
   "outputs": [
    {
     "name": "stdout",
     "output_type": "stream",
     "text": [
      "Root Mean Squared Error (RMSE) on test data = 0.358309\n",
      "CPU times: user 391 ms, sys: 162 ms, total: 552 ms\n",
      "Wall time: 28min 19s\n"
     ]
    }
   ],
   "source": [
    "%%time \n",
    "from pyspark.ml.regression import RandomForestRegressor\n",
    "from pyspark.ml.evaluation import RegressionEvaluator\n",
    "\n",
    "rf = RandomForestRegressor(numTrees=100, maxDepth=5, maxBins=32)\n",
    "model = rf.fit(trainingData)\n",
    "predictions = model.transform(testData)\n",
    "\n",
    "evaluator = RegressionEvaluator(\n",
    "    labelCol=\"label\", predictionCol=\"prediction\", metricName=\"rmse\")\n",
    "rmse = evaluator.evaluate(predictions)\n",
    "print(\"Root Mean Squared Error (RMSE) on test data = %g\" % rmse)"
   ]
  },
  {
   "cell_type": "code",
   "execution_count": 9,
   "metadata": {},
   "outputs": [
    {
     "data": {
      "image/png": "[encoded data removed]",
      "text/plain": [
       "<Figure size 432x288 with 1 Axes>"
      ]
     },
     "metadata": {
      "needs_background": "light"
     },
     "output_type": "display_data"
    }
   ],
   "source": [
    "import matplotlib.pyplot as plt\n",
    "pdf = predictions.sample(False, 0.1)\n",
    "p_df = pdf.select(\"label\", \"prediction\").toPandas()\n",
    "\n",
    "plt.suptitle('Random Forest Regressor', fontsize=16)\n",
    "\n",
    "minval = p_df[['label', 'prediction']].min().min()\n",
    "maxval = p_df[['label', 'prediction']].max().max()\n",
    "plt.axis([minval, maxval, minval, maxval])\n",
    "\n",
    "plt.plot(p_df['label'], p_df['prediction'], '.', color='#2ba5f1')\n",
    "plt.plot(range(int(minval), int(maxval)), range(int(minval), int(maxval)), lw=3, dashes=(10, 3), color='#000000', alpha=0.25, label='Ideal Predictor')\n",
    "plt.show()"
   ]
  },
  {
   "cell_type": "code",
   "execution_count": null,
   "metadata": {},
   "outputs": [],
   "source": []
  }
 ],
 "metadata": {
  "kernelspec": {
   "display_name": "Python 3",
   "language": "python",
   "name": "python3"
  },
  "language_info": {
   "codemirror_mode": {
    "name": "ipython",
    "version": 3
   },
   "file_extension": ".py",
   "mimetype": "text/x-python",
   "name": "python",
   "nbconvert_exporter": "python",
   "pygments_lexer": "ipython3",
   "version": "3.7.1"
  }
 },
 "nbformat": 4,
 "nbformat_minor": 2
}
