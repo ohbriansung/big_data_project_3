{
 "cells": [
  {
   "cell_type": "markdown",
   "metadata": {},
   "source": [
    "# Unknown Feature\n",
    "\n",
    "In this notebook, I try to figure out what the feature \"geopotential_height_zerodegc_isotherm\" is.\n",
    "\n",
    "I expect it to be something about the height, but not of the ground."
   ]
  },
  {
   "cell_type": "markdown",
   "metadata": {},
   "source": [
    "## Initializing\n",
    "\n",
    "First we initialize the data and load it into spark. I'm loading the smaller data set for a faster turn around time."
   ]
  },
  {
   "cell_type": "code",
   "execution_count": 1,
   "metadata": {},
   "outputs": [],
   "source": [
    "from pyspark.sql.types import StructType, StructField, FloatType, LongType, StringType"
   ]
  },
  {
   "cell_type": "code",
   "execution_count": 2,
   "metadata": {},
   "outputs": [],
   "source": [
    "hdfs_port = \"hdfs://orion11:26990\"\n",
    "# data_path = \"/nam_s/nam_201501_s*\"\n",
    "data_path = \"/nam_s/*\"\n",
    "# data_path = \"/sample/nam_tiny*\""
   ]
  },
  {
   "cell_type": "code",
   "execution_count": 3,
   "metadata": {},
   "outputs": [],
   "source": [
    "feats = []\n",
    "f = open('../features.txt')\n",
    "for line_num, line in enumerate(f):\n",
    "    line = line.strip()\n",
    "    if line_num == 0:\n",
    "        # Timestamp\n",
    "        feats.append(StructField(line, LongType(), True))\n",
    "    elif line_num == 1:\n",
    "        # Geohash\n",
    "        feats.append(StructField(line, StringType(), True))\n",
    "    else:\n",
    "        # Other features\n",
    "        feats.append(StructField(line, FloatType(), True))\n",
    "        \n",
    "    \n",
    "schema = StructType(feats)"
   ]
  },
  {
   "cell_type": "code",
   "execution_count": 4,
   "metadata": {},
   "outputs": [
    {
     "name": "stdout",
     "output_type": "stream",
     "text": [
      "CPU times: user 2.61 ms, sys: 554 µs, total: 3.17 ms\n",
      "Wall time: 7.2 s\n"
     ]
    }
   ],
   "source": [
    "%%time\n",
    "\n",
    "df = spark.read.format('csv').option('sep', '\\t').schema(schema).load(f'{hdfs_port}{data_path}')"
   ]
  },
  {
   "cell_type": "markdown",
   "metadata": {},
   "source": [
    "## Description\n",
    "\n",
    "After running describe, we notice that the height is on average much taller than sea level, a lot more than I'd expect of the height of the ground. I'm not quite sure what this height means though."
   ]
  },
  {
   "cell_type": "code",
   "execution_count": 5,
   "metadata": {},
   "outputs": [
    {
     "name": "stdout",
     "output_type": "stream",
     "text": [
      "+-------+-------------------------------------+\n",
      "|summary|geopotential_height_zerodegc_isotherm|\n",
      "+-------+-------------------------------------+\n",
      "|  count|                            108000000|\n",
      "|   mean|                   3093.3220493037425|\n",
      "| stddev|                    1753.024775297478|\n",
      "|    min|                                  0.0|\n",
      "|    max|                               6380.0|\n",
      "+-------+-------------------------------------+\n",
      "\n"
     ]
    }
   ],
   "source": [
    "df.describe(\"geopotential_height_zerodegc_isotherm\").show()"
   ]
  },
  {
   "cell_type": "markdown",
   "metadata": {},
   "source": [
    "## Research\n",
    "\n",
    "After doing some minimal research I've found that it is the \"lower tropospheric zero degree Celsius isotherm\" (from http://www.theweatherprediction.com/habyhints/98/). I'm assuming that this means the height at which the air is 0 degrees celsius."
   ]
  }
 ],
 "metadata": {
  "kernelspec": {
   "display_name": "Python 3",
   "language": "python",
   "name": "python3"
  },
  "language_info": {
   "codemirror_mode": {
    "name": "ipython",
    "version": 3
   },
   "file_extension": ".py",
   "mimetype": "text/x-python",
   "name": "python",
   "nbconvert_exporter": "python",
   "pygments_lexer": "ipython3",
   "version": "3.7.1"
  }
 },
 "nbformat": 4,
 "nbformat_minor": 2
}
