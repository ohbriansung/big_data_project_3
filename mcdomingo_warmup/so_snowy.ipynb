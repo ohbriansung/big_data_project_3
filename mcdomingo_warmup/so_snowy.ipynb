{
 "cells": [
  {
   "cell_type": "markdown",
   "metadata": {},
   "source": [
    "# So Snowy\n",
    "\n"
   ]
  },
  {
   "cell_type": "code",
   "execution_count": 1,
   "metadata": {},
   "outputs": [],
   "source": [
    "from pyspark.sql.types import StructType, StructField, FloatType, LongType, StringType\n",
    "import pyspark.sql.functions as F\n",
    "import numpy as np\n",
    "\n",
    "from scipy.constants import convert_temperature\n",
    "\n",
    "from datetime import datetime"
   ]
  },
  {
   "cell_type": "code",
   "execution_count": 2,
   "metadata": {},
   "outputs": [],
   "source": [
    "hdfs_port = \"hdfs://orion11:26990\"\n",
    "# data_path = \"/nam_s/nam_201501_s*\"\n",
    "data_path = \"/nam_s/*\"\n",
    "# data_path = \"/sample/nam_tiny*\""
   ]
  },
  {
   "cell_type": "code",
   "execution_count": 3,
   "metadata": {},
   "outputs": [],
   "source": [
    "feats = []\n",
    "f = open('../features.txt')\n",
    "for line_num, line in enumerate(f):\n",
    "    line = line.strip()\n",
    "    if line_num == 0:\n",
    "        # Timestamp\n",
    "        feats.append(StructField(line, LongType(), True))\n",
    "    elif line_num == 1:\n",
    "        # Geohash\n",
    "        feats.append(StructField(line, StringType(), True))\n",
    "    else:\n",
    "        # Other features\n",
    "        feats.append(StructField(line, FloatType(), True))\n",
    "    \n",
    "schema = StructType(feats)"
   ]
  },
  {
   "cell_type": "code",
   "execution_count": 4,
   "metadata": {},
   "outputs": [],
   "source": [
    "df = spark.read.format('csv').option('sep', '\\t').schema(schema).load(f'{hdfs_port}{data_path}')"
   ]
  },
  {
   "cell_type": "markdown",
   "metadata": {},
   "source": [
    "## Filter\n",
    "\n",
    "Here I assume that the feature \"categorical_snow_yes1_no0_surface\" means that there is snow on the surface if the value is 1. So I just take the sum of the feature \"categorical_snow_yes1_no0_surface\" and it should result in a place that has the snow on its surface the most."
   ]
  },
  {
   "cell_type": "code",
   "execution_count": 24,
   "metadata": {},
   "outputs": [
    {
     "name": "stdout",
     "output_type": "stream",
     "text": [
      "CPU times: user 22.9 ms, sys: 3.08 ms, total: 26 ms\n",
      "Wall time: 2min 59s\n"
     ]
    }
   ],
   "source": [
    "%%time\n",
    "\n",
    "dg = df.select(\"Timestamp\", \"Geohash\", \"categorical_snow_yes1_no0_surface\", \"snow_cover_surface\")\n",
    "dg = dg.groupby(\"Geohash\")\\\n",
    "    .agg(F.sum(\"categorical_snow_yes1_no0_surface\"), F.avg(\"snow_cover_surface\"), F.min(\"snow_cover_surface\"), F.max(\"snow_cover_surface\"), F.count(\"Timestamp\"))\n",
    "dg = dg.withColumn(\"ratio_snow_counts\", dg[\"sum(categorical_snow_yes1_no0_surface)\"] / dg[\"count(Timestamp)\"])\\\n",
    "    .sort(F.desc(\"ratio_snow_counts\"))\n",
    "dg_head = dg.head(10)"
   ]
  },
  {
   "cell_type": "markdown",
   "metadata": {},
   "source": [
    "## Results\n",
    "\n",
    "It appears none of the items from the small set have year round snow."
   ]
  },
  {
   "cell_type": "code",
   "execution_count": 26,
   "metadata": {},
   "outputs": [
    {
     "data": {
      "text/plain": [
       "[Row(Geohash='c41uhb4r5n00', sum(categorical_snow_yes1_no0_surface)=168.0, avg(snow_cover_surface)=98.812351543943, min(snow_cover_surface)=0.0, max(snow_cover_surface)=100.0, count(Timestamp)=421, ratio_snow_counts=0.3990498812351544),\n",
       " Row(Geohash='c45277s4gjpb', sum(categorical_snow_yes1_no0_surface)=163.0, avg(snow_cover_surface)=88.87706855791963, min(snow_cover_surface)=0.0, max(snow_cover_surface)=100.0, count(Timestamp)=423, ratio_snow_counts=0.38534278959810875),\n",
       " Row(Geohash='c44jc11cn1rz', sum(categorical_snow_yes1_no0_surface)=165.0, avg(snow_cover_surface)=98.15242494226328, min(snow_cover_surface)=0.0, max(snow_cover_surface)=100.0, count(Timestamp)=433, ratio_snow_counts=0.3810623556581986),\n",
       " Row(Geohash='c41yek3dwk2p', sum(categorical_snow_yes1_no0_surface)=152.0, avg(snow_cover_surface)=98.01488833746899, min(snow_cover_surface)=0.0, max(snow_cover_surface)=100.0, count(Timestamp)=403, ratio_snow_counts=0.3771712158808933),\n",
       " Row(Geohash='c1uz20wg2gxb', sum(categorical_snow_yes1_no0_surface)=141.0, avg(snow_cover_surface)=70.36702127659575, min(snow_cover_surface)=0.0, max(snow_cover_surface)=100.0, count(Timestamp)=376, ratio_snow_counts=0.375),\n",
       " Row(Geohash='c439n53vsxzz', sum(categorical_snow_yes1_no0_surface)=155.0, avg(snow_cover_surface)=98.70743405275779, min(snow_cover_surface)=0.0, max(snow_cover_surface)=100.0, count(Timestamp)=417, ratio_snow_counts=0.37170263788968827),\n",
       " Row(Geohash='c1gv86v08280', sum(categorical_snow_yes1_no0_surface)=148.0, avg(snow_cover_surface)=97.24937655860349, min(snow_cover_surface)=0.0, max(snow_cover_surface)=100.0, count(Timestamp)=401, ratio_snow_counts=0.3690773067331671),\n",
       " Row(Geohash='c1gy5p6c9n2p', sum(categorical_snow_yes1_no0_surface)=150.0, avg(snow_cover_surface)=97.81818181818181, min(snow_cover_surface)=0.0, max(snow_cover_surface)=100.0, count(Timestamp)=407, ratio_snow_counts=0.36855036855036855),\n",
       " Row(Geohash='c41uxkww12rz', sum(categorical_snow_yes1_no0_surface)=148.0, avg(snow_cover_surface)=98.01488833746899, min(snow_cover_surface)=0.0, max(snow_cover_surface)=100.0, count(Timestamp)=403, ratio_snow_counts=0.36724565756823824),\n",
       " Row(Geohash='c1gru77j5fzz', sum(categorical_snow_yes1_no0_surface)=167.0, avg(snow_cover_surface)=96.69670329670329, min(snow_cover_surface)=0.0, max(snow_cover_surface)=100.0, count(Timestamp)=455, ratio_snow_counts=0.367032967032967)]"
      ]
     },
     "execution_count": 26,
     "metadata": {},
     "output_type": "execute_result"
    }
   ],
   "source": [
    "dg_head"
   ]
  },
  {
   "cell_type": "markdown",
   "metadata": {},
   "source": [
    "## Analysis\n",
    "\n",
    "The location with the most snow is \"c41u...\", which is in the Coast Mountains, a mountain range North West of the town Petersburg, Alaska. The town itself is in a basin, and across sound from the mountain, so it probably doesn't receive as much snow as the peak of a mountain. \n",
    "\n",
    "It is a little surprising that this location is not farther north, such as in the arctic circle where there is permafrost on the ground. This is probably due to the reduced data set being a much smaller set (I'm assuming it's built by taking a subset of Geohashes and all their relevent data).\n",
    "\n",
    "![Petersburg, Alaska](img/petersburg.png)\n",
    "\n",
    "![Alaska](img/alaska.png)"
   ]
  },
  {
   "cell_type": "code",
   "execution_count": null,
   "metadata": {},
   "outputs": [],
   "source": []
  }
 ],
 "metadata": {
  "kernelspec": {
   "display_name": "Python 3",
   "language": "python",
   "name": "python3"
  },
  "language_info": {
   "codemirror_mode": {
    "name": "ipython",
    "version": 3
   },
   "file_extension": ".py",
   "mimetype": "text/x-python",
   "name": "python",
   "nbconvert_exporter": "python",
   "pygments_lexer": "ipython3",
   "version": "3.7.1"
  }
 },
 "nbformat": 4,
 "nbformat_minor": 2
}
