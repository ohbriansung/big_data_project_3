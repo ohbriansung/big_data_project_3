{
 "cells": [
  {
   "cell_type": "markdown",
   "metadata": {},
   "source": [
    "# Unknow feature\n",
    "\n",
    "### I would like to figure out what is \"geopotential_height_cloud_base\""
   ]
  },
  {
   "cell_type": "code",
   "execution_count": 1,
   "metadata": {},
   "outputs": [
    {
     "name": "stdout",
     "output_type": "stream",
     "text": [
      "+-------------+------------+------------------------+---------------------------------------+------------------------+------------------------------+----------------------------------------+------------------+------------------------------------------+------------------------------------------+---------------------------+----------------------------------+-----------------------------------+---------------------------------+------------------------------+-------------------------+-----------------------------------+---------------------------------+-----------------------------+---------------------------------+-------------------------+--------------+-----------------+------------------------------+-----------------------------+----------------+------------------------------------------------+---------------------+------------------+---------------------------------+-----------------------------------+---------------------------------------+------------------------------+------------------------------+-------------------------+-----------------------------------------------------+----------------------------------+--------------------------------+-------------------------------------+-----------------------------------------------+-------------------+------------------+---------------------------+---------------------------------------------+----------------------------+-------------------------+---------------------+----------------------+-------------------------+-------------------+------------------+------------------------------+------------------------------------+--------------------------------+---------------------+------------------------------------+-------------------------+----------------------------------------------+\n",
      "|    Timestamp|     Geohash|geopotential_height_lltw|water_equiv_of_accum_snow_depth_surface|drag_coefficient_surface|sensible_heat_net_flux_surface|categorical_ice_pellets_yes1_no0_surface|visibility_surface|number_of_soil_layers_in_root_zone_surface|categorical_freezing_rain_yes1_no0_surface|pressure_reduced_to_msl_msl|upward_short_wave_rad_flux_surface|relative_humidity_zerodegc_isotherm|categorical_snow_yes1_no0_surface|u-component_of_wind_tropopause|surface_wind_gust_surface|total_cloud_cover_entire_atmosphere|upward_long_wave_rad_flux_surface|land_cover_land1_sea0_surface|vegitation_type_as_in_sib_surface|v-component_of_wind_pblri|albedo_surface|lightning_surface|ice_cover_ice1_no_ice0_surface|convective_inhibition_surface|pressure_surface|transpiration_stress-onset_soil_moisture_surface|soil_porosity_surface|vegetation_surface|categorical_rain_yes1_no0_surface|downward_long_wave_rad_flux_surface|planetary_boundary_layer_height_surface|soil_type_as_in_zobler_surface|geopotential_height_cloud_base|friction_velocity_surface|maximumcomposite_radar_reflectivity_entire_atmosphere|plant_canopy_surface_water_surface|v-component_of_wind_maximum_wind|geopotential_height_zerodegc_isotherm|mean_sea_level_pressure_nam_model_reduction_msl|temperature_surface|snow_cover_surface|geopotential_height_surface|convective_available_potential_energy_surface|latent_heat_net_flux_surface|surface_roughness_surface|pressure_maximum_wind|temperature_tropopause|geopotential_height_pblri|pressure_tropopause|snow_depth_surface|v-component_of_wind_tropopause|downward_short_wave_rad_flux_surface|u-component_of_wind_maximum_wind|wilting_point_surface|precipitable_water_entire_atmosphere|u-component_of_wind_pblri|direct_evaporation_cease_soil_moisture_surface|\n",
      "+-------------+------------+------------------------+---------------------------------------+------------------------+------------------------------+----------------------------------------+------------------+------------------------------------------+------------------------------------------+---------------------------+----------------------------------+-----------------------------------+---------------------------------+------------------------------+-------------------------+-----------------------------------+---------------------------------+-----------------------------+---------------------------------+-------------------------+--------------+-----------------+------------------------------+-----------------------------+----------------+------------------------------------------------+---------------------+------------------+---------------------------------+-----------------------------------+---------------------------------------+------------------------------+------------------------------+-------------------------+-----------------------------------------------------+----------------------------------+--------------------------------+-------------------------------------+-----------------------------------------------+-------------------+------------------+---------------------------+---------------------------------------------+----------------------------+-------------------------+---------------------+----------------------+-------------------------+-------------------+------------------+------------------------------+------------------------------------+--------------------------------+---------------------+------------------------------------+-------------------------+----------------------------------------------+\n",
      "|1438754400000|f2jv9b26m9kp|                2569.937|                                    0.0|                     0.0|                     -10.10498|                                     0.0|         24222.275|                                       4.0|                                       0.0|                   101019.0|                               0.0|                               57.0|                              0.0|                     20.623413|                 6.131471|                               60.0|                          354.625|                          1.0|                              5.0|                2.7563553|         17.75|              0.0|                           0.0|                    -95.15674|         96846.0|                                      0.32999998|                  0.5|             95.75|                              0.0|                           310.1922|                                 381.25|                           6.0|                        8194.0|               0.25018185|                                                -20.0|                             0.065|                       21.131699|                               3020.0|                                       101016.0|          281.25854|               0.0|                     356.57|                                         20.0|                  -1.3343506|                 2.062516|            25127.867|             222.41522|                 152.3127|          26495.574|               0.0|                     21.209106|                                 0.0|                       21.180878|              0.06625|                           24.311327|                4.1440125|                                       0.06625|\n",
      "|1439748000000|c0r6zjuefu2p|               2538.4978|                                    0.0|                     0.0|                      4.395767|                                     0.0|         24220.164|                                       0.0|                                       0.0|                   102543.0|                         40.048077|                               17.0|                              0.0|                     23.075073|                 5.616594|                                0.0|                           384.25|                          0.0|                              0.0|                 -6.14946|           6.0|              0.0|                           0.0|                   0.79541016|        102543.0|                                             0.0|                  0.0|               0.0|                              0.0|                          326.71014|                                 496.75|                           0.0|                         231.0|               0.18861061|                                                -20.0|                               0.0|                      -30.519485|                            3892.4429|                                       102543.0|          289.06982|               0.0|                 0.07002258|                                         20.0|                   23.906555|             1.5900003E-5|            21927.902|              213.5431|                498.82104|          19264.445|               0.0|                    -22.412338|                           707.97095|                        22.67125|                  0.0|                            20.39285|               0.85931396|                                           0.0|\n",
      "|1440547200000|f26y8y56pn7z|               2745.0647|                                    0.0|                     0.0|                    -11.783951|                                     0.0|         24222.264|                                       4.0|                                       0.0|                   101043.0|                               0.0|                               84.0|                              0.0|                     11.288818|                 5.903287|                                6.0|                        375.22974|                          1.0|                              5.0|                5.0123386|          14.0|              0.0|                           0.0|                    -2.550293|         95664.0|                                          0.2825|                  0.5|             86.25|                              0.0|                           309.2537|                                  949.0|                           2.0|                       -4045.5|                0.4037358|                                             -16.6875|                            0.0425|                       28.511398|                            2905.8228|                                       101027.0|          285.27368|               0.0|                     464.82|                                        120.0|                    -1.92482|                 2.062516|            26127.727|             227.00537|                273.58722|          26388.113|               0.0|                     28.503906|                                 0.0|                        11.24057|               0.0275|                           23.475079|                0.6616621|                                        0.0275|\n",
      "+-------------+------------+------------------------+---------------------------------------+------------------------+------------------------------+----------------------------------------+------------------+------------------------------------------+------------------------------------------+---------------------------+----------------------------------+-----------------------------------+---------------------------------+------------------------------+-------------------------+-----------------------------------+---------------------------------+-----------------------------+---------------------------------+-------------------------+--------------+-----------------+------------------------------+-----------------------------+----------------+------------------------------------------------+---------------------+------------------+---------------------------------+-----------------------------------+---------------------------------------+------------------------------+------------------------------+-------------------------+-----------------------------------------------------+----------------------------------+--------------------------------+-------------------------------------+-----------------------------------------------+-------------------+------------------+---------------------------+---------------------------------------------+----------------------------+-------------------------+---------------------+----------------------+-------------------------+-------------------+------------------+------------------------------+------------------------------------+--------------------------------+---------------------+------------------------------------+-------------------------+----------------------------------------------+\n",
      "only showing top 3 rows\n",
      "\n",
      "CPU times: user 12.3 ms, sys: 5.67 ms, total: 18 ms\n",
      "Wall time: 2min 28s\n"
     ]
    }
   ],
   "source": [
    "%%time\n",
    "\n",
    "from pyspark.sql.types import StructType, StructField, FloatType, LongType, StringType\n",
    "\n",
    "\n",
    "feats = []\n",
    "f = open('../features.txt')\n",
    "for line_num, line in enumerate(f):\n",
    "    if line_num == 0:\n",
    "        # Timestamp\n",
    "        feats.append(StructField(line.strip(), LongType(), True))\n",
    "    elif line_num == 1:\n",
    "        # Geohash\n",
    "        feats.append(StructField(line.strip(), StringType(), True))\n",
    "    else:\n",
    "        # Other features\n",
    "        feats.append(StructField(line.strip(), FloatType(), True))\n",
    "    \n",
    "schema = StructType(feats)\n",
    "\n",
    "df = spark.read.format('csv').option('sep', '\\t').schema(schema).load('hdfs://orion11:13030/nam_s/*')\n",
    "df.show(3)"
   ]
  },
  {
   "cell_type": "code",
   "execution_count": 4,
   "metadata": {},
   "outputs": [
    {
     "name": "stdout",
     "output_type": "stream",
     "text": [
      "+-------+------------------------------+\n",
      "|summary|geopotential_height_cloud_base|\n",
      "+-------+------------------------------+\n",
      "|  count|                     108000000|\n",
      "|   mean|            -364.1897130100188|\n",
      "| stddev|             3283.338557541059|\n",
      "|    min|                       -5000.0|\n",
      "|    max|                       14828.5|\n",
      "+-------+------------------------------+\n",
      "\n"
     ]
    }
   ],
   "source": [
    "df.describe(['geopotential_height_cloud_base']).show()"
   ]
  },
  {
   "cell_type": "markdown",
   "metadata": {},
   "source": [
    "* I assume it's the height of the cloud, but there are negative numbers which is really weird.\n",
    "* [Geopotential height](https://en.wikipedia.org/wiki/Geopotential_height) is a vertical coordinate referenced to Earth's mean sea level. One usually speaks of the geopotential height of a certain pressure level, which would correspond to the geopotential height at which that pressure occurs.\n",
    "* [Cloud base](https://en.wikipedia.org/wiki/Cloud_base) is the lowest altitude of the visible portion of the cloud.\n",
    "* Combined two terms above, I got the idea that geopotential height cloud base is the lowest pressure level of the visible portion of the cloud. So the negative one could be in the air. The ones with high values could be in valley and I am not sure if fog counts as cloud. Overall, the mean is negative that indicates most of the time the cloud base is in the sky (very high since pressure is low)."
   ]
  },
  {
   "cell_type": "code",
   "execution_count": null,
   "metadata": {},
   "outputs": [],
   "source": []
  }
 ],
 "metadata": {
  "kernelspec": {
   "display_name": "Python 3",
   "language": "python",
   "name": "python3"
  },
  "language_info": {
   "codemirror_mode": {
    "name": "ipython",
    "version": 3
   },
   "file_extension": ".py",
   "mimetype": "text/x-python",
   "name": "python",
   "nbconvert_exporter": "python",
   "pygments_lexer": "ipython3",
   "version": "3.6.5"
  }
 },
 "nbformat": 4,
 "nbformat_minor": 2
}
