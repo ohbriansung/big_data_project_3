{
 "cells": [
  {
   "cell_type": "markdown",
   "metadata": {},
   "source": [
    "# Crime since 2001 in Chicago\n",
    "\n",
    "* Data source: [data.gov](https://catalog.data.gov/dataset/crimes-2001-to-present-398a4)\n",
    "\n",
    "\n",
    "* Describe the dataset:\n",
    "\n",
    "    This dataset reflects reported incidents of crime that occurred in the City of Chicago from 2001 to August 9, 2018, minus the most recent seven days.\n",
    "\n",
    "    Columns in the dataset: ['ID', 'Case Number', 'Date', 'Block', 'IUCR', 'Primary Type', 'Description', 'Location Description', 'Arrest', 'Domestic', 'Beat', 'District', 'Ward', 'Community Area', 'FBI Code', 'X Coordinate', 'Y Coordinate', 'Year', 'Updated On', 'Latitude', 'Longitude', 'Location']\n",
    "\n",
    "\n",
    "* Outline the types of insights you hope to gain from it:\n",
    "\n",
    "    1. Most common type of crime each year and each date.\n",
    "    1. Tracking crime frequency by geohash(7) per year.\n",
    "    1. \n",
    "\n",
    "\n",
    "* Make hypotheses about what you might find:\n",
    "\n",
    "    1. A lot of crimes that are categorized as [Battery](https://en.wikipedia.org/wiki/Battery_(crime) type during Black Friday.\n",
    "    1. Most of the crimes happened in [these neighborhoods](https://www.roadsnacks.net/these-are-the-10-worst-chicago-neighborhoods/)."
   ]
  },
  {
   "cell_type": "code",
   "execution_count": 1,
   "metadata": {},
   "outputs": [],
   "source": [
    "import matplotlib.pyplot as plt\n",
    "import numpy as np\n",
    "import pandas as pd\n",
    "\n",
    "from pyspark.sql.types import *\n",
    "from pyspark.sql.functions import *\n",
    "from datetime import datetime\n",
    "import time"
   ]
  },
  {
   "cell_type": "code",
   "execution_count": 25,
   "metadata": {},
   "outputs": [
    {
     "name": "stdout",
     "output_type": "stream",
     "text": [
      "+--------+-----------+--------------------+--------------------+----+-------------+--------------------+--------------------+------+--------+----+--------+----+--------------+--------+------------+------------+----+--------------------+------------+-------------+--------------------+\n",
      "|      ID|Case Number|                Date|               Block|IUCR| Primary Type|         Description|Location Description|Arrest|Domestic|Beat|District|Ward|Community Area|FBI Code|X Coordinate|Y Coordinate|Year|          Updated On|    Latitude|    Longitude|            Location|\n",
      "+--------+-----------+--------------------+--------------------+----+-------------+--------------------+--------------------+------+--------+----+--------+----+--------------+--------+------------+------------+----+--------------------+------------+-------------+--------------------+\n",
      "|10000092|   HY189866|03/18/2015 07:44:...|     047XX W OHIO ST|041A|      BATTERY| AGGRAVATED: HANDGUN|              STREET| false|   false|1111|     011|  28|            25|     04B|     1144606|     1903566|2015|02/10/2018 03:50:...|41.891398861|-87.744384567|(41.891398861, -8...|\n",
      "|10000094|   HY190059|03/18/2015 11:00:...|066XX S MARSHFIEL...|4625|OTHER OFFENSE|    PAROLE VIOLATION|              STREET|  true|   false|0725|     007|  15|            67|      26|     1166468|     1860715|2015|02/10/2018 03:50:...|41.773371528|-87.665319468|(41.773371528, -8...|\n",
      "|10000095|   HY190052|03/18/2015 10:45:...|044XX S LAKE PARK...|0486|      BATTERY|DOMESTIC BATTERY ...|           APARTMENT| false|    true|0222|     002|   4|            39|     08B|     1185075|     1875622|2015|02/10/2018 03:50:...| 41.81386068|-87.596642837|(41.81386068, -87...|\n",
      "|10000096|   HY190054|03/18/2015 10:30:...|051XX S MICHIGAN AVE|0460|      BATTERY|              SIMPLE|           APARTMENT| false|   false|0225|     002|   3|            40|     08B|     1178033|     1870804|2015|02/10/2018 03:50:...|41.800802415|-87.622619343|(41.800802415, -8...|\n",
      "|10000097|   HY189976|03/18/2015 09:00:...|    047XX W ADAMS ST|031A|      ROBBERY|      ARMED: HANDGUN|            SIDEWALK| false|   false|1113|     011|  28|            25|      03|     1144920|     1898709|2015|02/10/2018 03:50:...|41.878064761|-87.743354013|(41.878064761, -8...|\n",
      "+--------+-----------+--------------------+--------------------+----+-------------+--------------------+--------------------+------+--------+----+--------+----+--------------+--------+------------+------------+----+--------------------+------------+-------------+--------------------+\n",
      "only showing top 5 rows\n",
      "\n",
      "CPU times: user 5.02 ms, sys: 2.29 ms, total: 7.31 ms\n",
      "Wall time: 2.56 s\n"
     ]
    }
   ],
   "source": [
    "%%time\n",
    "\n",
    "df = spark.read.format('csv')\\\n",
    "    .option('header', 'true')\\\n",
    "    .load('hdfs://orion11:13030/crime-since-2001-chicago.csv')\\\n",
    "    .limit(100)\n",
    "df.show(5)"
   ]
  },
  {
   "cell_type": "code",
   "execution_count": 3,
   "metadata": {},
   "outputs": [
    {
     "data": {
      "text/plain": [
       "['ID',\n",
       " 'Case Number',\n",
       " 'Date',\n",
       " 'Block',\n",
       " 'IUCR',\n",
       " 'Primary Type',\n",
       " 'Description',\n",
       " 'Location Description',\n",
       " 'Arrest',\n",
       " 'Domestic',\n",
       " 'Beat',\n",
       " 'District',\n",
       " 'Ward',\n",
       " 'Community Area',\n",
       " 'FBI Code',\n",
       " 'X Coordinate',\n",
       " 'Y Coordinate',\n",
       " 'Year',\n",
       " 'Updated On',\n",
       " 'Latitude',\n",
       " 'Longitude',\n",
       " 'Location']"
      ]
     },
     "execution_count": 3,
     "metadata": {},
     "output_type": "execute_result"
    }
   ],
   "source": [
    "df.columns"
   ]
  },
  {
   "cell_type": "markdown",
   "metadata": {},
   "source": [
    "## Most common type of crime each year and each date."
   ]
  },
  {
   "cell_type": "code",
   "execution_count": 21,
   "metadata": {},
   "outputs": [],
   "source": [
    "serialize_date = udf(lambda d: datetime.strptime(d, '%m/%d/%Y %I:%M:%S %p'), DateType())"
   ]
  },
  {
   "cell_type": "code",
   "execution_count": 26,
   "metadata": {},
   "outputs": [
    {
     "name": "stdout",
     "output_type": "stream",
     "text": [
      "+-------+-----------+----------+-----------------+----+-------------+--------------------+--------------------+------+--------+----+--------+----+--------------+--------+------------+------------+----+--------------------+------------+-------------+--------------------+\n",
      "|     ID|Case Number|      Date|            Block|IUCR| Primary Type|         Description|Location Description|Arrest|Domestic|Beat|District|Ward|Community Area|FBI Code|X Coordinate|Y Coordinate|Year|          Updated On|    Latitude|    Longitude|            Location|\n",
      "+-------+-----------+----------+-----------------+----+-------------+--------------------+--------------------+------+--------+----+--------+----+--------------+--------+------------+------------+----+--------------------+------------+-------------+--------------------+\n",
      "|5833185|   HN640275|2007-10-10|038XX W OGDEN AVE|502P|OTHER OFFENSE|FALSE/STOLEN/ALTE...|              STREET| false|   false|1014|     010|  24|            29|      26|     1151189|     1889484|2007|02/10/2018 03:50:...|41.852629735|-87.720577296|(41.852629735, -8...|\n",
      "|9486917|   HX140465|2014-02-05| 021XX S CHINA PL|0810|        THEFT|           OVER $500|              STREET| false|   false|0914|     009|  25|            34|      06|     1174576|     1890131|2014|02/04/2016 06:33:...|41.853915119|-87.634720869|(41.853915119, -8...|\n",
      "|5833205|   HN641106|2007-10-11|  002XX E 51ST ST|0560|      ASSAULT|              SIMPLE|            SIDEWALK|  true|   false|0224|     002|   3|            38|     08A|     1178574|     1871257|2007|02/10/2018 03:50:...|41.802033196|-87.620621557|(41.802033196, -8...|\n",
      "+-------+-----------+----------+-----------------+----+-------------+--------------------+--------------------+------+--------+----+--------+----+--------------+--------+------------+------------+----+--------------------+------------+-------------+--------------------+\n",
      "only showing top 3 rows\n",
      "\n",
      "CPU times: user 4.87 ms, sys: 5.18 ms, total: 10 ms\n",
      "Wall time: 11.9 s\n"
     ]
    }
   ],
   "source": [
    "%%time\n",
    "\n",
    "df = df.withColumn('Date', serialize_date(df['Date']))\n",
    "\n",
    "df.show(3)"
   ]
  },
  {
   "cell_type": "code",
   "execution_count": null,
   "metadata": {},
   "outputs": [],
   "source": [
    "%%time\n",
    "\n",
    "df.createOrReplaceTempView('crime')\n",
    "most = spark.sql(\n",
    "    '''\n",
    "    SELECT\n",
    "        Month,\n",
    "        AVG(Humidity) AS Humidity,\n",
    "        AVG(Temperature) AS Temperature,\n",
    "        AVG(Wind) AS Wind\n",
    "    FROM crime\n",
    "    WHERE Geohash like \"9q8y%\"\n",
    "    GROUP BY Month\n",
    "    '''\n",
    ")\n",
    "\n",
    "most.show()"
   ]
  }
 ],
 "metadata": {
  "kernelspec": {
   "display_name": "Python 3",
   "language": "python",
   "name": "python3"
  },
  "language_info": {
   "codemirror_mode": {
    "name": "ipython",
    "version": 3
   },
   "file_extension": ".py",
   "mimetype": "text/x-python",
   "name": "python",
   "nbconvert_exporter": "python",
   "pygments_lexer": "ipython3",
   "version": "3.6.5"
  }
 },
 "nbformat": 4,
 "nbformat_minor": 2
}
