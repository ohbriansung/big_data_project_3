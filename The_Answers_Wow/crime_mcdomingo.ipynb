{
 "cells": [
  {
   "cell_type": "markdown",
   "metadata": {},
   "source": [
    "# Crime over Time of Chicago\n",
    "\n",
    "In this .ipynb we analyze the change of crime over time in Chicago.\n",
    "\n",
    "Overall there has been a significant decrease in crime in Chicago."
   ]
  },
  {
   "cell_type": "markdown",
   "metadata": {},
   "source": [
    "## Load the data\n",
    "\n",
    "First we need to load the data."
   ]
  },
  {
   "cell_type": "code",
   "execution_count": 1,
   "metadata": {},
   "outputs": [],
   "source": [
    "import matplotlib.pyplot as plt\n",
    "import numpy as np\n",
    "\n",
    "import pandas as pd \n",
    "\n",
    "import folium\n",
    "import folium.plugins as plugins"
   ]
  },
  {
   "cell_type": "code",
   "execution_count": null,
   "metadata": {},
   "outputs": [],
   "source": [
    "%%time\n",
    "\n",
    "# hdfs_port = \"hdfs://orion11:26990\"\n",
    "# hdfs_path = \"/FL_insurance_sample.csv\"\n",
    "\n",
    "hdfs_port = \"hdfs://orion11:13030\"\n",
    "hdfs_path = \"/crime-since-2001-chicago.csv\"\n",
    "df = spark.read.format('csv').option(\"header\", \"true\").load(hdfs_port + hdfs_path)"
   ]
  },
  {
   "cell_type": "code",
   "execution_count": null,
   "metadata": {},
   "outputs": [],
   "source": [
    "df.columns"
   ]
  },
  {
   "cell_type": "markdown",
   "metadata": {},
   "source": [
    "## Binning\n",
    "\n",
    "Here we use an SQL query to bin the data and select the features we want. We are binning by the lat/lon and counting the number of crimes that happen per year."
   ]
  },
  {
   "cell_type": "code",
   "execution_count": null,
   "metadata": {
    "scrolled": true
   },
   "outputs": [],
   "source": [
    "dg = df\n",
    "\n",
    "dg.createOrReplaceTempView(\"crime_data\")\n",
    "\n",
    "query_str = f'''\n",
    "SELECT ROUND(Latitude, 4) AS lat,\n",
    "    ROUND(Longitude, 4) AS lon,\n",
    "    COUNT(ID) AS count,\n",
    "    CAST(Year AS INT) AS year\n",
    "FROM crime_data\n",
    "WHERE Latitude is NOT NULL AND Longitude is NOT NULL\n",
    "GROUP BY lat, lon, year\n",
    "ORDER BY count DESC\n",
    "'''\n",
    "\n",
    "print(query_str)"
   ]
  },
  {
   "cell_type": "markdown",
   "metadata": {},
   "source": [
    "## Load into Pandas\n",
    "\n",
    "Here we apply the SQL query and load the results into a pandas dataframe"
   ]
  },
  {
   "cell_type": "code",
   "execution_count": null,
   "metadata": {},
   "outputs": [],
   "source": [
    "%%time\n",
    "\n",
    "dh = spark.sql(query_str)\n",
    "p_df = dh.toPandas()"
   ]
  },
  {
   "cell_type": "code",
   "execution_count": null,
   "metadata": {},
   "outputs": [],
   "source": [
    "p_df['normcount']= (p_df['count']-p_df['count'].min())/(p_df['count'].max()-p_df['count'].min())\n",
    "maximum_count = p_df['count'].max()\n",
    "\n",
    "p_df['logcount'] = np.log(p_df['count'])"
   ]
  },
  {
   "cell_type": "markdown",
   "metadata": {},
   "source": [
    "## Setting some constants\n",
    "\n",
    "Chicago Lat and Lon: 41.8781° N, 87.6298° W"
   ]
  },
  {
   "cell_type": "code",
   "execution_count": null,
   "metadata": {},
   "outputs": [],
   "source": [
    "chicago_location = (41.8781, -87.6298)"
   ]
  },
  {
   "cell_type": "markdown",
   "metadata": {},
   "source": [
    "# 2001 Data\n",
    "\n",
    "Crime is extremely prevelant and is happening along the coast and in Central and South Chicago.\n",
    "\n",
    "A screenshot of the leaflet is provided below.\n",
    "\n",
    "![2001_chicago](img/2001_chicago.png)"
   ]
  },
  {
   "cell_type": "code",
   "execution_count": null,
   "metadata": {},
   "outputs": [],
   "source": [
    "m = folium.Map(location=chicago_location, zoom_start=10)\n",
    "\n",
    "data_list = p_df.loc[p_df['year'] == 2001][['lat', 'lon', 'normcount']].values\n",
    "\n",
    "hm = plugins.HeatMap(data_list, min_opacity=0.2, radius=7, max_zoom=1)\n",
    "\n",
    "m.add_child(hm)\n",
    "\n",
    "m"
   ]
  },
  {
   "cell_type": "markdown",
   "metadata": {},
   "source": [
    "# 2006 Data\n",
    "\n",
    "Crime seems to have coalesced inwards a little. It seems have increased as well.\n",
    "\n",
    "![2006_chicago](img/2006_chicago.png)"
   ]
  },
  {
   "cell_type": "code",
   "execution_count": null,
   "metadata": {},
   "outputs": [],
   "source": [
    "m = folium.Map(location=chicago_location, zoom_start=10)\n",
    "\n",
    "data_list = p_df.loc[p_df['year'] == 2006][['lat', 'lon', 'normcount']].values\n",
    "\n",
    "hm = plugins.HeatMap(data_list, min_opacity=0.2, radius=7, max_zoom=1)\n",
    "\n",
    "m.add_child(hm)\n",
    "\n",
    "m"
   ]
  },
  {
   "cell_type": "markdown",
   "metadata": {},
   "source": [
    "# 2011 Data\n",
    "\n",
    "Crime along the coast has nearly dissappeared. \n",
    "\n",
    "It seems to be focused in 4 major areas.\n",
    "\n",
    "![2011_chicago](img/2011_chicago.png)"
   ]
  },
  {
   "cell_type": "code",
   "execution_count": null,
   "metadata": {},
   "outputs": [],
   "source": [
    "m = folium.Map(location=chicago_location, zoom_start=10)\n",
    "\n",
    "data_list = p_df.loc[p_df['year'] == 2011][['lat', 'lon', 'normcount']].values\n",
    "\n",
    "hm = plugins.HeatMap(data_list, min_opacity=0.2, radius=7, max_zoom=1)\n",
    "\n",
    "m.add_child(hm)\n",
    "\n",
    "m"
   ]
  },
  {
   "cell_type": "markdown",
   "metadata": {},
   "source": [
    "## 2015 Data\n",
    "\n",
    "There has been a significant decrease in crime in South Chicago, but Central Chicago still has some major problems.\n",
    "\n",
    "![2015_chicago](img/2015_chicago.png)"
   ]
  },
  {
   "cell_type": "code",
   "execution_count": null,
   "metadata": {},
   "outputs": [],
   "source": [
    "m = folium.Map(location=chicago_location, zoom_start=10)\n",
    "\n",
    "data_list = p_df.loc[p_df['year'] == 2015][['lat', 'lon', 'normcount']].values\n",
    "\n",
    "hm = plugins.HeatMap(data_list, min_opacity=0.2, radius=7, max_zoom=1)\n",
    "\n",
    "m.add_child(hm)\n",
    "\n",
    "m"
   ]
  },
  {
   "cell_type": "markdown",
   "metadata": {},
   "source": [
    "## 2018 Data\n",
    "\n",
    "This data shows that crime has dramatically decreased in the South Chicago, so much so that is almost the same as the background.\n",
    "\n",
    "While considerably better, Central Chicago still holds some very dense pockets of crime.\n",
    "\n",
    "![2018_chicago](img/2018_chicago.png)"
   ]
  },
  {
   "cell_type": "code",
   "execution_count": null,
   "metadata": {},
   "outputs": [],
   "source": [
    "m = folium.Map(location=chicago_location, zoom_start=10)\n",
    "\n",
    "data_list = p_df.loc[p_df['year'] == 2018][['lat', 'lon', 'normcount']].values.tolist()\n",
    "\n",
    "hm = plugins.HeatMap(data_list, min_opacity=0.2, radius=7, max_zoom=1)\n",
    "\n",
    "m.add_child(hm)\n",
    "\n",
    "m"
   ]
  },
  {
   "cell_type": "markdown",
   "metadata": {},
   "source": [
    "## Takeaway\n",
    "\n",
    "After studying this data, it appears that the police in Chicago are doing a great job in cleaning up crime. This is also due to the South Chicago gentrification that is going on."
   ]
  },
  {
   "cell_type": "code",
   "execution_count": null,
   "metadata": {},
   "outputs": [],
   "source": []
  }
 ],
 "metadata": {
  "kernelspec": {
   "display_name": "Python 3",
   "language": "python",
   "name": "python3"
  },
  "language_info": {
   "codemirror_mode": {
    "name": "ipython",
    "version": 3
   },
   "file_extension": ".py",
   "mimetype": "text/x-python",
   "name": "python",
   "nbconvert_exporter": "python",
   "pygments_lexer": "ipython3",
   "version": "3.7.1"
  }
 },
 "nbformat": 4,
 "nbformat_minor": 2
}
