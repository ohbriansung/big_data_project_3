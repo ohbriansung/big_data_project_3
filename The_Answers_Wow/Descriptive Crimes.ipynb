{
 "cells": [
  {
   "cell_type": "code",
   "execution_count": 1,
   "metadata": {},
   "outputs": [],
   "source": [
    "from pyspark.sql.types import StructType, StructField, FloatType, LongType, StringType\n",
    "from pyspark.ml.stat import Correlation\n",
    "\n",
    "import numpy as np"
   ]
  },
  {
   "cell_type": "code",
   "execution_count": 2,
   "metadata": {},
   "outputs": [
    {
     "name": "stdout",
     "output_type": "stream",
     "text": [
      "CPU times: user 3.91 ms, sys: 0 ns, total: 3.91 ms\n",
      "Wall time: 7.72 s\n"
     ]
    }
   ],
   "source": [
    "%%time\n",
    "\n",
    "# hdfs_port = \"hdfs://orion11:26990\"\n",
    "# hdfs_path = \"/FL_insurance_sample.csv\"\n",
    "\n",
    "hdfs_port = \"hdfs://orion11:13030\"\n",
    "hdfs_path = \"/crime-since-2001-chicago.csv\"\n",
    "df = spark.read.format('csv').option(\"header\", \"true\").load(hdfs_port + hdfs_path)"
   ]
  },
  {
   "cell_type": "code",
   "execution_count": 3,
   "metadata": {},
   "outputs": [
    {
     "data": {
      "text/plain": [
       "['ID',\n",
       " 'Case Number',\n",
       " 'Date',\n",
       " 'Block',\n",
       " 'IUCR',\n",
       " 'Primary Type',\n",
       " 'Description',\n",
       " 'Location Description',\n",
       " 'Arrest',\n",
       " 'Domestic',\n",
       " 'Beat',\n",
       " 'District',\n",
       " 'Ward',\n",
       " 'Community Area',\n",
       " 'FBI Code',\n",
       " 'X Coordinate',\n",
       " 'Y Coordinate',\n",
       " 'Year',\n",
       " 'Updated On',\n",
       " 'Latitude',\n",
       " 'Longitude',\n",
       " 'Location']"
      ]
     },
     "execution_count": 3,
     "metadata": {},
     "output_type": "execute_result"
    }
   ],
   "source": [
    "df.columns"
   ]
  },
  {
   "cell_type": "code",
   "execution_count": 18,
   "metadata": {},
   "outputs": [
    {
     "name": "stdout",
     "output_type": "stream",
     "text": [
      "+--------------------+------------------+\n",
      "|        Primary Type|           Desclen|\n",
      "+--------------------+------------------+\n",
      "|            STALKING| 8.163162570328694|\n",
      "|               ARSON| 8.750402864816472|\n",
      "|   CRIMINAL TRESPASS|  9.71141442153263|\n",
      "|            GAMBLING| 9.887764298093588|\n",
      "|     CRIMINAL DAMAGE| 11.21564645397782|\n",
      "|             ASSAULT| 11.85810915560983|\n",
      "|        INTIMIDATION|12.120182555780932|\n",
      "| MOTOR VEHICLE THEFT|12.810302908955693|\n",
      "|               THEFT|13.092669076617286|\n",
      "|            BURGLARY|14.338210461285009|\n",
      "|PUBLIC PEACE VIOL...|14.777031972063652|\n",
      "| CRIM SEXUAL ASSAULT| 15.54262053735738|\n",
      "|    PUBLIC INDECENCY|              16.0|\n",
      "|        NON-CRIMINAL|16.389221556886227|\n",
      "|           OBSCENITY| 16.52920962199313|\n",
      "|   DOMESTIC VIOLENCE|              17.0|\n",
      "|      NON - CRIMINAL|              17.0|\n",
      "|             BATTERY|17.320713808260244|\n",
      "|CONCEALED CARRY L...| 17.73356401384083|\n",
      "|OFFENSE INVOLVING...|18.814462709887547|\n",
      "+--------------------+------------------+\n",
      "only showing top 20 rows\n",
      "\n",
      "CPU times: user 3.16 ms, sys: 704 µs, total: 3.86 ms\n",
      "Wall time: 4.26 s\n"
     ]
    }
   ],
   "source": [
    "%%time\n",
    "\n",
    "df.createOrReplaceTempView('crime')\n",
    "temp = spark.sql(\n",
    "    '''\n",
    "    SELECT\n",
    "        `Primary Type`,\n",
    "        AVG(LENGTH(Description)) as Desclen\n",
    "    FROM crime\n",
    "    GROUP BY `Primary Type`\n",
    "    ORDER by AVG(LENGTH(Description)) \n",
    "    '''\n",
    ")\n",
    "\n",
    "temp.show(20)"
   ]
  },
  {
   "cell_type": "code",
   "execution_count": 21,
   "metadata": {},
   "outputs": [
    {
     "name": "stdout",
     "output_type": "stream",
     "text": [
      "+--------------------+------------------+\n",
      "|        Primary Type|           Desclen|\n",
      "+--------------------+------------------+\n",
      "|NON-CRIMINAL (SUB...|              38.0|\n",
      "|           RITUALISM| 32.91304347826087|\n",
      "|LIQUOR LAW VIOLATION|27.092963752665245|\n",
      "|INTERFERENCE WITH...| 25.73384230617349|\n",
      "|   WEAPONS VIOLATION| 25.03850819533388|\n",
      "|           NARCOTICS|22.794112975657203|\n",
      "|          KIDNAPPING| 22.28717026378897|\n",
      "|OTHER NARCOTIC VI...|              22.0|\n",
      "|  DECEPTIVE PRACTICE| 21.70683557767184|\n",
      "|       OTHER OFFENSE| 21.62868365134897|\n",
      "|        PROSTITUTION|20.607372732592157|\n",
      "|         SEX OFFENSE|20.524667780695474|\n",
      "|   HUMAN TRAFFICKING|19.897959183673468|\n",
      "|             ROBBERY|19.515808794813715|\n",
      "|            HOMICIDE|18.993972081218274|\n",
      "|OFFENSE INVOLVING...|18.814462709887547|\n",
      "|CONCEALED CARRY L...| 17.73356401384083|\n",
      "|             BATTERY|17.320713808260244|\n",
      "|   DOMESTIC VIOLENCE|              17.0|\n",
      "|      NON - CRIMINAL|              17.0|\n",
      "+--------------------+------------------+\n",
      "only showing top 20 rows\n",
      "\n",
      "CPU times: user 3.53 ms, sys: 1.8 ms, total: 5.33 ms\n",
      "Wall time: 4.17 s\n"
     ]
    }
   ],
   "source": [
    "%%time\n",
    "\n",
    "df.createOrReplaceTempView('crime')\n",
    "temp = spark.sql(\n",
    "    '''\n",
    "    SELECT\n",
    "        `Primary Type`,\n",
    "        AVG(LENGTH(Description)) as Desclen\n",
    "    FROM crime\n",
    "    GROUP BY `Primary Type`\n",
    "    ORDER by AVG(LENGTH(Description)) Desc\n",
    "    '''\n",
    ")\n",
    "\n",
    "temp.show(20)"
   ]
  },
  {
   "cell_type": "markdown",
   "metadata": {},
   "source": [
    "Top Five Least descriptive crimes are as follows all averaging descriptions with less than 10 characters\n",
    "\n",
    "- Stalking\n",
    "- Arson\n",
    "- Trespassing\n",
    "- Grambling \n",
    "- Damage\n",
    "\n",
    "While the some most descriptive crimes are\n",
    "\n",
    "- Ritualism\n",
    "- Liquor Law Violaition\n",
    "- Weapons Violation\n",
    "- Kidnapping\n",
    "- Deceptive Practice"
   ]
  },
  {
   "cell_type": "code",
   "execution_count": 22,
   "metadata": {},
   "outputs": [
    {
     "name": "stdout",
     "output_type": "stream",
     "text": [
      "+----+------------+------------------+\n",
      "|Year|Primary Type|           Desclen|\n",
      "+----+------------+------------------+\n",
      "|2002|    STALKING|              6.24|\n",
      "|2001|    STALKING| 6.315270935960591|\n",
      "|2003|    STALKING| 6.315789473684211|\n",
      "|2004|    STALKING|6.3534883720930235|\n",
      "|2005|    STALKING| 6.385416666666667|\n",
      "|2007|    STALKING| 6.446009389671362|\n",
      "|2008|    STALKING|6.4526315789473685|\n",
      "|2006|    STALKING| 6.618279569892473|\n",
      "|2010|    STALKING| 6.656084656084656|\n",
      "|2009|    STALKING| 6.748502994011976|\n",
      "|2014|       ARSON|  8.23425692695214|\n",
      "|2017|       ARSON| 8.236486486486486|\n",
      "|2018|       ARSON| 8.249258160237389|\n",
      "|2016|       ARSON|               8.5|\n",
      "|2015|       ARSON|  8.54083885209713|\n",
      "|2003|       ARSON| 8.590575916230366|\n",
      "|2012|       ARSON| 8.607675906183369|\n",
      "|2009|       ARSON| 8.691558441558442|\n",
      "|2011|    STALKING| 8.756906077348066|\n",
      "|2011|       ARSON| 8.757936507936508|\n",
      "+----+------------+------------------+\n",
      "only showing top 20 rows\n",
      "\n",
      "CPU times: user 3.01 ms, sys: 1.02 ms, total: 4.03 ms\n",
      "Wall time: 4.84 s\n"
     ]
    }
   ],
   "source": [
    "%%time\n",
    "\n",
    "df.createOrReplaceTempView('crime')\n",
    "temp = spark.sql(\n",
    "    '''\n",
    "    SELECT\n",
    "        Year,\n",
    "        `Primary Type`,\n",
    "        AVG(LENGTH(Description)) as Desclen\n",
    "    FROM crime\n",
    "    GROUP BY Year, `Primary Type`\n",
    "    ORDER by AVG(LENGTH(Description)) \n",
    "    '''\n",
    ")\n",
    "\n",
    "temp.show(20)"
   ]
  },
  {
   "cell_type": "markdown",
   "metadata": {},
   "source": [
    "Grouping by year we can see that the relative descriptions over time seem to be relativly consistent with little difference. One can probably expect that the description for these crimes are also pretty standard."
   ]
  },
  {
   "cell_type": "code",
   "execution_count": 34,
   "metadata": {},
   "outputs": [
    {
     "name": "stdout",
     "output_type": "stream",
     "text": [
      "+--------------------+--------------------+\n",
      "|        Primary Type|                diff|\n",
      "+--------------------+--------------------+\n",
      "|   DOMESTIC VIOLENCE|                 0.0|\n",
      "|NON-CRIMINAL (SUB...|                 0.0|\n",
      "|OTHER NARCOTIC VI...|                 0.0|\n",
      "|      NON - CRIMINAL|                 0.0|\n",
      "|    PUBLIC INDECENCY|                 0.0|\n",
      "|            HOMICIDE|0.041867102958306646|\n",
      "|            BURGLARY| 0.19814330609798247|\n",
      "|        PROSTITUTION|  0.6551869135384933|\n",
      "|               ARSON|  0.8289614638524583|\n",
      "|         SEX OFFENSE|  0.8764401243770799|\n",
      "|     CRIMINAL DAMAGE|  0.8977967307017334|\n",
      "|               THEFT|  1.2193330903790098|\n",
      "|             ROBBERY|  1.2684514692885678|\n",
      "|   WEAPONS VIOLATION|    1.40473127436454|\n",
      "|             ASSAULT|  1.4538753455453044|\n",
      "|   CRIMINAL TRESPASS|  1.5165586230259542|\n",
      "| CRIM SEXUAL ASSAULT|  1.5936040763993926|\n",
      "|        INTIMIDATION|   1.633758929928561|\n",
      "|   HUMAN TRAFFICKING|  1.6666666666666679|\n",
      "| MOTOR VEHICLE THEFT|  1.9119132344166108|\n",
      "+--------------------+--------------------+\n",
      "only showing top 20 rows\n",
      "\n",
      "CPU times: user 5.26 ms, sys: 168 µs, total: 5.42 ms\n",
      "Wall time: 9.1 s\n"
     ]
    }
   ],
   "source": [
    "%%time\n",
    "\n",
    "df.createOrReplaceTempView('crime')\n",
    "temp = spark.sql(\n",
    "    '''\n",
    "    SELECT `Primary Type`,(Max(Desclen)- Min(Desclen)) as diff FROM(\n",
    "    SELECT\n",
    "        Year,\n",
    "        `Primary Type`,\n",
    "        AVG(LENGTH(Description)) as Desclen\n",
    "    FROM crime\n",
    "    GROUP BY Year, `Primary Type`\n",
    "    ORDER by AVG(LENGTH(Description))) as t1\n",
    "    Group by `Primary Type`\n",
    "    ORDER BY Max(Desclen) - Min(Desclen) Desc\n",
    "    '''\n",
    ")\n",
    "\n",
    "temp.show(20)"
   ]
  },
  {
   "cell_type": "code",
   "execution_count": 36,
   "metadata": {},
   "outputs": [
    {
     "name": "stdout",
     "output_type": "stream",
     "text": [
      "+--------------------+------------------+\n",
      "|        Primary Type|              diff|\n",
      "+--------------------+------------------+\n",
      "|           RITUALISM|              14.5|\n",
      "|             BATTERY|  9.31719109116828|\n",
      "|  DECEPTIVE PRACTICE| 7.610527222435543|\n",
      "|        NON-CRIMINAL| 6.117647058823529|\n",
      "|            STALKING| 5.993766233766234|\n",
      "|CONCEALED CARRY L...| 5.180392156862746|\n",
      "|           OBSCENITY|4.4411764705882355|\n",
      "|OFFENSE INVOLVING...| 4.089830508474577|\n",
      "|          KIDNAPPING| 3.783653760617156|\n",
      "|           NARCOTICS| 3.651637244095305|\n",
      "|       OTHER OFFENSE|2.7779403523977386|\n",
      "|PUBLIC PEACE VIOL...|  2.62886029577359|\n",
      "|            GAMBLING|2.5071414957902167|\n",
      "|INTERFERENCE WITH...|2.3947280935988573|\n",
      "|LIQUOR LAW VIOLATION|2.1737830670436367|\n",
      "| MOTOR VEHICLE THEFT|1.9119132344166108|\n",
      "|   HUMAN TRAFFICKING|1.6666666666666679|\n",
      "|        INTIMIDATION| 1.633758929928561|\n",
      "| CRIM SEXUAL ASSAULT|1.5936040763993926|\n",
      "|   CRIMINAL TRESPASS|1.5165586230259542|\n",
      "+--------------------+------------------+\n",
      "only showing top 20 rows\n",
      "\n",
      "CPU times: user 4.54 ms, sys: 0 ns, total: 4.54 ms\n",
      "Wall time: 5.97 s\n"
     ]
    }
   ],
   "source": [
    "%%time\n",
    "\n",
    "df.createOrReplaceTempView('crime')\n",
    "temp = spark.sql(\n",
    "    '''\n",
    "    SELECT `Primary Type`,(Max(Desclen)- Min(Desclen)) as diff FROM(\n",
    "    SELECT\n",
    "        Year,\n",
    "        `Primary Type`,\n",
    "        AVG(LENGTH(Description)) as Desclen\n",
    "    FROM crime\n",
    "    GROUP BY Year, `Primary Type`\n",
    "    ORDER by AVG(LENGTH(Description))) as t1\n",
    "    Group by `Primary Type`\n",
    "    ORDER BY Max(Desclen) - Min(Desclen) Desc\n",
    "    '''\n",
    ")\n",
    "\n",
    "temp.show(20)"
   ]
  },
  {
   "cell_type": "markdown",
   "metadata": {},
   "source": [
    "## Analysis\n",
    "\n",
    "Over time it seems that domistic violence cases seem to not change that much but the description for Ritualism seems to increase over time. Suprisingly there are no crimes that get LESS descriptive over time. It seems that more complex crimes tend to be more descriptive over time. \n"
   ]
  },
  {
   "cell_type": "code",
   "execution_count": null,
   "metadata": {},
   "outputs": [],
   "source": []
  }
 ],
 "metadata": {
  "kernelspec": {
   "display_name": "Python 3",
   "language": "python",
   "name": "python3"
  },
  "language_info": {
   "codemirror_mode": {
    "name": "ipython",
    "version": 3
   },
   "file_extension": ".py",
   "mimetype": "text/x-python",
   "name": "python",
   "nbconvert_exporter": "python",
   "pygments_lexer": "ipython3",
   "version": "3.7.1"
  }
 },
 "nbformat": 4,
 "nbformat_minor": 2
}
