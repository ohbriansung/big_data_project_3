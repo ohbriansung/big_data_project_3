{
 "cells": [
  {
   "cell_type": "code",
   "execution_count": 16,
   "metadata": {},
   "outputs": [],
   "source": [
    "import matplotlib.pyplot as plt\n",
    "import numpy as np\n",
    "\n",
    "from pyspark.sql.types import StructType, StructField, FloatType, LongType, StringType\n",
    "from datetime import datetime\n",
    "from pyspark.sql import functions as F"
   ]
  },
  {
   "cell_type": "code",
   "execution_count": 17,
   "metadata": {},
   "outputs": [],
   "source": [
    "hdfs_port = \"hdfs://orion11:26990\"\n",
    "data_path = \"/nam_s/nam_201501_s*\"\n",
    "# data_path = \"/sample/nam_tiny*\""
   ]
  },
  {
   "cell_type": "code",
   "execution_count": 18,
   "metadata": {},
   "outputs": [],
   "source": [
    "feats = []\n",
    "f = open('../features.txt')\n",
    "for line_num, line in enumerate(f):\n",
    "    if line_num == 0:\n",
    "        # Timestamp\n",
    "        feats.append(StructField(line.strip(), LongType(), True))\n",
    "    elif line_num == 1:\n",
    "        # Geohash\n",
    "        feats.append(StructField(line.strip(), StringType(), True))\n",
    "    else:\n",
    "        # Other features\n",
    "        feats.append(StructField(line.strip(), FloatType(), True))\n",
    "    \n",
    "schema = StructType(feats)"
   ]
  },
  {
   "cell_type": "code",
   "execution_count": 19,
   "metadata": {},
   "outputs": [
    {
     "name": "stdout",
     "output_type": "stream",
     "text": [
      "CPU times: user 1.79 ms, sys: 73 µs, total: 1.87 ms\n",
      "Wall time: 25.8 ms\n"
     ]
    }
   ],
   "source": [
    "%%time\n",
    "\n",
    "df = spark.read.format('csv').option('sep', '\\t').schema(schema).load(f'{hdfs_port}{data_path}')\n",
    "# df.take(1)\n",
    "# print(df.head())"
   ]
  },
  {
   "cell_type": "code",
   "execution_count": 20,
   "metadata": {},
   "outputs": [],
   "source": [
    "# df.describe([\n",
    "#     'visibility_surface',\n",
    "# ]).show()\n",
    "bay_area_hashes = {\"9q8\", \"9q9\", \"9qc\", \"9qb\"}"
   ]
  },
  {
   "cell_type": "code",
   "execution_count": 27,
   "metadata": {},
   "outputs": [
    {
     "name": "stdout",
     "output_type": "stream",
     "text": [
      "CPU times: user 15.7 ms, sys: 6.35 ms, total: 22.1 ms\n",
      "Wall time: 1min 38s\n"
     ]
    }
   ],
   "source": [
    "%%time\n",
    "\n",
    "# t2 = df.select(\"Geohash\", \"visibility_surface\")\n",
    "# t2.describe()\n",
    "\n",
    "\n",
    "\n",
    "dg = df.select(\"Geohash\", \"visibility_surface\", df.Geohash.substr(1, 3).alias(\"front_hash\"))\n",
    "\n",
    "dg = dg[dg.front_hash.isin(\"9q8\", \"9q9\", \"9qc\", \"9qb\")]"
   ]
  },
  {
   "cell_type": "code",
   "execution_count": 28,
   "metadata": {},
   "outputs": [],
   "source": [
    "dg.createOrReplaceTempView(\"nam_small\")\n",
    "visibilities = spark.sql(\n",
    "    f'''SELECT * FROM(SELECT Geohash, avg(visibility_surface) as vis_surf_avg\n",
    "        FROM nam_small \n",
    "        GROUP BY Geohash) as t2\n",
    "    ORDER BY vis_surf_avg DESC\n",
    "    Limit 10\n",
    "    ''').collect()"
   ]
  },
  {
   "cell_type": "code",
   "execution_count": 29,
   "metadata": {},
   "outputs": [
    {
     "data": {
      "text/plain": [
       "[Row(Geohash='9q8dns19g1eb', vis_surf_avg=24225.777402935608),\n",
       " Row(Geohash='9q8xpsdk0m5b', vis_surf_avg=24225.681692023027),\n",
       " Row(Geohash='9q87p661n4gz', vis_surf_avg=24225.650301846592),\n",
       " Row(Geohash='9q93zsym9gs0', vis_surf_avg=24225.643136160714),\n",
       " Row(Geohash='9qcy198s8zkp', vis_surf_avg=24225.55669642857),\n",
       " Row(Geohash='9q97ne0ndks0', vis_surf_avg=24225.554575892857),\n",
       " Row(Geohash='9qb05tdmp5h0', vis_surf_avg=24225.536458333332),\n",
       " Row(Geohash='9q8g2q1xkx2p', vis_surf_avg=24225.533336292614),\n",
       " Row(Geohash='9q8930yqggs0', vis_surf_avg=24225.522690716913),\n",
       " Row(Geohash='9qcyr9h1t07z', vis_surf_avg=24225.517578125)]"
      ]
     },
     "execution_count": 29,
     "metadata": {},
     "output_type": "execute_result"
    }
   ],
   "source": [
    "visibilities"
   ]
  },
  {
   "cell_type": "code",
   "execution_count": null,
   "metadata": {},
   "outputs": [],
   "source": []
  }
 ],
 "metadata": {
  "kernelspec": {
   "display_name": "Python 3",
   "language": "python",
   "name": "python3"
  },
  "language_info": {
   "codemirror_mode": {
    "name": "ipython",
    "version": 3
   },
   "file_extension": ".py",
   "mimetype": "text/x-python",
   "name": "python",
   "nbconvert_exporter": "python",
   "pygments_lexer": "ipython3",
   "version": "3.6.5"
  }
 },
 "nbformat": 4,
 "nbformat_minor": 2
}
