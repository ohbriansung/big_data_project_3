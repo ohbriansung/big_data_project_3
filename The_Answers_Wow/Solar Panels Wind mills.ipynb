{
 "cells": [
  {
   "cell_type": "code",
   "execution_count": 1,
   "metadata": {},
   "outputs": [],
   "source": [
    "import matplotlib.pyplot as plt\n",
    "import numpy as np\n",
    "\n",
    "from pyspark.sql.types import StructType, StructField, FloatType, LongType, StringType\n",
    "from datetime import datetime"
   ]
  },
  {
   "cell_type": "code",
   "execution_count": null,
   "metadata": {},
   "outputs": [],
   "source": [
    "feats = []\n",
    "f = open('../features.txt')\n",
    "for line_num, line in enumerate(f):\n",
    "    if line_num == 0:\n",
    "        # Timestamp\n",
    "        feats.append(StructField(line.strip(), LongType(), True))\n",
    "    elif line_num == 1:\n",
    "        # Geohash\n",
    "        feats.append(StructField(line.strip(), StringType(), True))\n",
    "    else:\n",
    "        # Other features\n",
    "        feats.append(StructField(line.strip(), FloatType(), True))\n",
    "schema = StructType(feats)"
   ]
  },
  {
   "cell_type": "code",
   "execution_count": 3,
   "metadata": {},
   "outputs": [
    {
     "name": "stdout",
     "output_type": "stream",
     "text": [
      "CPU times: user 53.7 ms, sys: 12.6 ms, total: 66.2 ms\n",
      "Wall time: 2min 35s\n"
     ]
    }
   ],
   "source": [
    "%%time\n",
    "\n",
    "df = spark.read.format('csv').option('sep', '\\t').schema(schema).load('hdfs://orion11:30999/nam/data/nam_s')\n",
    "df.take(1)"
   ]
  },
  {
   "cell_type": "markdown",
   "metadata": {},
   "source": [
    "### Solar Features\n",
    "total_cloud_cover_entire_atmosphere<br>\n",
    "visibility_surface<br>\n",
    "categorical_rain_yes1_no0_surface<br>\n",
    "\n",
    "We want to find features that have low cloud coverage and high visiblity surface ( Not 100% sure what visiblity surface means but I will assume that higher visiblity would allow for more sunlight ). Of course the best places for solar farms would also be places with low rainfall since we want as little clouds as possible. \n",
    "\n",
    "### Wind Features\n",
    "surface_wind_gust_surface<br>\n",
    "v-component_of_wind_maximum_wind<br>\n",
    "pressure_surface<br>\n",
    "pressure_maximum_wind<br>\n",
    "\n",
    "\n"
   ]
  },
  {
   "cell_type": "markdown",
   "metadata": {},
   "source": [
    "## Solar Features Description"
   ]
  },
  {
   "cell_type": "code",
   "execution_count": 8,
   "metadata": {
    "scrolled": true
   },
   "outputs": [
    {
     "name": "stdout",
     "output_type": "stream",
     "text": [
      "+-------+-----------------------------------+------------------+---------------------------------+\n",
      "|summary|total_cloud_cover_entire_atmosphere|visibility_surface|categorical_rain_yes1_no0_surface|\n",
      "+-------+-----------------------------------+------------------+---------------------------------+\n",
      "|  count|                          108000000|         108000000|                        108000000|\n",
      "|   mean|               -2.42109131147400...|21717.428957248074|              0.08852023148148148|\n",
      "| stddev|               4.914506718751981...| 6141.102072809382|              0.28404999709034684|\n",
      "|    min|                      -1.0000036E20|         17.292929|                              0.0|\n",
      "|    max|                              100.0|         24307.436|                              1.0|\n",
      "+-------+-----------------------------------+------------------+---------------------------------+\n",
      "\n"
     ]
    }
   ],
   "source": [
    "df.describe([\n",
    "    'total_cloud_cover_entire_atmosphere',\n",
    "    'visibility_surface',\n",
    "    'categorical_rain_yes1_no0_surface'\n",
    "]).show()"
   ]
  },
  {
   "cell_type": "markdown",
   "metadata": {},
   "source": [
    "## Wind Features Description"
   ]
  },
  {
   "cell_type": "code",
   "execution_count": 7,
   "metadata": {
    "scrolled": true
   },
   "outputs": [
    {
     "name": "stdout",
     "output_type": "stream",
     "text": [
      "+-------+-------------------------+--------------------------------+-----------------+---------------------+\n",
      "|summary|surface_wind_gust_surface|v-component_of_wind_maximum_wind| pressure_surface|pressure_maximum_wind|\n",
      "+-------+-------------------------+--------------------------------+-----------------+---------------------+\n",
      "|  count|                108000000|                       108000000|        108000000|            108000000|\n",
      "|   mean|        6.847670909482179|             -1.1452036799420957|97924.25023205555|   22274.680711306133|\n",
      "| stddev|        4.462058868522337|              18.983894779918007|6041.825119192631|    7190.963967770848|\n",
      "|    min|             7.1111065E-4|                        -92.0031|          63860.0|            11120.641|\n",
      "|    max|                 55.79795|                       106.34735|         105154.0|            50128.137|\n",
      "+-------+-------------------------+--------------------------------+-----------------+---------------------+\n",
      "\n"
     ]
    }
   ],
   "source": [
    "df.describe([\n",
    "    'surface_wind_gust_surface',\n",
    "    'v-component_of_wind_maximum_wind',\n",
    "    'pressure_surface',\n",
    "    'pressure_maximum_wind'\n",
    "]).show()"
   ]
  },
  {
   "cell_type": "code",
   "execution_count": 21,
   "metadata": {
    "scrolled": true
   },
   "outputs": [
    {
     "name": "stdout",
     "output_type": "stream",
     "text": [
      "Row(Geohash='dh6zwfesgggz', avg_cloud=-8.333360621627462e+17, avg_vis=23788.02738308377, avg_rain=0.03888888888888889)\n",
      "Row(Geohash='9h7zm3u5enrb', avg_cloud=-8.310276520182511e+17, avg_vis=24178.492847558864, avg_rain=0.019390581717451522)\n",
      "Row(Geohash='8uxzm5c75j80', avg_cloud=-8.287319955209632e+17, avg_vis=23920.80753355922, avg_rain=0.0718232044198895)\n",
      "CPU times: user 24.7 ms, sys: 15.5 ms, total: 40.2 ms\n",
      "Wall time: 2min 29s\n"
     ]
    }
   ],
   "source": [
    "%%time\n",
    "df.createOrReplaceTempView(\"nam_small\")\n",
    "solar_location = spark.sql(\n",
    "    f'''SELECT * FROM(SELECT Geohash, avg(total_cloud_cover_entire_atmosphere) as avg_cloud, avg(visibility_surface) as avg_vis, avg(categorical_rain_yes1_no0_surface) as avg_rain\n",
    "        FROM nam_small \n",
    "        GROUP BY Geohash \n",
    "        Having avg_cloud < -.2 and avg_vis > 21700 and avg_rain < .08) as t2\n",
    "    ORDER BY avg_cloud, avg_vis DESC, avg_rain\n",
    "    Limit 3\n",
    "    ''').collect()\n",
    "\n",
    "for row in solar_location:\n",
    "    print (row)"
   ]
  },
  {
   "cell_type": "code",
   "execution_count": 20,
   "metadata": {
    "scrolled": true
   },
   "outputs": [
    {
     "name": "stdout",
     "output_type": "stream",
     "text": [
      "Row(Geohash='b9k9ftmc7npb', avg_gust=11.904280211305277, avg_pressure=100729.32696897375, avg_max_pressure=28154.51828432652)\n",
      "Row(Geohash='b9pp0nkjhepb', avg_gust=12.28862724831139, avg_pressure=100892.28743961353, avg_max_pressure=28060.23099949049)\n",
      "Row(Geohash='b9kcfeq0zv00', avg_gust=12.433918561014679, avg_pressure=100643.69565217392, avg_max_pressure=27887.859090273338)\n",
      "Row(Geohash='b9huphe79ubp', avg_gust=12.240076919446638, avg_pressure=100970.36432160804, avg_max_pressure=27881.79797915358)\n"
     ]
    }
   ],
   "source": [
    "wind_location = spark.sql(\n",
    "    f'''SELECT * FROM(SELECT Geohash, avg(surface_wind_gust_surface) as avg_gust, avg(pressure_surface) as avg_pressure, avg(pressure_maximum_wind) as avg_max_pressure\n",
    "        FROM nam_small \n",
    "        GROUP BY Geohash \n",
    "        Having avg_gust > 6.8 and avg_pressure > 98000 and avg_max_pressure > 22000) as t2\n",
    "    ORDER BY avg_max_pressure DESC, avg_gust DESC, avg_pressure DESC\n",
    "    Limit 3\n",
    "    ''').collect()\n",
    "\n",
    "\n",
    "for row in wind_location:\n",
    "    print (row)"
   ]
  },
  {
   "cell_type": "code",
   "execution_count": null,
   "metadata": {},
   "outputs": [],
   "source": []
  }
 ],
 "metadata": {
  "kernelspec": {
   "display_name": "Python 3",
   "language": "python",
   "name": "python3"
  },
  "language_info": {
   "codemirror_mode": {
    "name": "ipython",
    "version": 3
   },
   "file_extension": ".py",
   "mimetype": "text/x-python",
   "name": "python",
   "nbconvert_exporter": "python",
   "pygments_lexer": "ipython3",
   "version": "3.7.1"
  }
 },
 "nbformat": 4,
 "nbformat_minor": 2
}
