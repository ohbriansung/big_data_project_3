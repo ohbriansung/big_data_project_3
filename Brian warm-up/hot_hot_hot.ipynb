{
 "cells": [
  {
   "cell_type": "markdown",
   "metadata": {},
   "source": [
    "# The hotest day"
   ]
  },
  {
   "cell_type": "code",
   "execution_count": 3,
   "metadata": {},
   "outputs": [],
   "source": [
    "import matplotlib.pyplot as plt\n",
    "import numpy as np\n",
    "\n",
    "from pyspark.sql.types import StructType, StructField, FloatType, LongType, StringType\n",
    "from datetime import datetime"
   ]
  },
  {
   "cell_type": "markdown",
   "metadata": {},
   "source": [
    "## Create schema"
   ]
  },
  {
   "cell_type": "code",
   "execution_count": 4,
   "metadata": {
    "scrolled": true
   },
   "outputs": [
    {
     "name": "stdout",
     "output_type": "stream",
     "text": [
      "StructType(List(StructField(Timestamp,LongType,true),StructField(Geohash,StringType,true),StructField(geopotential_height_lltw,FloatType,true),StructField(water_equiv_of_accum_snow_depth_surface,FloatType,true),StructField(drag_coefficient_surface,FloatType,true),StructField(sensible_heat_net_flux_surface,FloatType,true),StructField(categorical_ice_pellets_yes1_no0_surface,FloatType,true),StructField(visibility_surface,FloatType,true),StructField(number_of_soil_layers_in_root_zone_surface,FloatType,true),StructField(categorical_freezing_rain_yes1_no0_surface,FloatType,true),StructField(pressure_reduced_to_msl_msl,FloatType,true),StructField(upward_short_wave_rad_flux_surface,FloatType,true),StructField(relative_humidity_zerodegc_isotherm,FloatType,true),StructField(categorical_snow_yes1_no0_surface,FloatType,true),StructField(u-component_of_wind_tropopause,FloatType,true),StructField(surface_wind_gust_surface,FloatType,true),StructField(total_cloud_cover_entire_atmosphere,FloatType,true),StructField(upward_long_wave_rad_flux_surface,FloatType,true),StructField(land_cover_land1_sea0_surface,FloatType,true),StructField(vegitation_type_as_in_sib_surface,FloatType,true),StructField(v-component_of_wind_pblri,FloatType,true),StructField(albedo_surface,FloatType,true),StructField(lightning_surface,FloatType,true),StructField(ice_cover_ice1_no_ice0_surface,FloatType,true),StructField(convective_inhibition_surface,FloatType,true),StructField(pressure_surface,FloatType,true),StructField(transpiration_stress-onset_soil_moisture_surface,FloatType,true),StructField(soil_porosity_surface,FloatType,true),StructField(vegetation_surface,FloatType,true),StructField(categorical_rain_yes1_no0_surface,FloatType,true),StructField(downward_long_wave_rad_flux_surface,FloatType,true),StructField(planetary_boundary_layer_height_surface,FloatType,true),StructField(soil_type_as_in_zobler_surface,FloatType,true),StructField(geopotential_height_cloud_base,FloatType,true),StructField(friction_velocity_surface,FloatType,true),StructField(maximumcomposite_radar_reflectivity_entire_atmosphere,FloatType,true),StructField(plant_canopy_surface_water_surface,FloatType,true),StructField(v-component_of_wind_maximum_wind,FloatType,true),StructField(geopotential_height_zerodegc_isotherm,FloatType,true),StructField(mean_sea_level_pressure_nam_model_reduction_msl,FloatType,true),StructField(temperature_surface,FloatType,true),StructField(snow_cover_surface,FloatType,true),StructField(geopotential_height_surface,FloatType,true),StructField(convective_available_potential_energy_surface,FloatType,true),StructField(latent_heat_net_flux_surface,FloatType,true),StructField(surface_roughness_surface,FloatType,true),StructField(pressure_maximum_wind,FloatType,true),StructField(temperature_tropopause,FloatType,true),StructField(geopotential_height_pblri,FloatType,true),StructField(pressure_tropopause,FloatType,true),StructField(snow_depth_surface,FloatType,true),StructField(v-component_of_wind_tropopause,FloatType,true),StructField(downward_short_wave_rad_flux_surface,FloatType,true),StructField(u-component_of_wind_maximum_wind,FloatType,true),StructField(wilting_point_surface,FloatType,true),StructField(precipitable_water_entire_atmosphere,FloatType,true),StructField(u-component_of_wind_pblri,FloatType,true),StructField(direct_evaporation_cease_soil_moisture_surface,FloatType,true)))\n"
     ]
    }
   ],
   "source": [
    "feats = []\n",
    "f = open('../features.txt')\n",
    "for line_num, line in enumerate(f):\n",
    "    if line_num == 0:\n",
    "        # Timestamp\n",
    "        feats.append(StructField(line.strip(), LongType(), True))\n",
    "    elif line_num == 1:\n",
    "        # Geohash\n",
    "        feats.append(StructField(line.strip(), StringType(), True))\n",
    "    else:\n",
    "        # Other features\n",
    "        feats.append(StructField(line.strip(), FloatType(), True))\n",
    "    \n",
    "schema = StructType(feats)\n",
    "\n",
    "print(schema)"
   ]
  },
  {
   "cell_type": "markdown",
   "metadata": {},
   "source": [
    "## 1. Tiny data"
   ]
  },
  {
   "cell_type": "code",
   "execution_count": 4,
   "metadata": {
    "scrolled": false
   },
   "outputs": [
    {
     "name": "stdout",
     "output_type": "stream",
     "text": [
      "+-------------+-------------------+\n",
      "|    Timestamp|temperature_surface|\n",
      "+-------------+-------------------+\n",
      "|1426377600000|          296.49802|\n",
      "|1426377600000|          254.49802|\n",
      "|1426377600000|          297.49802|\n",
      "+-------------+-------------------+\n",
      "only showing top 3 rows\n",
      "\n",
      "CPU times: user 4.61 ms, sys: 5.16 ms, total: 9.77 ms\n",
      "Wall time: 18.5 s\n"
     ]
    }
   ],
   "source": [
    "%%time\n",
    "\n",
    "df = spark.read.format('csv').option('sep', '\\t').schema(schema).load('hdfs://orion11:13030/nam_tiny.tdv')\n",
    "df = df.select(['Timestamp', 'temperature_surface'])  # Select columns needed to speed up the process\n",
    "df.show(3)"
   ]
  },
  {
   "cell_type": "markdown",
   "metadata": {},
   "source": [
    "## Highest temperature"
   ]
  },
  {
   "cell_type": "code",
   "execution_count": 5,
   "metadata": {},
   "outputs": [
    {
     "data": {
      "text/plain": [
       "306.4980163574219"
      ]
     },
     "execution_count": 5,
     "metadata": {},
     "output_type": "execute_result"
    }
   ],
   "source": [
    "max_row = df.agg({'temperature_surface': 'max'}).collect()[0]\n",
    "hotest = max_row['max(temperature_surface)']\n",
    "hotest"
   ]
  },
  {
   "cell_type": "code",
   "execution_count": 7,
   "metadata": {},
   "outputs": [],
   "source": [
    "# Creating a Degrees Kelvin to Degrees Celsius converter for later use.\n",
    "def convert_dk_to_dc(dk):\n",
    "    return dk - 273.15"
   ]
  },
  {
   "cell_type": "code",
   "execution_count": 7,
   "metadata": {},
   "outputs": [
    {
     "name": "stdout",
     "output_type": "stream",
     "text": [
      "306.4980163574219 Degrees Kelvin = 33.3480163574219 Degrees Celsius\n"
     ]
    }
   ],
   "source": [
    "dc = convert_dk_to_dc(hotest)\n",
    "print(f'{hotest} Degrees Kelvin = {dc} Degrees Celsius')"
   ]
  },
  {
   "cell_type": "markdown",
   "metadata": {},
   "source": [
    "## Hotest day"
   ]
  },
  {
   "cell_type": "code",
   "execution_count": 8,
   "metadata": {},
   "outputs": [
    {
     "name": "stdout",
     "output_type": "stream",
     "text": [
      "Hostest day count = 1\n",
      "Unix Timestamp = 1426377600.0\n",
      "Hostest date = 2015-03-15 00:00:00\n"
     ]
    }
   ],
   "source": [
    "# Creating an SQL 'table'\n",
    "df.createOrReplaceTempView(\"TINY_NAM\")\n",
    "\n",
    "# Getting the timestamp value of the highest temperature_surface row.\n",
    "hotest_time = spark.sql(f'SELECT Timestamp FROM TINY_NAM WHERE temperature_surface = {hotest}').collect()\n",
    "print(f'Hostest day count = {len(hotest_time)}')\n",
    "\n",
    "unix_timestamp = hotest_time[0]['Timestamp'] / 1000\n",
    "print(f'Unix Timestamp = {unix_timestamp}')\n",
    "\n",
    "hotest_date = datetime.utcfromtimestamp(unix_timestamp).strftime('%Y-%m-%d %H:%M:%S')\n",
    "print(f'Hostest date = {hotest_date}')"
   ]
  },
  {
   "cell_type": "markdown",
   "metadata": {},
   "source": [
    "## Describe dataset"
   ]
  },
  {
   "cell_type": "code",
   "execution_count": 9,
   "metadata": {},
   "outputs": [
    {
     "name": "stdout",
     "output_type": "stream",
     "text": [
      "+-------+-------------------+\n",
      "|summary|temperature_surface|\n",
      "+-------+-------------------+\n",
      "|  count|                100|\n",
      "|   mean|  284.9017663574219|\n",
      "| stddev| 13.002025568205239|\n",
      "|    min|          247.49802|\n",
      "|    max|          306.49802|\n",
      "+-------+-------------------+\n",
      "\n"
     ]
    }
   ],
   "source": [
    "df.describe(['temperature_surface']).show()"
   ]
  },
  {
   "cell_type": "code",
   "execution_count": 10,
   "metadata": {},
   "outputs": [
    {
     "name": "stdout",
     "output_type": "stream",
     "text": [
      "Mean: 284.9017663574219 Degrees Kelvin = 11.7517663574219 Degrees Celsius\n"
     ]
    }
   ],
   "source": [
    "_mean = 284.9017663574219\n",
    "_mean_dc = convert_dk_to_dc(_mean)\n",
    "print(f'Mean: {_mean} Degrees Kelvin = {_mean_dc} Degrees Celsius')"
   ]
  },
  {
   "cell_type": "code",
   "execution_count": 11,
   "metadata": {},
   "outputs": [
    {
     "data": {
      "image/png": "[encoded data removed]",
      "text/plain": [
       "<Figure size 432x864 with 1 Axes>"
      ]
     },
     "metadata": {},
     "output_type": "display_data"
    }
   ],
   "source": [
    "%matplotlib inline\n",
    "pdf = df.toPandas()\n",
    "plt.figure(figsize=(6, 12))\n",
    "plt.boxplot(pdf['temperature_surface'].values)\n",
    "plt.yticks(np.arange(min(pdf['temperature_surface'].values)-1, max(pdf['temperature_surface'].values)+1, 3))\n",
    "plt.title(\"Temperature Box\")\n",
    "plt.show()"
   ]
  },
  {
   "cell_type": "markdown",
   "metadata": {},
   "source": [
    "* We can observe that the highest temperature in the sample dataset is **306.5** Degrees Kelvin, which is 33.35 Degrees Celsius.\n",
    "* That happened on **March 15th, 2015** (UTC).\n",
    "* The result 306.5 is the max but not an outlier, so it's **not an anomaly** for the dataset.\n",
    "* I removed three tailing zeros from the Unix Timestamp since it was in millisecond format and we need second format to convert it into datetime in Python."
   ]
  },
  {
   "cell_type": "markdown",
   "metadata": {},
   "source": [
    "## 2. Entire Dataset"
   ]
  },
  {
   "cell_type": "code",
   "execution_count": 5,
   "metadata": {},
   "outputs": [
    {
     "name": "stdout",
     "output_type": "stream",
     "text": [
      "+-------------+------------+------------------------+---------------------------------------+------------------------+------------------------------+----------------------------------------+------------------+------------------------------------------+------------------------------------------+---------------------------+----------------------------------+-----------------------------------+---------------------------------+------------------------------+-------------------------+-----------------------------------+---------------------------------+-----------------------------+---------------------------------+-------------------------+--------------+-----------------+------------------------------+-----------------------------+----------------+------------------------------------------------+---------------------+------------------+---------------------------------+-----------------------------------+---------------------------------------+------------------------------+------------------------------+-------------------------+-----------------------------------------------------+----------------------------------+--------------------------------+-------------------------------------+-----------------------------------------------+-------------------+------------------+---------------------------+---------------------------------------------+----------------------------+-------------------------+---------------------+----------------------+-------------------------+-------------------+------------------+------------------------------+------------------------------------+--------------------------------+---------------------+------------------------------------+-------------------------+----------------------------------------------+\n",
      "|    Timestamp|     Geohash|geopotential_height_lltw|water_equiv_of_accum_snow_depth_surface|drag_coefficient_surface|sensible_heat_net_flux_surface|categorical_ice_pellets_yes1_no0_surface|visibility_surface|number_of_soil_layers_in_root_zone_surface|categorical_freezing_rain_yes1_no0_surface|pressure_reduced_to_msl_msl|upward_short_wave_rad_flux_surface|relative_humidity_zerodegc_isotherm|categorical_snow_yes1_no0_surface|u-component_of_wind_tropopause|surface_wind_gust_surface|total_cloud_cover_entire_atmosphere|upward_long_wave_rad_flux_surface|land_cover_land1_sea0_surface|vegitation_type_as_in_sib_surface|v-component_of_wind_pblri|albedo_surface|lightning_surface|ice_cover_ice1_no_ice0_surface|convective_inhibition_surface|pressure_surface|transpiration_stress-onset_soil_moisture_surface|soil_porosity_surface|vegetation_surface|categorical_rain_yes1_no0_surface|downward_long_wave_rad_flux_surface|planetary_boundary_layer_height_surface|soil_type_as_in_zobler_surface|geopotential_height_cloud_base|friction_velocity_surface|maximumcomposite_radar_reflectivity_entire_atmosphere|plant_canopy_surface_water_surface|v-component_of_wind_maximum_wind|geopotential_height_zerodegc_isotherm|mean_sea_level_pressure_nam_model_reduction_msl|temperature_surface|snow_cover_surface|geopotential_height_surface|convective_available_potential_energy_surface|latent_heat_net_flux_surface|surface_roughness_surface|pressure_maximum_wind|temperature_tropopause|geopotential_height_pblri|pressure_tropopause|snow_depth_surface|v-component_of_wind_tropopause|downward_short_wave_rad_flux_surface|u-component_of_wind_maximum_wind|wilting_point_surface|precipitable_water_entire_atmosphere|u-component_of_wind_pblri|direct_evaporation_cease_soil_moisture_surface|\n",
      "+-------------+------------+------------------------+---------------------------------------+------------------------+------------------------------+----------------------------------------+------------------+------------------------------------------+------------------------------------------+---------------------------+----------------------------------+-----------------------------------+---------------------------------+------------------------------+-------------------------+-----------------------------------+---------------------------------+-----------------------------+---------------------------------+-------------------------+--------------+-----------------+------------------------------+-----------------------------+----------------+------------------------------------------------+---------------------+------------------+---------------------------------+-----------------------------------+---------------------------------------+------------------------------+------------------------------+-------------------------+-----------------------------------------------------+----------------------------------+--------------------------------+-------------------------------------+-----------------------------------------------+-------------------+------------------+---------------------------+---------------------------------------------+----------------------------+-------------------------+---------------------+----------------------+-------------------------+-------------------+------------------+------------------------------+------------------------------------+--------------------------------+---------------------+------------------------------------+-------------------------+----------------------------------------------+\n",
      "|1430438400000|dndf9tz5r8eb|                1915.594|                                    0.0|                     0.0|                    -12.571274|                                     0.0|          24220.53|                                       3.0|                                       0.0|                   101235.0|                              4.25|                               95.0|                              0.0|                     20.282288|                3.9325132|                               98.0|                        371.25928|                          1.0|                             10.0|               -3.4725952|         17.25|              0.0|                           0.0|                   -12.582764|         98873.0|                                      0.35999998|                  0.5|             74.75|                              0.0|                          352.74557|                                3799.75|                           4.0|                        1795.5|               0.12634364|                                               -5.625|                            0.1725|                      -36.302048|                               1940.0|                                       101249.0|          284.51392|               0.0|                  199.82002|                                        320.0|                    6.516083|                0.1750159|            36921.164|             211.69955|                 85.20363|          10801.063|               0.0|                    -10.068893|                              24.375|                       37.934875|          0.083749995|                            14.87809|               -0.2767105|                                   0.083749995|\n",
      "|1430438400000|dkgtgw6v6y7z|                3631.969|                                    0.0|                     0.0|                    -0.3212738|                                     0.0|          24220.53|                                       0.0|                                       0.0|                   100777.0|                               0.0|                               93.0|                              0.0|                     30.532288|                10.307513|                              100.0|                        438.13428|                          0.0|                              0.0|                 6.214905|           6.0|              0.0|                           0.0|                   -0.5827637|        100777.0|                                             0.0|                  0.0|               0.0|                              0.0|                          420.74557|                                  758.0|                           0.0|                         356.5|               0.31384364|                                               5.4375|                               0.0|                       21.447952|                               4120.0|                                       100777.0|          298.76392|               0.0|                 0.07002258|                                       1360.0|                    85.89108|             1.5900003E-5|            22121.162|             198.57455|                 516.2036|          10801.063|               0.0|                     4.5561066|                                 0.0|                       45.434875|                  0.0|                            46.62809|                8.3482895|                                           0.0|\n",
      "|1430438400000|9pp01268db80|                2294.344|                                    0.0|                     0.0|                     2.0537262|                                     0.0|          24220.53|                                       0.0|                                       0.0|                   101308.0|                             48.25|                               10.0|                              0.0|                     12.157288|                17.432514|                                0.0|                        366.25928|                          0.0|                              0.0|               -16.597595|           6.0|              0.0|                           0.0|                   -0.5827637|        101308.0|                                             0.0|                  0.0|               0.0|                              0.0|                          279.24557|                                1250.75|                           0.0|                       -5000.0|                0.5763436|                                                -20.0|                               0.0|                       4.3229523|                               3780.0|                                       101308.0|          285.63892|               0.0|                 0.07002258|                                          0.0|                   51.391083|             1.5900003E-5|            23121.162|             213.19955|                245.70363|          20201.062|               0.0|                     3.5561066|                             590.375|                      12.9348755|                  0.0|                             6.37809|               -2.0892105|                                           0.0|\n",
      "+-------------+------------+------------------------+---------------------------------------+------------------------+------------------------------+----------------------------------------+------------------+------------------------------------------+------------------------------------------+---------------------------+----------------------------------+-----------------------------------+---------------------------------+------------------------------+-------------------------+-----------------------------------+---------------------------------+-----------------------------+---------------------------------+-------------------------+--------------+-----------------+------------------------------+-----------------------------+----------------+------------------------------------------------+---------------------+------------------+---------------------------------+-----------------------------------+---------------------------------------+------------------------------+------------------------------+-------------------------+-----------------------------------------------------+----------------------------------+--------------------------------+-------------------------------------+-----------------------------------------------+-------------------+------------------+---------------------------+---------------------------------------------+----------------------------+-------------------------+---------------------+----------------------+-------------------------+-------------------+------------------+------------------------------+------------------------------------+--------------------------------+---------------------+------------------------------------+-------------------------+----------------------------------------------+\n",
      "only showing top 3 rows\n",
      "\n",
      "CPU times: user 48.9 ms, sys: 8.86 ms, total: 57.7 ms\n",
      "Wall time: 8min 18s\n"
     ]
    }
   ],
   "source": [
    "%%time\n",
    "\n",
    "df = spark.read.format('csv').option('sep', '\\t').schema(schema).load('hdfs://orion11:13030/nam/*')\n",
    "df.show(3)"
   ]
  },
  {
   "cell_type": "code",
   "execution_count": 8,
   "metadata": {},
   "outputs": [
    {
     "name": "stdout",
     "output_type": "stream",
     "text": [
      "Highest temperature = 331.390625\n",
      "331.390625 Degrees Kelvin = 58.24062500000002 Degrees Celsius\n",
      "Hostest day count = 1\n",
      "Unix Timestamp = 1440266400.0\n",
      "Hostest date = 2015-08-22 18:00:00\n",
      "+-------+-------------------+\n",
      "|summary|temperature_surface|\n",
      "+-------+-------------------+\n",
      "|  count|          323759744|\n",
      "|   mean|  287.8572105962259|\n",
      "| stddev| 13.716834080260096|\n",
      "|    min|          218.99284|\n",
      "|    max|          331.39062|\n",
      "+-------+-------------------+\n",
      "\n",
      "CPU times: user 136 ms, sys: 50 ms, total: 186 ms\n",
      "Wall time: 17min 24s\n"
     ]
    }
   ],
   "source": [
    "%%time\n",
    "\n",
    "# Repeat the approach above\n",
    "max_row = df.agg({'temperature_surface': 'max'}).collect()[0]\n",
    "hotest = max_row['max(temperature_surface)']\n",
    "print(f'Highest temperature = {hotest}')\n",
    "\n",
    "dc = convert_dk_to_dc(hotest)\n",
    "print(f'{hotest} Degrees Kelvin = {dc} Degrees Celsius')\n",
    "\n",
    "df.createOrReplaceTempView(\"NAM\")\n",
    "hotest_time = spark.sql(f'SELECT Timestamp FROM NAM WHERE temperature_surface = {hotest}').collect()\n",
    "print(f'Hostest day count = {len(hotest_time)}')\n",
    "\n",
    "unix_timestamp = hotest_time[0]['Timestamp'] / 1000\n",
    "print(f'Unix Timestamp = {unix_timestamp}')\n",
    "\n",
    "hotest_date = datetime.utcfromtimestamp(unix_timestamp).strftime('%Y-%m-%d %H:%M:%S')\n",
    "print(f'Hostest date = {hotest_date}')\n",
    "\n",
    "df.describe(['temperature_surface']).show()"
   ]
  },
  {
   "cell_type": "code",
   "execution_count": 9,
   "metadata": {},
   "outputs": [
    {
     "name": "stdout",
     "output_type": "stream",
     "text": [
      "Mean: 287.8572105962259 Degrees Kelvin = 14.707210596225934 Degrees Celsius\n"
     ]
    }
   ],
   "source": [
    "_mean = 287.8572105962259\n",
    "_mean_dc = convert_dk_to_dc(_mean)\n",
    "print(f'Mean: {_mean} Degrees Kelvin = {_mean_dc} Degrees Celsius')"
   ]
  },
  {
   "cell_type": "code",
   "execution_count": 15,
   "metadata": {},
   "outputs": [
    {
     "name": "stdout",
     "output_type": "stream",
     "text": [
      "+-------------------+\n",
      "|temperature_surface|\n",
      "+-------------------+\n",
      "|          293.76392|\n",
      "|          299.88892|\n",
      "|          305.51392|\n",
      "+-------------------+\n",
      "only showing top 3 rows\n",
      "\n"
     ]
    }
   ],
   "source": [
    "# In order to convert to pandas dataframe, we need to sample the data. Otherwise, we will run out of memory on driver.\n",
    "# I have tested 10% sample but it still throw OOM error. So I am using 1% sample for displaying the result in graph.\n",
    "df_sample = df.select(['temperature_surface']).sample(False, 0.01, seed=1)\n",
    "df_sample.show(3)"
   ]
  },
  {
   "cell_type": "code",
   "execution_count": 16,
   "metadata": {},
   "outputs": [
    {
     "data": {
      "image/png": "[encoded data removed]",
      "text/plain": [
       "<Figure size 432x864 with 1 Axes>"
      ]
     },
     "metadata": {},
     "output_type": "display_data"
    }
   ],
   "source": [
    "%matplotlib inline\n",
    "\n",
    "pdf = df_sample.toPandas()\n",
    "plt.figure(figsize=(6, 12))\n",
    "plt.boxplot(pdf['temperature_surface'].values)\n",
    "plt.yticks(np.arange(min(pdf['temperature_surface'].values)-1, max(pdf['temperature_surface'].values)+1, 3))\n",
    "plt.title(\"Temperature Box\")\n",
    "plt.show()"
   ]
  },
  {
   "cell_type": "markdown",
   "metadata": {},
   "source": [
    "* The highest temperature of the entire dataset is **331.4** Degrees Kelvin, which is 58.24 Degrees Celsius.\n",
    "* The hotest date was **August 22, 2015** (UTC).\n",
    "* This is **an anomaly** since the temperature was way off the normal range and it's a outlier displayed in the box graph."
   ]
  },
  {
   "cell_type": "code",
   "execution_count": null,
   "metadata": {},
   "outputs": [],
   "source": []
  }
 ],
 "metadata": {
  "kernelspec": {
   "display_name": "Python 3",
   "language": "python",
   "name": "python3"
  },
  "language_info": {
   "codemirror_mode": {
    "name": "ipython",
    "version": 3
   },
   "file_extension": ".py",
   "mimetype": "text/x-python",
   "name": "python",
   "nbconvert_exporter": "python",
   "pygments_lexer": "ipython3",
   "version": "3.6.5"
  }
 },
 "nbformat": 4,
 "nbformat_minor": 2
}
