{
 "cells": [
  {
   "cell_type": "code",
   "execution_count": 11,
   "metadata": {},
   "outputs": [],
   "source": [
    "import matplotlib.pyplot as plt\n",
    "import numpy as np\n",
    "\n",
    "from pyspark.sql.types import StructType, StructField, FloatType, LongType, StringType"
   ]
  },
  {
   "cell_type": "code",
   "execution_count": 13,
   "metadata": {},
   "outputs": [
    {
     "name": "stdout",
     "output_type": "stream",
     "text": [
      "+--------+-----------+--------------------+--------------------+----+-------------+--------------------+--------------------+------+--------+----+--------+----+--------------+--------+------------+------------+----+--------------------+------------+-------------+--------------------+\n",
      "|      ID|Case Number|                Date|               Block|IUCR| Primary Type|         Description|Location Description|Arrest|Domestic|Beat|District|Ward|Community Area|FBI Code|X Coordinate|Y Coordinate|Year|          Updated On|    Latitude|    Longitude|            Location|\n",
      "+--------+-----------+--------------------+--------------------+----+-------------+--------------------+--------------------+------+--------+----+--------+----+--------------+--------+------------+------------+----+--------------------+------------+-------------+--------------------+\n",
      "|10000092|   HY189866|03/18/2015 07:44:...|     047XX W OHIO ST|041A|      BATTERY| AGGRAVATED: HANDGUN|              STREET| false|   false|1111|     011|  28|            25|     04B|     1144606|     1903566|2015|02/10/2018 03:50:...|41.891398861|-87.744384567|(41.891398861, -8...|\n",
      "|10000094|   HY190059|03/18/2015 11:00:...|066XX S MARSHFIEL...|4625|OTHER OFFENSE|    PAROLE VIOLATION|              STREET|  true|   false|0725|     007|  15|            67|      26|     1166468|     1860715|2015|02/10/2018 03:50:...|41.773371528|-87.665319468|(41.773371528, -8...|\n",
      "|10000095|   HY190052|03/18/2015 10:45:...|044XX S LAKE PARK...|0486|      BATTERY|DOMESTIC BATTERY ...|           APARTMENT| false|    true|0222|     002|   4|            39|     08B|     1185075|     1875622|2015|02/10/2018 03:50:...| 41.81386068|-87.596642837|(41.81386068, -87...|\n",
      "+--------+-----------+--------------------+--------------------+----+-------------+--------------------+--------------------+------+--------+----+--------+----+--------------+--------+------------+------------+----+--------------------+------------+-------------+--------------------+\n",
      "only showing top 3 rows\n",
      "\n",
      "CPU times: user 774 µs, sys: 2.9 ms, total: 3.68 ms\n",
      "Wall time: 10 s\n"
     ]
    }
   ],
   "source": [
    "%%time\n",
    "\n",
    "# hdfs_port = \"hdfs://orion11:26990\"\n",
    "# hdfs_path = \"/FL_insurance_sample.csv\"\n",
    "\n",
    "hdfs_port = \"hdfs://orion11:13030\"\n",
    "hdfs_path = \"/crime-since-2001-chicago.csv\"\n",
    "df = spark.read.format('csv').option(\"header\", \"true\").load(hdfs_port + hdfs_path).limit(20)\n",
    "df.show(3)"
   ]
  },
  {
   "cell_type": "code",
   "execution_count": 14,
   "metadata": {},
   "outputs": [
    {
     "data": {
      "text/plain": [
       "['ID',\n",
       " 'Case Number',\n",
       " 'Date',\n",
       " 'Block',\n",
       " 'IUCR',\n",
       " 'Primary Type',\n",
       " 'Description',\n",
       " 'Location Description',\n",
       " 'Arrest',\n",
       " 'Domestic',\n",
       " 'Beat',\n",
       " 'District',\n",
       " 'Ward',\n",
       " 'Community Area',\n",
       " 'FBI Code',\n",
       " 'X Coordinate',\n",
       " 'Y Coordinate',\n",
       " 'Year',\n",
       " 'Updated On',\n",
       " 'Latitude',\n",
       " 'Longitude',\n",
       " 'Location']"
      ]
     },
     "execution_count": 14,
     "metadata": {},
     "output_type": "execute_result"
    }
   ],
   "source": [
    "df.columns"
   ]
  },
  {
   "cell_type": "code",
   "execution_count": 18,
   "metadata": {},
   "outputs": [
    {
     "data": {
      "text/plain": [
       "time.struct_time(tm_year=2018, tm_mon=2, tm_mday=10, tm_hour=15, tm_min=50, tm_sec=1, tm_wday=5, tm_yday=41, tm_isdst=-1)"
      ]
     },
     "execution_count": 18,
     "metadata": {},
     "output_type": "execute_result"
    }
   ],
   "source": [
    "# 02/10/2018 03:50:01 PM\n",
    "from datetime import datetime\n",
    "import time\n",
    "\n",
    "time_format = '%m/%d/%Y %I:%M:%S %p'\n",
    "time_str = \"02/10/2018 03:50:01 PM\"\n",
    "time_object = time.strptime(time_str, time_format)\n",
    "time_object"
   ]
  },
  {
   "cell_type": "code",
   "execution_count": null,
   "metadata": {},
   "outputs": [],
   "source": []
  }
 ],
 "metadata": {
  "kernelspec": {
   "display_name": "Python 3",
   "language": "python",
   "name": "python3"
  },
  "language_info": {
   "codemirror_mode": {
    "name": "ipython",
    "version": 3
   },
   "file_extension": ".py",
   "mimetype": "text/x-python",
   "name": "python",
   "nbconvert_exporter": "python",
   "pygments_lexer": "ipython3",
   "version": "3.6.5"
  }
 },
 "nbformat": 4,
 "nbformat_minor": 2
}
