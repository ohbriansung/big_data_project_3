{
 "cells": [
  {
   "cell_type": "code",
   "execution_count": 1,
   "metadata": {},
   "outputs": [],
   "source": [
    "import matplotlib.pyplot as plt\n",
    "import numpy as np\n",
    "\n",
    "from pyspark.sql.types import StructType, StructField, FloatType, LongType, StringType\n",
    "from datetime import datetime\n",
    "from pyspark.sql import functions as F"
   ]
  },
  {
   "cell_type": "code",
   "execution_count": 3,
   "metadata": {},
   "outputs": [],
   "source": [
    "hdfs_port = \"hdfs://orion11:26990\"\n",
    "# data_path = \"/nam_s/nam_201501_s*\"\n",
    "# data_path = \"/nam_s/*\"\n",
    "data_path = \"/sample/nam_tiny*\""
   ]
  },
  {
   "cell_type": "code",
   "execution_count": 4,
   "metadata": {},
   "outputs": [],
   "source": [
    "feats = []\n",
    "f = open('../features.txt')\n",
    "for line_num, line in enumerate(f):\n",
    "    if line_num == 0:\n",
    "        # Timestamp\n",
    "        feats.append(StructField(line.strip(), LongType(), True))\n",
    "    elif line_num == 1:\n",
    "        # Geohash\n",
    "        feats.append(StructField(line.strip(), StringType(), True))\n",
    "    else:\n",
    "        # Other features\n",
    "        feats.append(StructField(line.strip(), FloatType(), True))\n",
    "    \n",
    "schema = StructType(feats)"
   ]
  },
  {
   "cell_type": "code",
   "execution_count": 5,
   "metadata": {},
   "outputs": [
    {
     "name": "stdout",
     "output_type": "stream",
     "text": [
      "CPU times: user 2.3 ms, sys: 2.57 ms, total: 4.87 ms\n",
      "Wall time: 11.5 s\n"
     ]
    }
   ],
   "source": [
    "%%time\n",
    "\n",
    "df = spark.read.format('csv').option('sep', '\\t').schema(schema).load(f'{hdfs_port}{data_path}')\n",
    "# df.take(1)\n",
    "# print(df.head())"
   ]
  },
  {
   "cell_type": "code",
   "execution_count": 6,
   "metadata": {},
   "outputs": [],
   "source": [
    "# df.describe([\n",
    "#     'visibility_surface',\n",
    "# ]).show()\n",
    "bay_area_hashes = {\"9q8\", \"9q9\", \"9qc\", \"9qb\"}"
   ]
  },
  {
   "cell_type": "code",
   "execution_count": 7,
   "metadata": {},
   "outputs": [
    {
     "name": "stdout",
     "output_type": "stream",
     "text": [
      "CPU times: user 5.11 ms, sys: 2.21 ms, total: 7.33 ms\n",
      "Wall time: 1.09 s\n"
     ]
    }
   ],
   "source": [
    "%%time\n",
    "\n",
    "# t2 = df.select(\"Geohash\", \"visibility_surface\")\n",
    "# t2.describe()\n",
    "\n",
    "# dg = df\n",
    "\n",
    "dg = df.select(\"Geohash\", \"visibility_surface\", df.Geohash.substr(1, 3).alias(\"front_hash\"), \"geopotential_height_cloud_base\", \"geopotential_height_surface\")\n",
    "\n",
    "dg = dg[dg.front_hash.isin(*bay_area_hashes)]"
   ]
  },
  {
   "cell_type": "code",
   "execution_count": null,
   "metadata": {},
   "outputs": [],
   "source": [
    "%%time\n",
    "\n",
    "dg.createOrReplaceTempView(\"nam_small\")\n",
    "visibilities = spark.sql(\n",
    "    f'''\n",
    "    SELECT \n",
    "        *, \n",
    "        foggy_days/counts as foggy_ratio \n",
    "        FROM(\n",
    "            SELECT substr(Geohash,1,5) as geoloc,\n",
    "                avg(visibility_surface) as vis_surf_avg,\n",
    "                sum(case when geopotential_height_cloud_base <= geopotential_height_surface then 1 else 0 end) as foggy_days,\n",
    "                sum(1) as counts\n",
    "            FROM nam_small \n",
    "            GROUP BY substr(Geohash,1,5)) as t2\n",
    "    ORDER BY foggy_ratio ASC, vis_surf_avg DESC, foggy_days ASC, counts ASC\n",
    "    ''').collect()"
   ]
  }
 ],
 "metadata": {
  "kernelspec": {
   "display_name": "Python 3",
   "language": "python",
   "name": "python3"
  },
  "language_info": {
   "codemirror_mode": {
    "name": "ipython",
    "version": 3
   },
   "file_extension": ".py",
   "mimetype": "text/x-python",
   "name": "python",
   "nbconvert_exporter": "python",
   "pygments_lexer": "ipython3",
   "version": "3.6.5"
  }
 },
 "nbformat": 4,
 "nbformat_minor": 2
}
