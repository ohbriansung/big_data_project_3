{
 "cells": [
  {
   "cell_type": "markdown",
   "metadata": {},
   "source": [
    "# Crime since 2001 in Chicago\n",
    "\n",
    "* Data source: [data.gov](https://catalog.data.gov/dataset/crimes-2001-to-present-398a4)\n",
    "\n",
    "\n",
    "* Describe the dataset:\n",
    "\n",
    "    This dataset reflects reported incidents of crime that occurred in the City of Chicago from 2001 to August 9, 2018, minus the most recent seven days.\n",
    "\n",
    "    Columns in the dataset: ['ID', 'Case Number', 'Date', 'Block', 'IUCR', 'Primary Type', 'Description', 'Location Description', 'Arrest', 'Domestic', 'Beat', 'District', 'Ward', 'Community Area', 'FBI Code', 'X Coordinate', 'Y Coordinate', 'Year', 'Updated On', 'Latitude', 'Longitude', 'Location']\n",
    "\n",
    "\n",
    "* Outline the types of insights you hope to gain from it:\n",
    "\n",
    "    1. Most common type of crime each year and each date.\n",
    "    1. Tracking crime frequency by geohash(7) per year.\n",
    "    1. \n",
    "\n",
    "\n",
    "* Make hypotheses about what you might find:\n",
    "\n",
    "    1. A lot of crimes that are categorized as [Battery](https://en.wikipedia.org/wiki/Battery_(crime) type during Black Friday."
   ]
  },
  {
   "cell_type": "code",
   "execution_count": 1,
   "metadata": {},
   "outputs": [],
   "source": [
    "import matplotlib.pyplot as plt\n",
    "import numpy as np\n",
    "import pandas as pd\n",
    "\n",
    "from pyspark.sql.types import *\n",
    "from pyspark.sql.functions import *\n",
    "from datetime import datetime\n",
    "import time"
   ]
  },
  {
   "cell_type": "code",
   "execution_count": 22,
   "metadata": {},
   "outputs": [
    {
     "name": "stdout",
     "output_type": "stream",
     "text": [
      "+--------+-----------+--------------------+--------------------+----+-------------+--------------------+--------------------+------+--------+----+--------+----+--------------+--------+------------+------------+----+--------------------+------------+-------------+--------------------+\n",
      "|      ID|Case Number|                Date|               Block|IUCR| Primary Type|         Description|Location Description|Arrest|Domestic|Beat|District|Ward|Community Area|FBI Code|X Coordinate|Y Coordinate|Year|          Updated On|    Latitude|    Longitude|            Location|\n",
      "+--------+-----------+--------------------+--------------------+----+-------------+--------------------+--------------------+------+--------+----+--------+----+--------------+--------+------------+------------+----+--------------------+------------+-------------+--------------------+\n",
      "|10000092|   HY189866|03/18/2015 07:44:...|     047XX W OHIO ST|041A|      BATTERY| AGGRAVATED: HANDGUN|              STREET| false|   false|1111|     011|  28|            25|     04B|     1144606|     1903566|2015|02/10/2018 03:50:...|41.891398861|-87.744384567|(41.891398861, -8...|\n",
      "|10000094|   HY190059|03/18/2015 11:00:...|066XX S MARSHFIEL...|4625|OTHER OFFENSE|    PAROLE VIOLATION|              STREET|  true|   false|0725|     007|  15|            67|      26|     1166468|     1860715|2015|02/10/2018 03:50:...|41.773371528|-87.665319468|(41.773371528, -8...|\n",
      "|10000095|   HY190052|03/18/2015 10:45:...|044XX S LAKE PARK...|0486|      BATTERY|DOMESTIC BATTERY ...|           APARTMENT| false|    true|0222|     002|   4|            39|     08B|     1185075|     1875622|2015|02/10/2018 03:50:...| 41.81386068|-87.596642837|(41.81386068, -87...|\n",
      "|10000096|   HY190054|03/18/2015 10:30:...|051XX S MICHIGAN AVE|0460|      BATTERY|              SIMPLE|           APARTMENT| false|   false|0225|     002|   3|            40|     08B|     1178033|     1870804|2015|02/10/2018 03:50:...|41.800802415|-87.622619343|(41.800802415, -8...|\n",
      "|10000097|   HY189976|03/18/2015 09:00:...|    047XX W ADAMS ST|031A|      ROBBERY|      ARMED: HANDGUN|            SIDEWALK| false|   false|1113|     011|  28|            25|      03|     1144920|     1898709|2015|02/10/2018 03:50:...|41.878064761|-87.743354013|(41.878064761, -8...|\n",
      "+--------+-----------+--------------------+--------------------+----+-------------+--------------------+--------------------+------+--------+----+--------+----+--------------+--------+------------+------------+----+--------------------+------------+-------------+--------------------+\n",
      "only showing top 5 rows\n",
      "\n",
      "CPU times: user 7.77 ms, sys: 1.04 ms, total: 8.81 ms\n",
      "Wall time: 3.82 s\n"
     ]
    }
   ],
   "source": [
    "%%time\n",
    "\n",
    "df = spark.read.format('csv')\\\n",
    "    .option('header', 'true')\\\n",
    "    .load('hdfs://orion11:13030/crime-since-2001-chicago.csv')\\\n",
    "    .limit(10)\n",
    "df.show(5)"
   ]
  },
  {
   "cell_type": "code",
   "execution_count": 3,
   "metadata": {},
   "outputs": [
    {
     "data": {
      "text/plain": [
       "['ID',\n",
       " 'Case Number',\n",
       " 'Date',\n",
       " 'Block',\n",
       " 'IUCR',\n",
       " 'Primary Type',\n",
       " 'Description',\n",
       " 'Location Description',\n",
       " 'Arrest',\n",
       " 'Domestic',\n",
       " 'Beat',\n",
       " 'District',\n",
       " 'Ward',\n",
       " 'Community Area',\n",
       " 'FBI Code',\n",
       " 'X Coordinate',\n",
       " 'Y Coordinate',\n",
       " 'Year',\n",
       " 'Updated On',\n",
       " 'Latitude',\n",
       " 'Longitude',\n",
       " 'Location']"
      ]
     },
     "execution_count": 3,
     "metadata": {},
     "output_type": "execute_result"
    }
   ],
   "source": [
    "df.columns"
   ]
  },
  {
   "cell_type": "code",
   "execution_count": 21,
   "metadata": {},
   "outputs": [],
   "source": [
    "serialize_date = udf(lambda d: datetime.strptime(d, '%m/%d/%Y %I:%M:%S %p'), DateType())"
   ]
  },
  {
   "cell_type": "code",
   "execution_count": 23,
   "metadata": {},
   "outputs": [
    {
     "name": "stdout",
     "output_type": "stream",
     "text": [
      "+-------+-----------+----------+--------------------+----+-------------------+--------------------+--------------------+------+--------+----+--------+----+--------------+--------+------------+------------+----+--------------------+------------+-------------+--------------------+\n",
      "|     ID|Case Number|      Date|               Block|IUCR|       Primary Type|         Description|Location Description|Arrest|Domestic|Beat|District|Ward|Community Area|FBI Code|X Coordinate|Y Coordinate|Year|          Updated On|    Latitude|    Longitude|            Location|\n",
      "+-------+-----------+----------+--------------------+----+-------------------+--------------------+--------------------+------+--------+----+--------+----+--------------+--------+------------+------------+----+--------------------+------------+-------------+--------------------+\n",
      "|2097983|   HH321826|2002-04-21|     016XX E 70TH ST|0460|            BATTERY|              SIMPLE|           APARTMENT| false|    true|0332|     003|   5|            43|     08B|     1188400|     1858898|2002|02/10/2018 03:50:...|41.767889922|-87.584980645|(41.767889922, -8...|\n",
      "|2097992|   HH313364|2002-04-17|0000X N LECLAIRE AVE|2027|          NARCOTICS|         POSS: CRACK|            SIDEWALK|  true|   false|1533|     015|  28|            25|      18|     1142384|     1899743|2002|02/10/2018 03:50:...|41.880949646|-87.752640036|(41.880949646, -8...|\n",
      "|2097994|   HH327211|2002-04-22|   034XX W OGDEN AVE|0915|MOTOR VEHICLE THEFT|TRUCK, BUS, MOTOR...|              STREET| false|   false|1024|     010|  24|            29|      07|     1153566|     1890583|2002|02/10/2018 03:50:...|41.855598642|-87.711823722|(41.855598642, -8...|\n",
      "+-------+-----------+----------+--------------------+----+-------------------+--------------------+--------------------+------+--------+----+--------+----+--------------+--------+------------+------------+----+--------------------+------------+-------------+--------------------+\n",
      "only showing top 3 rows\n",
      "\n",
      "CPU times: user 17.3 ms, sys: 6.23 ms, total: 23.5 ms\n",
      "Wall time: 13.5 s\n"
     ]
    }
   ],
   "source": [
    "%%time\n",
    "\n",
    "temp = df.withColumn('Date', serialize_date(df['Date']))\n",
    "\n",
    "temp.show(3)"
   ]
  },
  {
   "cell_type": "code",
   "execution_count": null,
   "metadata": {},
   "outputs": [],
   "source": []
  }
 ],
 "metadata": {
  "kernelspec": {
   "display_name": "Python 3",
   "language": "python",
   "name": "python3"
  },
  "language_info": {
   "codemirror_mode": {
    "name": "ipython",
    "version": 3
   },
   "file_extension": ".py",
   "mimetype": "text/x-python",
   "name": "python",
   "nbconvert_exporter": "python",
   "pygments_lexer": "ipython3",
   "version": "3.6.5"
  }
 },
 "nbformat": 4,
 "nbformat_minor": 2
}
