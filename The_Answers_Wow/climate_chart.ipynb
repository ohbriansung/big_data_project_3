{
 "cells": [
  {
   "cell_type": "markdown",
   "metadata": {},
   "source": [
    "# Climate Chart\n",
    "\n",
    "### Problem\n",
    "Given a Geohash prefix, create a climate chart for the region. This includes high, low, and average temperatures, as well as monthly average rainfall. \n",
    "\n",
    "Earn up to 1 point of extra credit for enhancing/improving this chart (or porting it to a more feature-rich visualization library)"
   ]
  },
  {
   "cell_type": "markdown",
   "metadata": {},
   "source": [
    "## Setup the environment\n",
    "Importing required types and the schema"
   ]
  },
  {
   "cell_type": "code",
   "execution_count": 12,
   "metadata": {},
   "outputs": [],
   "source": [
    "from pyspark.sql.types import StructType, StructField, FloatType, LongType, StringType\n",
    "import pandas as pd"
   ]
  },
  {
   "cell_type": "code",
   "execution_count": 2,
   "metadata": {},
   "outputs": [],
   "source": [
    "hdfs_port = \"hdfs://orion11:26990\"\n",
    "# data_path = \"/nam_s/nam_201501_s*\"\n",
    "data_path = \"/nam_s/*\"\n",
    "# data_path = \"/sample/nam_tiny*\""
   ]
  },
  {
   "cell_type": "code",
   "execution_count": 3,
   "metadata": {},
   "outputs": [],
   "source": [
    "feats = []\n",
    "f = open('../features.txt')\n",
    "for line_num, line in enumerate(f):\n",
    "    if line_num == 0:\n",
    "        # Timestamp\n",
    "        feats.append(StructField(line.strip(), LongType(), True))\n",
    "    elif line_num == 1:\n",
    "        # Geohash\n",
    "        feats.append(StructField(line.strip(), StringType(), True))\n",
    "    else:\n",
    "        # Other features\n",
    "        feats.append(StructField(line.strip(), FloatType(), True))\n",
    "    \n",
    "schema = StructType(feats)"
   ]
  },
  {
   "cell_type": "markdown",
   "metadata": {},
   "source": [
    "## Custom Geohash\n",
    "\n",
    "This is the geohash prefix value.\n",
    "\n",
    "West Santa Cruz, CA can be hashed as: 9q94."
   ]
  },
  {
   "cell_type": "code",
   "execution_count": 122,
   "metadata": {},
   "outputs": [],
   "source": [
    "area_name = \"West Santa Cruz, CA\"\n",
    "hash_regex = \"9q94\""
   ]
  },
  {
   "cell_type": "markdown",
   "metadata": {},
   "source": [
    "## Query and Filterting\n",
    "\n",
    "This query takes filters for the hash_prefix and then finds temperature (avg, min and max) and rain (avg) per month.\n"
   ]
  },
  {
   "cell_type": "code",
   "execution_count": 123,
   "metadata": {},
   "outputs": [
    {
     "name": "stdout",
     "output_type": "stream",
     "text": [
      "\n",
      "SELECT AVG(temperature_surface) AS tmp_avg,\n",
      "    MIN(temperature_surface) AS tmp_min,\n",
      "    MAX(temperature_surface) AS tmp_max,\n",
      "    AVG(categorical_rain_yes1_no0_surface) AS rain_avg,\n",
      "    FROM_UNIXTIME(Timestamp/1000, 'YYYY-MM') AS year_month\n",
      "FROM nam_small\n",
      "WHERE Geohash LIKE \"9q94%\"\n",
      "GROUP BY year_month\n",
      "ORDER BY year_month\n",
      "\n"
     ]
    }
   ],
   "source": [
    "df = spark.read.format('csv').option('sep', '\\t').schema(schema).load(f'{hdfs_port}{data_path}')\n",
    "\n",
    "df.createOrReplaceTempView(\"nam_small\")\n",
    "\n",
    "query_str = f'''\n",
    "SELECT AVG(temperature_surface) AS tmp_avg,\n",
    "    MIN(temperature_surface) AS tmp_min,\n",
    "    MAX(temperature_surface) AS tmp_max,\n",
    "    AVG(categorical_rain_yes1_no0_surface) AS rain_avg,\n",
    "    FROM_UNIXTIME(Timestamp/1000, 'YYYY-MM') AS year_month\n",
    "FROM nam_small\n",
    "WHERE Geohash LIKE \"{hash_regex}%\"\n",
    "GROUP BY year_month\n",
    "ORDER BY year_month\n",
    "'''\n",
    "\n",
    "print(query_str)"
   ]
  },
  {
   "cell_type": "markdown",
   "metadata": {},
   "source": [
    "### Run the SQL Query"
   ]
  },
  {
   "cell_type": "code",
   "execution_count": 124,
   "metadata": {},
   "outputs": [
    {
     "name": "stdout",
     "output_type": "stream",
     "text": [
      "CPU times: user 19.9 ms, sys: 6.16 ms, total: 26.1 ms\n",
      "Wall time: 3min 36s\n"
     ]
    }
   ],
   "source": [
    "%%time\n",
    "\n",
    "climate = spark.sql(query_str)\n",
    "p_df = climate.toPandas()"
   ]
  },
  {
   "cell_type": "markdown",
   "metadata": {},
   "source": [
    "## Results"
   ]
  },
  {
   "cell_type": "code",
   "execution_count": 125,
   "metadata": {},
   "outputs": [
    {
     "name": "stdout",
     "output_type": "stream",
     "text": [
      "    year_month     tmp_max     tmp_min  rain_avg     tmp_avg\n",
      "0            1  293.147491  277.343628  0.000000  286.681041\n",
      "1            2  295.352142  276.090881  0.097222  287.280877\n",
      "2            3  299.342957  278.923889  0.007407  287.444557\n",
      "3            4  299.979492  278.704407  0.088235  285.626077\n",
      "4            5  299.283691  280.529541  0.044444  286.456124\n",
      "5            6  307.286865  282.197021  0.013986  289.131597\n",
      "6            7  306.211182  285.962646  0.067669  291.129277\n",
      "7            8  309.348877  286.284180  0.044444  292.214961\n",
      "8            9  309.832031  285.267334  0.019481  291.953125\n",
      "9           10  303.532715  284.335602  0.014815  291.247297\n",
      "10          11  292.403931  274.230560  0.030534  286.411788\n",
      "11          12  290.827484  275.092590  0.183673  286.720816\n"
     ]
    }
   ],
   "source": [
    "p_mod = p_df[['year_month', 'tmp_max', 'tmp_min', 'rain_avg', 'tmp_avg']]\n",
    "p_mod = p_mod[p_mod.year_month.str.contains('2015')]\n",
    "p_mod.year_month = p_mod.year_month.str.slice(5, 8)\n",
    "p_mod.sort_values(by=['year_month'])\n",
    "p_mod.year_month = pd.to_numeric(p_mod.year_month, errors='coerce')\n",
    "print(p_mod)"
   ]
  },
  {
   "cell_type": "code",
   "execution_count": 142,
   "metadata": {},
   "outputs": [
    {
     "name": "stdout",
     "output_type": "stream",
     "text": [
      "(12, 5)\n"
     ]
    }
   ],
   "source": [
    "# <month-num>  <high-temp>  <low-temp>  <avg-precip>  <avg-temp>\n",
    "data = p_mod.values\n",
    "data\n",
    "print(data.shape)"
   ]
  },
  {
   "cell_type": "markdown",
   "metadata": {},
   "source": [
    "### Graphing functions\n",
    "\n",
    "Copied and pasted from your code w/ slight modifications to the name and data import"
   ]
  },
  {
   "cell_type": "code",
   "execution_count": 143,
   "metadata": {},
   "outputs": [],
   "source": [
    "import sys\n",
    "import numpy as np\n",
    "import matplotlib.pyplot as plt\n",
    "import matplotlib.patches as patches\n",
    "import matplotlib.gridspec as gridspec\n",
    "import matplotlib\n",
    "from matplotlib import rc\n",
    "\n",
    "def c2f(t):\n",
    "    return (t*9/5.0)+32\n",
    "\n",
    "def k2c(t):\n",
    "    return t-273.15\n",
    "\n",
    "def k2f(t):\n",
    "    return (t*9/5.0)-459.67\n",
    "\n",
    "def disable_spines(ax):\n",
    "    for s in ax.spines:\n",
    "        ax.spines[s].set_visible(False)\n",
    "\n",
    "def graph_climate(data):\n",
    "    rc('font',**{'family':'sans-serif','sans-serif':['Arial']})\n",
    "\n",
    "    use_c = True\n",
    "    converter = k2f\n",
    "    if use_c:\n",
    "        converter = k2c\n",
    "    data = np.copy(data)\n",
    "    data[:, 0] = data[:, 0] - 1\n",
    "    data[:, 1] = converter(data[:, 1])\n",
    "    data[:, 2] = converter(data[:, 2])\n",
    "    if use_c == False:\n",
    "        data[:, 3] = data[:, 3] * 0.0393701\n",
    "    data[:, 4] = converter(data[:, 4])\n",
    "\n",
    "    plt.ion()\n",
    "    plt.clf()\n",
    "    fig = plt.figure(1)\n",
    "    fig.subplots_adjust(hspace=.20)\n",
    "    gs = gridspec.GridSpec(2, 1, height_ratios=[1.75, 1])\n",
    "    ax0 = plt.subplot(gs[0])\n",
    "    ax1 = plt.subplot(gs[1], sharex=ax0)\n",
    "    plt.setp(ax0.get_xticklabels(), visible=False) # disable upper axis label\n",
    "\n",
    "    ax0.patch.set_facecolor('None')\n",
    "    ax1.patch.set_facecolor('None')\n",
    "\n",
    "    plt.suptitle('Climate Overview: ' + area_name, fontsize=14)\n",
    "\n",
    "    if k2c(data[:, 1]).min() < 5:\n",
    "        y = 0\n",
    "        if not use_c:\n",
    "            y = c2f(0)\n",
    "        ax0.plot([0, data[:, 0].max() + 1], [y, y], zorder=-1, color='#888888',\n",
    "                alpha=.75, dashes=(8, 2))\n",
    "\n",
    "    rects0 = ax0.bar(.35 + data[:, 0], data[:, 2] - data[:, 1], bottom=data[:, 1],\n",
    "            width=.6, color='#df3c3c', edgecolor='#731515')\n",
    "\n",
    "    rects1 = ax1.bar(.35 + data[:, 0], data[:, 3], color='#1b7edb', width=.6,\n",
    "            edgecolor='#1d4871')\n",
    "\n",
    "    plt.xticks(np.arange(0,12) + .4, ['Jan', 'Feb', 'Mar', 'Apr', 'May', 'Jun',\n",
    "        'Jul', 'Aug', 'Sep', 'Oct', 'Nov', 'Dec'],\n",
    "        rotation=30)\n",
    "\n",
    "    disable_spines(ax0)\n",
    "    disable_spines(ax1)\n",
    "    ax0.spines['left'].set_visible(True)\n",
    "    ax1.spines['left'].set_visible(True)\n",
    "\n",
    "    for tic in ax0.xaxis.get_major_ticks():\n",
    "        tic.tick1On = tic.tick2On = False\n",
    "\n",
    "    for tic in ax0.yaxis.get_major_ticks():\n",
    "        tic.tick2On = False\n",
    "\n",
    "    for tic in ax1.xaxis.get_major_ticks():\n",
    "        tic.tick1On = tic.tick2On = False\n",
    "\n",
    "    for tic in ax1.yaxis.get_major_ticks():\n",
    "        tic.tick2On = False\n",
    "\n",
    "    for rect in rects1:\n",
    "        height = rect.get_height()\n",
    "        ax1.text(rect.get_x() + rect.get_width()/2., 1.08*height,\n",
    "            '%.1f' % (height), ha='center', va='bottom', color='#1d4871')\n",
    "\n",
    "    for r, rect in enumerate(rects0):\n",
    "        height = rect.get_height()\n",
    "        ax0.text(rect.get_x() + rect.get_width()/2., rect.get_y() + 1.08*height,\n",
    "            '%d' % int(height + rect.get_y()), ha='center', va='bottom',\n",
    "            color='#731515')\n",
    "        ax0.text(rect.get_x() + rect.get_width()/2., rect.get_y() - 2,\n",
    "            '%d' % int(rect.get_y()), ha='center', va='top', color='#731515')\n",
    "        ax0.plot([rect.get_x() + .05, rect.get_x() + rect.get_width() - .05],\n",
    "                [data[r, 4], data[r, 4]], color='#731515')\n",
    "\n",
    "    if use_c:\n",
    "        ax0.set_ylabel('Temperature (C)')\n",
    "        ax1.set_ylabel('Precipitation (cm)')\n",
    "    else:\n",
    "        ax0.set_ylabel('Temperature (F)')\n",
    "        ax1.set_ylabel('Precipitation (in)')\n",
    "\n",
    "    # plt.savefig(area_name + '-climate.pdf', bbox_inches='tight')\n",
    "    plt.show()"
   ]
  },
  {
   "cell_type": "markdown",
   "metadata": {},
   "source": [
    "## Plot the Data\n",
    "\n",
    "This is a plot of the data from the west side of Santa Cruz, CA. We can see that it rained very little and the rainy season is either very short or it doesn't exist."
   ]
  },
  {
   "cell_type": "code",
   "execution_count": 145,
   "metadata": {},
   "outputs": [
    {
     "data": {
      "image/png": "[encoded data removed]",
      "text/plain": [
       "<Figure size 432x288 with 2 Axes>"
      ]
     },
     "metadata": {
      "needs_background": "light"
     },
     "output_type": "display_data"
    }
   ],
   "source": [
    "graph_climate(data)"
   ]
  },
  {
   "cell_type": "code",
   "execution_count": null,
   "metadata": {},
   "outputs": [],
   "source": []
  }
 ],
 "metadata": {
  "kernelspec": {
   "display_name": "Python 3",
   "language": "python",
   "name": "python3"
  },
  "language_info": {
   "codemirror_mode": {
    "name": "ipython",
    "version": 3
   },
   "file_extension": ".py",
   "mimetype": "text/x-python",
   "name": "python",
   "nbconvert_exporter": "python",
   "pygments_lexer": "ipython3",
   "version": "3.7.1"
  }
 },
 "nbformat": 4,
 "nbformat_minor": 2
}
