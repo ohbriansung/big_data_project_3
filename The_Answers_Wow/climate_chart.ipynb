{
 "cells": [
  {
   "cell_type": "code",
   "execution_count": 1,
   "metadata": {},
   "outputs": [],
   "source": [
    "import matplotlib.pyplot as plt\n",
    "import numpy as np\n",
    "\n",
    "from pyspark.sql.types import StructType, StructField, FloatType, LongType, StringType\n",
    "from datetime import datetime\n",
    "from pyspark.sql import functions as F"
   ]
  },
  {
   "cell_type": "code",
   "execution_count": 27,
   "metadata": {},
   "outputs": [],
   "source": [
    "hdfs_port = \"hdfs://orion11:26990\"\n",
    "data_path = \"/nam_s/nam_201501_s*\"\n",
    "# data_path = \"/nam_s/*\"\n",
    "# data_path = \"/sample/nam_tiny*\""
   ]
  },
  {
   "cell_type": "code",
   "execution_count": 28,
   "metadata": {},
   "outputs": [],
   "source": [
    "feats = []\n",
    "f = open('../features.txt')\n",
    "for line_num, line in enumerate(f):\n",
    "    if line_num == 0:\n",
    "        # Timestamp\n",
    "        feats.append(StructField(line.strip(), LongType(), True))\n",
    "    elif line_num == 1:\n",
    "        # Geohash\n",
    "        feats.append(StructField(line.strip(), StringType(), True))\n",
    "    else:\n",
    "        # Other features\n",
    "        feats.append(StructField(line.strip(), FloatType(), True))\n",
    "    \n",
    "schema = StructType(feats)"
   ]
  },
  {
   "cell_type": "code",
   "execution_count": 29,
   "metadata": {},
   "outputs": [
    {
     "name": "stdout",
     "output_type": "stream",
     "text": [
      "CPU times: user 7.68 ms, sys: 1.31 ms, total: 8.99 ms\n",
      "Wall time: 54 ms\n"
     ]
    }
   ],
   "source": [
    "%%time\n",
    "\n",
    "df = spark.read.format('csv').option('sep', '\\t').schema(schema).load(f'{hdfs_port}{data_path}')\n",
    "# df.take(1)\n",
    "# print(df.head())"
   ]
  },
  {
   "cell_type": "code",
   "execution_count": 30,
   "metadata": {},
   "outputs": [],
   "source": [
    "hash_prefix = \"c6s64\""
   ]
  },
  {
   "cell_type": "code",
   "execution_count": 37,
   "metadata": {},
   "outputs": [
    {
     "name": "stdout",
     "output_type": "stream",
     "text": [
      "\n",
      "SELECT AVG(temperature_surface) AS tmp_avg,\n",
      "    MIN(temperature_surface) AS tmp_min,\n",
      "    MAX(temperature_surface) AS tmp_max,\n",
      "    AVG(categorical_rain_yes1_no0_surface) AS rain_avg\n",
      "FROM nam_small\n",
      "WHERE Geohash LIKE \"c6s64%\"\n",
      "\n",
      "CPU times: user 1.15 ms, sys: 11 µs, total: 1.16 ms\n",
      "Wall time: 4.87 ms\n"
     ]
    }
   ],
   "source": [
    "%%time\n",
    "\n",
    "dg = df\n",
    "\n",
    "dg.createOrReplaceTempView(\"nam_small\")\n",
    "\n",
    "query_str = f'''\n",
    "SELECT AVG(temperature_surface) AS tmp_avg,\n",
    "    MIN(temperature_surface) AS tmp_min,\n",
    "    MAX(temperature_surface) AS tmp_max,\n",
    "    AVG(categorical_rain_yes1_no0_surface) AS rain_avg\n",
    "FROM nam_small\n",
    "WHERE Geohash LIKE \"{hash_prefix}%\"\n",
    "'''\n",
    "\n",
    "print(query_str)"
   ]
  },
  {
   "cell_type": "code",
   "execution_count": 38,
   "metadata": {},
   "outputs": [
    {
     "name": "stdout",
     "output_type": "stream",
     "text": [
      "CPU times: user 12.1 ms, sys: 1.55 ms, total: 13.6 ms\n",
      "Wall time: 1min 25s\n"
     ]
    }
   ],
   "source": [
    "%%time\n",
    "\n",
    "visibilities = spark.sql(query_str).collect()"
   ]
  },
  {
   "cell_type": "code",
   "execution_count": 39,
   "metadata": {},
   "outputs": [
    {
     "data": {
      "text/plain": [
       "[Row(tmp_avg=254.01363597196692, tmp_min=237.46861267089844, tmp_max=272.9434509277344, rain_avg=0.0)]"
      ]
     },
     "execution_count": 39,
     "metadata": {},
     "output_type": "execute_result"
    }
   ],
   "source": [
    "visibilities"
   ]
  },
  {
   "cell_type": "code",
   "execution_count": null,
   "metadata": {},
   "outputs": [],
   "source": []
  }
 ],
 "metadata": {
  "kernelspec": {
   "display_name": "Python 3",
   "language": "python",
   "name": "python3"
  },
  "language_info": {
   "codemirror_mode": {
    "name": "ipython",
    "version": 3
   },
   "file_extension": ".py",
   "mimetype": "text/x-python",
   "name": "python",
   "nbconvert_exporter": "python",
   "pygments_lexer": "ipython3",
   "version": "3.6.5"
  }
 },
 "nbformat": 4,
 "nbformat_minor": 2
}
