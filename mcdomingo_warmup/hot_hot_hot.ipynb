{
 "cells": [
  {
   "cell_type": "markdown",
   "metadata": {},
   "source": [
    "# Hot hot hot\n",
    "\n",
    "In this notebook, I try to figure out what the hottest recorded data point is and some info about it."
   ]
  },
  {
   "cell_type": "markdown",
   "metadata": {},
   "source": [
    "## Initializing\n",
    "\n",
    "First we initialize the data and load it into spark. I'm loading the smaller data set for a faster turn around time."
   ]
  },
  {
   "cell_type": "code",
   "execution_count": 1,
   "metadata": {},
   "outputs": [],
   "source": [
    "from pyspark.sql.types import StructType, StructField, FloatType, LongType, StringType\n",
    "import pyspark.sql.functions as F\n",
    "import numpy as np\n",
    "\n",
    "from scipy.constants import convert_temperature\n",
    "\n",
    "from datetime import datetime"
   ]
  },
  {
   "cell_type": "code",
   "execution_count": 2,
   "metadata": {},
   "outputs": [],
   "source": [
    "hdfs_port = \"hdfs://orion11:26990\"\n",
    "# data_path = \"/nam_s/nam_201501_s*\"\n",
    "data_path = \"/nam_s/*\"\n",
    "# data_path = \"/sample/nam_tiny*\""
   ]
  },
  {
   "cell_type": "code",
   "execution_count": 3,
   "metadata": {},
   "outputs": [],
   "source": [
    "feats = []\n",
    "f = open('../features.txt')\n",
    "for line_num, line in enumerate(f):\n",
    "    line = line.strip()\n",
    "    if line_num == 0:\n",
    "        # Timestamp\n",
    "        feats.append(StructField(line, LongType(), True))\n",
    "    elif line_num == 1:\n",
    "        # Geohash\n",
    "        feats.append(StructField(line, StringType(), True))\n",
    "    else:\n",
    "        # Other features\n",
    "        feats.append(StructField(line, FloatType(), True))\n",
    "        \n",
    "    \n",
    "schema = StructType(feats)"
   ]
  },
  {
   "cell_type": "code",
   "execution_count": 4,
   "metadata": {},
   "outputs": [],
   "source": [
    "df = spark.read.format('csv').option('sep', '\\t').schema(schema).load(f'{hdfs_port}{data_path}')"
   ]
  },
  {
   "cell_type": "markdown",
   "metadata": {},
   "source": [
    "## Filtering\n",
    "\n",
    "After loading in the data, I try to minimize the data set to only the relevant information: Timestamp, Geohash and temperature_surface.\n",
    "\n",
    "I then order it by the surface temperature and look at the top 30 values."
   ]
  },
  {
   "cell_type": "code",
   "execution_count": null,
   "metadata": {},
   "outputs": [],
   "source": [
    "dg = df.select(\"Timestamp\", \"Geohash\", \"temperature_surface\")\n",
    "dg = dg.orderBy(F.desc(\"temperature_surface\"))"
   ]
  },
  {
   "cell_type": "code",
   "execution_count": null,
   "metadata": {},
   "outputs": [],
   "source": [
    "%%time\n",
    "\n",
    "dg_head = dg.head(30)"
   ]
  },
  {
   "cell_type": "markdown",
   "metadata": {},
   "source": [
    "## Results\n",
    "\n",
    "Now I convert the smaller data set to a pandas data frame for easier use."
   ]
  },
  {
   "cell_type": "code",
   "execution_count": null,
   "metadata": {},
   "outputs": [],
   "source": [
    "%%time\n",
    "\n",
    "rdd = sc.parallelize(dg_head)\n",
    "p_df = rdd.toDF().toPandas()\n",
    "p_df[\"date\"] = p_df.apply(lambda x: datetime.utcfromtimestamp(x[\"Timestamp\"]//1000).strftime('%Y-%m-%d'), axis=1)\n",
    "p_df[\"fernheit\"] = p_df.apply(lambda x: convert_temperature(x.temperature_surface, 'K', 'F'), axis=1)\n",
    "p_df"
   ]
  },
  {
   "cell_type": "markdown",
   "metadata": {},
   "source": [
    "## Analysis\n",
    "\n",
    "It appears that while this is an anomaly (temparatures of 135F are extremely rare) it is not the only one of its kind. The rest of the top 30 values have similar surface temperatures and are all in the same \"d5\" hash region.\n",
    "\n",
    "The highest temperature recorded maps to Cancún, Mexico.\n",
    "\n",
    "![cancun](img/cancun.png)"
   ]
  },
  {
   "cell_type": "code",
   "execution_count": null,
   "metadata": {},
   "outputs": [],
   "source": []
  }
 ],
 "metadata": {
  "kernelspec": {
   "display_name": "Python 3",
   "language": "python",
   "name": "python3"
  },
  "language_info": {
   "codemirror_mode": {
    "name": "ipython",
    "version": 3
   },
   "file_extension": ".py",
   "mimetype": "text/x-python",
   "name": "python",
   "nbconvert_exporter": "python",
   "pygments_lexer": "ipython3",
   "version": "3.7.1"
  }
 },
 "nbformat": 4,
 "nbformat_minor": 2
}
