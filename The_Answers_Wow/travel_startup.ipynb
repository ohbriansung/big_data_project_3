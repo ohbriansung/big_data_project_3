{
 "cells": [
  {
   "cell_type": "markdown",
   "metadata": {},
   "source": [
    "# Months with best weather\n",
    "\n",
    "* San Francisco = 10\n",
    "* Gainesville, FL = 4, 5\n",
    "* Seattle = 6, 7, 8\n",
    "* Austin, TX = 4, 5, 10\n",
    "* Chicago = 7, 8"
   ]
  },
  {
   "cell_type": "code",
   "execution_count": 1,
   "metadata": {},
   "outputs": [],
   "source": [
    "import matplotlib.pyplot as plt\n",
    "import numpy as np\n",
    "import pandas as pd\n",
    "\n",
    "from pyspark.sql.types import *\n",
    "from pyspark.sql.functions import *\n",
    "from datetime import datetime"
   ]
  },
  {
   "cell_type": "code",
   "execution_count": 2,
   "metadata": {},
   "outputs": [],
   "source": [
    "feats = []\n",
    "f = open('../features.txt')\n",
    "for line_num, line in enumerate(f):\n",
    "    if line_num == 0:\n",
    "        # Timestamp\n",
    "        feats.append(StructField(line.strip(), LongType(), True))\n",
    "    elif line_num == 1:\n",
    "        # Geohash\n",
    "        feats.append(StructField(line.strip(), StringType(), True))\n",
    "    else:\n",
    "        # Other features\n",
    "        feats.append(StructField(line.strip(), FloatType(), True))\n",
    "    \n",
    "schema = StructType(feats)"
   ]
  },
  {
   "cell_type": "markdown",
   "metadata": {},
   "source": [
    "T(°F) = T(K) × 9/5 - 459.67\n",
    "\n",
    "[This source](https://www.energyvanguard.com/blog/24336/The-4-Factors-of-Comfort) indicates that it's comfortable if the temperature is between 70 and 80 degrees Fahrenheit, and the humidity between 30% and 70%."
   ]
  },
  {
   "cell_type": "code",
   "execution_count": 10,
   "metadata": {},
   "outputs": [],
   "source": [
    "def convert_temperature(k):\n",
    "    return k * 9 / 5 - 459.67"
   ]
  },
  {
   "cell_type": "code",
   "execution_count": 24,
   "metadata": {},
   "outputs": [],
   "source": [
    "def comfort_index(df):\n",
    "    \"\"\"\n",
    "    The smaller the better, 0 is the best\n",
    "    \"\"\"\n",
    "    mean_wind = 6.85\n",
    "    humidity = df['Humidity']\n",
    "    temperature = df['Temperature']\n",
    "    wind = df['Wind']\n",
    "    \n",
    "    if temperature >= 70 and temperature <= 80 and humidity >= 30 and humidity <= 70:\n",
    "        if wind <= mean_wind:  # comfortable wind\n",
    "            return 0\n",
    "        else:\n",
    "            return wind - mean_wind  # strong wind but still comfortable\n",
    "    \n",
    "    index = 0\n",
    "    \n",
    "    if temperature < 70:  # cold\n",
    "        index = 70 - temperature\n",
    "        if wind > mean_wind:\n",
    "            index += wind - mean_wind\n",
    "    else:  # hot\n",
    "        index = temperature - 80\n",
    "        if wind > mean_wind:  # wind would help the hot temp\n",
    "            index -= wind - mean_wind\n",
    "    \n",
    "    if humidity < 30:\n",
    "        index += 30 - humidity\n",
    "    elif humidity > 70:\n",
    "        index += humidity - 70\n",
    "    \n",
    "    return index"
   ]
  },
  {
   "cell_type": "code",
   "execution_count": 3,
   "metadata": {},
   "outputs": [
    {
     "name": "stdout",
     "output_type": "stream",
     "text": [
      "+-------------+------------+--------+-----------+---------+\n",
      "|    Timestamp|     Geohash|Humidity|Temperature|     Wind|\n",
      "+-------------+------------+--------+-----------+---------+\n",
      "|1438754400000|f2jv9b26m9kp|    57.0|  281.25854| 6.131471|\n",
      "|1439748000000|c0r6zjuefu2p|    17.0|  289.06982| 5.616594|\n",
      "|1440547200000|f26y8y56pn7z|    84.0|  285.27368| 5.903287|\n",
      "|1440460800000|dmbnfcepz1xb|    84.0|  302.63672|4.2784443|\n",
      "|1440568800000|cdqkdn3sbhup|    44.0|   283.2461|4.6272426|\n",
      "|1440871200000|f096j2kw7980|    19.0|  284.24902| 5.413671|\n",
      "|1439920800000|d7b784wu2p0p|    40.0|  314.55762|3.9015393|\n",
      "|1439510400000|b9vgvezq7y00|    49.0|  286.62476|5.1333885|\n",
      "|1440439200000|9nqc8pzjhkrz|    25.0|  292.12012| 7.613288|\n",
      "|1440396000000|dkz0u7vf1ghp|    57.0|  303.27466|6.7580414|\n",
      "+-------------+------------+--------+-----------+---------+\n",
      "only showing top 10 rows\n",
      "\n",
      "CPU times: user 44.5 ms, sys: 19.3 ms, total: 63.7 ms\n",
      "Wall time: 3min 26s\n"
     ]
    }
   ],
   "source": [
    "%%time\n",
    "\n",
    "df = spark.read.format('csv').option('sep', '\\t').schema(schema).load('hdfs://orion11:13030/nam_s/*')\n",
    "df = df.select([\n",
    "    'Timestamp',\n",
    "    'Geohash',\n",
    "    col('relative_humidity_zerodegc_isotherm').alias('Humidity'),\n",
    "    col('temperature_surface').alias('Temperature'),\n",
    "    col('surface_wind_gust_surface').alias('Wind'),\n",
    "])  # Select columns needed to speed up the process\n",
    "df.show(10)"
   ]
  },
  {
   "cell_type": "code",
   "execution_count": null,
   "metadata": {},
   "outputs": [],
   "source": [
    "%%time\n",
    "\n",
    "df = df.withColumn('Timestamp', df['Timestamp'] / 1000)\\\n",
    "    .withColumn('Month', month(from_unixtime('Timestamp').cast(DateType())))"
   ]
  },
  {
   "cell_type": "code",
   "execution_count": 5,
   "metadata": {},
   "outputs": [
    {
     "name": "stdout",
     "output_type": "stream",
     "text": [
      "+-------+------------------+------------------+-----------------+\n",
      "|summary|          Humidity|       Temperature|             Wind|\n",
      "+-------+------------------+------------------+-----------------+\n",
      "|  count|         108000000|         108000000|        108000000|\n",
      "|   mean|52.955067148148146| 287.3189240607151|6.847670909482179|\n",
      "| stddev|31.932329176954795|14.102389431625761|4.462058868522337|\n",
      "|    min|               1.0|         218.99284|     7.1111065E-4|\n",
      "|    max|             100.0|         330.67432|         55.79795|\n",
      "+-------+------------------+------------------+-----------------+\n",
      "\n"
     ]
    }
   ],
   "source": [
    "df.describe(['Humidity','Temperature','Wind']).show()"
   ]
  },
  {
   "cell_type": "markdown",
   "metadata": {},
   "source": [
    "# 1.  **San Francisco**: \"9q8y\"\n",
    "\n",
    "![SF](img/SF.png)"
   ]
  },
  {
   "cell_type": "code",
   "execution_count": 6,
   "metadata": {},
   "outputs": [
    {
     "name": "stdout",
     "output_type": "stream",
     "text": [
      "+-----+------------------+------------------+------------------+\n",
      "|Month|          Humidity|       Temperature|              Wind|\n",
      "+-----+------------------+------------------+------------------+\n",
      "|   12| 49.02923976608187|286.42983473392957|5.4680921042348904|\n",
      "|    1| 29.08839779005525| 286.3078034964714| 2.845470394877439|\n",
      "|    6|22.534391534391535|  288.054439484127| 4.489029953719447|\n",
      "|    3| 23.35593220338983| 287.5729620119946|3.7010064709321253|\n",
      "|    5|27.502538071065988|285.93894005789974| 5.767601351144955|\n",
      "|    9| 27.15819209039548|291.33187124823445|4.3727134156361815|\n",
      "|    4| 33.30978260869565| 285.6995541116466| 5.957776742136997|\n",
      "|    8| 24.09039548022599|  291.962221652101| 4.196229055102935|\n",
      "|    7| 35.19209039548023|290.96086301641947| 4.693868951608906|\n",
      "|   10| 33.37234042553192|291.24358952299076|3.4720824297438275|\n",
      "|   11| 34.93582887700535|  287.045389104017| 4.612026401382079|\n",
      "|    2|26.074074074074073|287.36073001814475| 4.645757689888095|\n",
      "+-----+------------------+------------------+------------------+\n",
      "\n",
      "CPU times: user 26.6 ms, sys: 12.4 ms, total: 39 ms\n",
      "Wall time: 2min 28s\n"
     ]
    }
   ],
   "source": [
    "%%time\n",
    "\n",
    "df.createOrReplaceTempView(\"NAM_S\")\n",
    "avg = spark.sql(\n",
    "    '''\n",
    "    SELECT\n",
    "        Month,\n",
    "        AVG(Humidity) AS Humidity,\n",
    "        AVG(Temperature) AS Temperature,\n",
    "        AVG(Wind) AS Wind\n",
    "    FROM NAM_S\n",
    "    WHERE Geohash like \"9q8y%\"\n",
    "    GROUP BY Month\n",
    "    '''\n",
    ")\n",
    "\n",
    "avg.show()"
   ]
  },
  {
   "cell_type": "code",
   "execution_count": 15,
   "metadata": {},
   "outputs": [],
   "source": [
    "# Convert to Pandas dataframe\n",
    "avg_pandas_df = avg.toPandas()"
   ]
  },
  {
   "cell_type": "code",
   "execution_count": 16,
   "metadata": {},
   "outputs": [],
   "source": [
    "avg_pandas_df.to_pickle('/home4/csung4/sf.pickle')"
   ]
  },
  {
   "cell_type": "code",
   "execution_count": 17,
   "metadata": {},
   "outputs": [],
   "source": [
    "avg_pandas_df = pd.read_pickle('/home4/csung4/sf.pickle')"
   ]
  },
  {
   "cell_type": "code",
   "execution_count": 18,
   "metadata": {},
   "outputs": [
    {
     "data": {
      "text/html": [
       "<div>\n",
       "<style scoped>\n",
       "    .dataframe tbody tr th:only-of-type {\n",
       "        vertical-align: middle;\n",
       "    }\n",
       "\n",
       "    .dataframe tbody tr th {\n",
       "        vertical-align: top;\n",
       "    }\n",
       "\n",
       "    .dataframe thead th {\n",
       "        text-align: right;\n",
       "    }\n",
       "</style>\n",
       "<table border=\"1\" class=\"dataframe\">\n",
       "  <thead>\n",
       "    <tr style=\"text-align: right;\">\n",
       "      <th></th>\n",
       "      <th>Month</th>\n",
       "      <th>Humidity</th>\n",
       "      <th>Temperature</th>\n",
       "      <th>Wind</th>\n",
       "    </tr>\n",
       "  </thead>\n",
       "  <tbody>\n",
       "    <tr>\n",
       "      <th>0</th>\n",
       "      <td>12</td>\n",
       "      <td>49.029240</td>\n",
       "      <td>55.903703</td>\n",
       "      <td>5.468092</td>\n",
       "    </tr>\n",
       "    <tr>\n",
       "      <th>1</th>\n",
       "      <td>1</td>\n",
       "      <td>29.088398</td>\n",
       "      <td>55.684046</td>\n",
       "      <td>2.845470</td>\n",
       "    </tr>\n",
       "    <tr>\n",
       "      <th>2</th>\n",
       "      <td>6</td>\n",
       "      <td>22.534392</td>\n",
       "      <td>58.827991</td>\n",
       "      <td>4.489030</td>\n",
       "    </tr>\n",
       "    <tr>\n",
       "      <th>3</th>\n",
       "      <td>3</td>\n",
       "      <td>23.355932</td>\n",
       "      <td>57.961332</td>\n",
       "      <td>3.701006</td>\n",
       "    </tr>\n",
       "    <tr>\n",
       "      <th>4</th>\n",
       "      <td>5</td>\n",
       "      <td>27.502538</td>\n",
       "      <td>55.020092</td>\n",
       "      <td>5.767601</td>\n",
       "    </tr>\n",
       "    <tr>\n",
       "      <th>5</th>\n",
       "      <td>9</td>\n",
       "      <td>27.158192</td>\n",
       "      <td>64.727368</td>\n",
       "      <td>4.372713</td>\n",
       "    </tr>\n",
       "    <tr>\n",
       "      <th>6</th>\n",
       "      <td>4</td>\n",
       "      <td>33.309783</td>\n",
       "      <td>54.589197</td>\n",
       "      <td>5.957777</td>\n",
       "    </tr>\n",
       "    <tr>\n",
       "      <th>7</th>\n",
       "      <td>8</td>\n",
       "      <td>24.090395</td>\n",
       "      <td>65.861999</td>\n",
       "      <td>4.196229</td>\n",
       "    </tr>\n",
       "    <tr>\n",
       "      <th>8</th>\n",
       "      <td>7</td>\n",
       "      <td>35.192090</td>\n",
       "      <td>64.059553</td>\n",
       "      <td>4.693869</td>\n",
       "    </tr>\n",
       "    <tr>\n",
       "      <th>9</th>\n",
       "      <td>10</td>\n",
       "      <td>33.372340</td>\n",
       "      <td>64.568461</td>\n",
       "      <td>3.472082</td>\n",
       "    </tr>\n",
       "    <tr>\n",
       "      <th>10</th>\n",
       "      <td>11</td>\n",
       "      <td>34.935829</td>\n",
       "      <td>57.011700</td>\n",
       "      <td>4.612026</td>\n",
       "    </tr>\n",
       "    <tr>\n",
       "      <th>11</th>\n",
       "      <td>2</td>\n",
       "      <td>26.074074</td>\n",
       "      <td>57.579314</td>\n",
       "      <td>4.645758</td>\n",
       "    </tr>\n",
       "  </tbody>\n",
       "</table>\n",
       "</div>"
      ],
      "text/plain": [
       "    Month   Humidity  Temperature      Wind\n",
       "0      12  49.029240    55.903703  5.468092\n",
       "1       1  29.088398    55.684046  2.845470\n",
       "2       6  22.534392    58.827991  4.489030\n",
       "3       3  23.355932    57.961332  3.701006\n",
       "4       5  27.502538    55.020092  5.767601\n",
       "5       9  27.158192    64.727368  4.372713\n",
       "6       4  33.309783    54.589197  5.957777\n",
       "7       8  24.090395    65.861999  4.196229\n",
       "8       7  35.192090    64.059553  4.693869\n",
       "9      10  33.372340    64.568461  3.472082\n",
       "10     11  34.935829    57.011700  4.612026\n",
       "11      2  26.074074    57.579314  4.645758"
      ]
     },
     "execution_count": 18,
     "metadata": {},
     "output_type": "execute_result"
    }
   ],
   "source": [
    "avg_pandas_df.Temperature = convert_temperature(avg_pandas_df.Temperature)\n",
    "avg_pandas_df"
   ]
  },
  {
   "cell_type": "code",
   "execution_count": 26,
   "metadata": {},
   "outputs": [
    {
     "data": {
      "text/html": [
       "<div>\n",
       "<style scoped>\n",
       "    .dataframe tbody tr th:only-of-type {\n",
       "        vertical-align: middle;\n",
       "    }\n",
       "\n",
       "    .dataframe tbody tr th {\n",
       "        vertical-align: top;\n",
       "    }\n",
       "\n",
       "    .dataframe thead th {\n",
       "        text-align: right;\n",
       "    }\n",
       "</style>\n",
       "<table border=\"1\" class=\"dataframe\">\n",
       "  <thead>\n",
       "    <tr style=\"text-align: right;\">\n",
       "      <th></th>\n",
       "      <th>Month</th>\n",
       "      <th>Humidity</th>\n",
       "      <th>Temperature</th>\n",
       "      <th>Wind</th>\n",
       "      <th>comfort_index</th>\n",
       "    </tr>\n",
       "  </thead>\n",
       "  <tbody>\n",
       "    <tr>\n",
       "      <th>1</th>\n",
       "      <td>1</td>\n",
       "      <td>29.088398</td>\n",
       "      <td>55.684046</td>\n",
       "      <td>2.845470</td>\n",
       "      <td>15.227556</td>\n",
       "    </tr>\n",
       "    <tr>\n",
       "      <th>11</th>\n",
       "      <td>2</td>\n",
       "      <td>26.074074</td>\n",
       "      <td>57.579314</td>\n",
       "      <td>4.645758</td>\n",
       "      <td>16.346612</td>\n",
       "    </tr>\n",
       "    <tr>\n",
       "      <th>3</th>\n",
       "      <td>3</td>\n",
       "      <td>23.355932</td>\n",
       "      <td>57.961332</td>\n",
       "      <td>3.701006</td>\n",
       "      <td>18.682736</td>\n",
       "    </tr>\n",
       "    <tr>\n",
       "      <th>6</th>\n",
       "      <td>4</td>\n",
       "      <td>33.309783</td>\n",
       "      <td>54.589197</td>\n",
       "      <td>5.957777</td>\n",
       "      <td>15.410803</td>\n",
       "    </tr>\n",
       "    <tr>\n",
       "      <th>4</th>\n",
       "      <td>5</td>\n",
       "      <td>27.502538</td>\n",
       "      <td>55.020092</td>\n",
       "      <td>5.767601</td>\n",
       "      <td>17.477370</td>\n",
       "    </tr>\n",
       "    <tr>\n",
       "      <th>2</th>\n",
       "      <td>6</td>\n",
       "      <td>22.534392</td>\n",
       "      <td>58.827991</td>\n",
       "      <td>4.489030</td>\n",
       "      <td>18.637617</td>\n",
       "    </tr>\n",
       "    <tr>\n",
       "      <th>8</th>\n",
       "      <td>7</td>\n",
       "      <td>35.192090</td>\n",
       "      <td>64.059553</td>\n",
       "      <td>4.693869</td>\n",
       "      <td>5.940447</td>\n",
       "    </tr>\n",
       "    <tr>\n",
       "      <th>7</th>\n",
       "      <td>8</td>\n",
       "      <td>24.090395</td>\n",
       "      <td>65.861999</td>\n",
       "      <td>4.196229</td>\n",
       "      <td>10.047606</td>\n",
       "    </tr>\n",
       "    <tr>\n",
       "      <th>5</th>\n",
       "      <td>9</td>\n",
       "      <td>27.158192</td>\n",
       "      <td>64.727368</td>\n",
       "      <td>4.372713</td>\n",
       "      <td>8.114440</td>\n",
       "    </tr>\n",
       "    <tr>\n",
       "      <th>9</th>\n",
       "      <td>10</td>\n",
       "      <td>33.372340</td>\n",
       "      <td>64.568461</td>\n",
       "      <td>3.472082</td>\n",
       "      <td>5.431539</td>\n",
       "    </tr>\n",
       "    <tr>\n",
       "      <th>10</th>\n",
       "      <td>11</td>\n",
       "      <td>34.935829</td>\n",
       "      <td>57.011700</td>\n",
       "      <td>4.612026</td>\n",
       "      <td>12.988300</td>\n",
       "    </tr>\n",
       "    <tr>\n",
       "      <th>0</th>\n",
       "      <td>12</td>\n",
       "      <td>49.029240</td>\n",
       "      <td>55.903703</td>\n",
       "      <td>5.468092</td>\n",
       "      <td>14.096297</td>\n",
       "    </tr>\n",
       "  </tbody>\n",
       "</table>\n",
       "</div>"
      ],
      "text/plain": [
       "    Month   Humidity  Temperature      Wind  comfort_index\n",
       "1       1  29.088398    55.684046  2.845470      15.227556\n",
       "11      2  26.074074    57.579314  4.645758      16.346612\n",
       "3       3  23.355932    57.961332  3.701006      18.682736\n",
       "6       4  33.309783    54.589197  5.957777      15.410803\n",
       "4       5  27.502538    55.020092  5.767601      17.477370\n",
       "2       6  22.534392    58.827991  4.489030      18.637617\n",
       "8       7  35.192090    64.059553  4.693869       5.940447\n",
       "7       8  24.090395    65.861999  4.196229      10.047606\n",
       "5       9  27.158192    64.727368  4.372713       8.114440\n",
       "9      10  33.372340    64.568461  3.472082       5.431539\n",
       "10     11  34.935829    57.011700  4.612026      12.988300\n",
       "0      12  49.029240    55.903703  5.468092      14.096297"
      ]
     },
     "execution_count": 26,
     "metadata": {},
     "output_type": "execute_result"
    }
   ],
   "source": [
    "avg_pandas_df['comfort_index'] = avg_pandas_df.apply(comfort_index, axis=1)\n",
    "avg_pandas_df.set_index(['Month'])\n",
    "avg_pandas_df.sort_values('Month', inplace=True)\n",
    "avg_pandas_df"
   ]
  },
  {
   "cell_type": "code",
   "execution_count": 27,
   "metadata": {},
   "outputs": [
    {
     "data": {
      "image/png": "[encoded data removed]",
      "text/plain": [
       "<Figure size 864x432 with 1 Axes>"
      ]
     },
     "metadata": {},
     "output_type": "display_data"
    }
   ],
   "source": [
    "%matplotlib inline\n",
    "\n",
    "ax = avg_pandas_df.plot(\n",
    "    kind='bar',\n",
    "    figsize=(12, 6),\n",
    "    x='Month',\n",
    "    y='comfort_index',\n",
    "    fontsize = 20,\n",
    "    color='#3399ff',\n",
    ")\n",
    "ax.set_xlabel('Month', fontsize = 20)\n",
    "ax.set_ylabel('Comfort Index', fontsize = 20)\n",
    "ax.set_title('Comfort Index in San Francisco', fontsize = 20)\n",
    "plt.show()"
   ]
  },
  {
   "cell_type": "markdown",
   "metadata": {},
   "source": [
    "* The smaller the comfort index is, the more comfortable it is.\n",
    "* From our result, the best month to visit San Francisco is October.\n",
    "* U.S. News indicates that the best time to visit San Francisco is between September and November. [source](https://travel.usnews.com/San_Francisco_CA/When_To_Visit/)"
   ]
  },
  {
   "cell_type": "markdown",
   "metadata": {},
   "source": [
    "# 2.  **Gainesville, FL**: \"djm2\"\n",
    "\n",
    "![Gainesville](img/Gainesville.png)"
   ]
  },
  {
   "cell_type": "code",
   "execution_count": 28,
   "metadata": {},
   "outputs": [
    {
     "name": "stdout",
     "output_type": "stream",
     "text": [
      "+-----+------------------+------------------+------------------+\n",
      "|Month|          Humidity|       Temperature|              Wind|\n",
      "+-----+------------------+------------------+------------------+\n",
      "|   12|23.175257731958762|293.93394171331346| 4.193663595570731|\n",
      "|    1|34.638297872340424| 286.0075034283577|3.6169779124729176|\n",
      "|    6| 50.14678899082569|  301.771014012328|2.3378457632086693|\n",
      "|    3|29.288659793814432| 292.5560425433916| 4.163969370200462|\n",
      "|    5| 34.42045454545455|299.42675746570933| 3.117915778674863|\n",
      "|    9|54.027522935779814| 300.1188494481078|3.1265861452172654|\n",
      "|    4| 41.53191489361702|297.04061662389876| 4.053455001179208|\n",
      "|    8| 53.39622641509434| 302.4982794995578|2.3989840951168313|\n",
      "|    7| 57.16494845360825| 302.4940349146263|2.2881644497212674|\n",
      "|   10|              18.6| 295.1717812278054|3.6506511493162677|\n",
      "|   11|29.931372549019606|293.63313652487363| 3.796104420926057|\n",
      "|    2|38.679611650485434| 283.5030884974211| 5.287655468704631|\n",
      "+-----+------------------+------------------+------------------+\n",
      "\n",
      "CPU times: user 26.8 ms, sys: 14.1 ms, total: 40.9 ms\n",
      "Wall time: 2min 33s\n"
     ]
    }
   ],
   "source": [
    "%%time\n",
    "\n",
    "df.createOrReplaceTempView(\"NAM_S\")\n",
    "avg = spark.sql(\n",
    "    '''\n",
    "    SELECT\n",
    "        Month,\n",
    "        AVG(Humidity) AS Humidity,\n",
    "        AVG(Temperature) AS Temperature,\n",
    "        AVG(Wind) AS Wind\n",
    "    FROM NAM_S\n",
    "    WHERE Geohash like \"djm2%\"\n",
    "    GROUP BY Month\n",
    "    '''\n",
    ")\n",
    "\n",
    "avg.show()"
   ]
  },
  {
   "cell_type": "code",
   "execution_count": 29,
   "metadata": {},
   "outputs": [],
   "source": [
    "# Convert to Pandas dataframe\n",
    "avg_pandas_df = avg.toPandas()"
   ]
  },
  {
   "cell_type": "code",
   "execution_count": 30,
   "metadata": {},
   "outputs": [],
   "source": [
    "avg_pandas_df.to_pickle('/home4/csung4/gnv.pickle')"
   ]
  },
  {
   "cell_type": "code",
   "execution_count": 31,
   "metadata": {},
   "outputs": [],
   "source": [
    "avg_pandas_df = pd.read_pickle('/home4/csung4/gnv.pickle')"
   ]
  },
  {
   "cell_type": "code",
   "execution_count": 32,
   "metadata": {},
   "outputs": [
    {
     "data": {
      "text/html": [
       "<div>\n",
       "<style scoped>\n",
       "    .dataframe tbody tr th:only-of-type {\n",
       "        vertical-align: middle;\n",
       "    }\n",
       "\n",
       "    .dataframe tbody tr th {\n",
       "        vertical-align: top;\n",
       "    }\n",
       "\n",
       "    .dataframe thead th {\n",
       "        text-align: right;\n",
       "    }\n",
       "</style>\n",
       "<table border=\"1\" class=\"dataframe\">\n",
       "  <thead>\n",
       "    <tr style=\"text-align: right;\">\n",
       "      <th></th>\n",
       "      <th>Month</th>\n",
       "      <th>Humidity</th>\n",
       "      <th>Temperature</th>\n",
       "      <th>Wind</th>\n",
       "    </tr>\n",
       "  </thead>\n",
       "  <tbody>\n",
       "    <tr>\n",
       "      <th>0</th>\n",
       "      <td>12</td>\n",
       "      <td>23.175258</td>\n",
       "      <td>69.411095</td>\n",
       "      <td>4.193664</td>\n",
       "    </tr>\n",
       "    <tr>\n",
       "      <th>1</th>\n",
       "      <td>1</td>\n",
       "      <td>34.638298</td>\n",
       "      <td>55.143506</td>\n",
       "      <td>3.616978</td>\n",
       "    </tr>\n",
       "    <tr>\n",
       "      <th>2</th>\n",
       "      <td>6</td>\n",
       "      <td>50.146789</td>\n",
       "      <td>83.517825</td>\n",
       "      <td>2.337846</td>\n",
       "    </tr>\n",
       "    <tr>\n",
       "      <th>3</th>\n",
       "      <td>3</td>\n",
       "      <td>29.288660</td>\n",
       "      <td>66.930877</td>\n",
       "      <td>4.163969</td>\n",
       "    </tr>\n",
       "    <tr>\n",
       "      <th>4</th>\n",
       "      <td>5</td>\n",
       "      <td>34.420455</td>\n",
       "      <td>79.298163</td>\n",
       "      <td>3.117916</td>\n",
       "    </tr>\n",
       "    <tr>\n",
       "      <th>5</th>\n",
       "      <td>9</td>\n",
       "      <td>54.027523</td>\n",
       "      <td>80.543929</td>\n",
       "      <td>3.126586</td>\n",
       "    </tr>\n",
       "    <tr>\n",
       "      <th>6</th>\n",
       "      <td>4</td>\n",
       "      <td>41.531915</td>\n",
       "      <td>75.003110</td>\n",
       "      <td>4.053455</td>\n",
       "    </tr>\n",
       "    <tr>\n",
       "      <th>7</th>\n",
       "      <td>8</td>\n",
       "      <td>53.396226</td>\n",
       "      <td>84.826903</td>\n",
       "      <td>2.398984</td>\n",
       "    </tr>\n",
       "    <tr>\n",
       "      <th>8</th>\n",
       "      <td>7</td>\n",
       "      <td>57.164948</td>\n",
       "      <td>84.819263</td>\n",
       "      <td>2.288164</td>\n",
       "    </tr>\n",
       "    <tr>\n",
       "      <th>9</th>\n",
       "      <td>10</td>\n",
       "      <td>18.600000</td>\n",
       "      <td>71.639206</td>\n",
       "      <td>3.650651</td>\n",
       "    </tr>\n",
       "    <tr>\n",
       "      <th>10</th>\n",
       "      <td>11</td>\n",
       "      <td>29.931373</td>\n",
       "      <td>68.869646</td>\n",
       "      <td>3.796104</td>\n",
       "    </tr>\n",
       "    <tr>\n",
       "      <th>11</th>\n",
       "      <td>2</td>\n",
       "      <td>38.679612</td>\n",
       "      <td>50.635559</td>\n",
       "      <td>5.287655</td>\n",
       "    </tr>\n",
       "  </tbody>\n",
       "</table>\n",
       "</div>"
      ],
      "text/plain": [
       "    Month   Humidity  Temperature      Wind\n",
       "0      12  23.175258    69.411095  4.193664\n",
       "1       1  34.638298    55.143506  3.616978\n",
       "2       6  50.146789    83.517825  2.337846\n",
       "3       3  29.288660    66.930877  4.163969\n",
       "4       5  34.420455    79.298163  3.117916\n",
       "5       9  54.027523    80.543929  3.126586\n",
       "6       4  41.531915    75.003110  4.053455\n",
       "7       8  53.396226    84.826903  2.398984\n",
       "8       7  57.164948    84.819263  2.288164\n",
       "9      10  18.600000    71.639206  3.650651\n",
       "10     11  29.931373    68.869646  3.796104\n",
       "11      2  38.679612    50.635559  5.287655"
      ]
     },
     "execution_count": 32,
     "metadata": {},
     "output_type": "execute_result"
    }
   ],
   "source": [
    "avg_pandas_df.Temperature = convert_temperature(avg_pandas_df.Temperature)\n",
    "avg_pandas_df"
   ]
  },
  {
   "cell_type": "code",
   "execution_count": 33,
   "metadata": {},
   "outputs": [
    {
     "data": {
      "text/html": [
       "<div>\n",
       "<style scoped>\n",
       "    .dataframe tbody tr th:only-of-type {\n",
       "        vertical-align: middle;\n",
       "    }\n",
       "\n",
       "    .dataframe tbody tr th {\n",
       "        vertical-align: top;\n",
       "    }\n",
       "\n",
       "    .dataframe thead th {\n",
       "        text-align: right;\n",
       "    }\n",
       "</style>\n",
       "<table border=\"1\" class=\"dataframe\">\n",
       "  <thead>\n",
       "    <tr style=\"text-align: right;\">\n",
       "      <th></th>\n",
       "      <th>Month</th>\n",
       "      <th>Humidity</th>\n",
       "      <th>Temperature</th>\n",
       "      <th>Wind</th>\n",
       "      <th>comfort_index</th>\n",
       "    </tr>\n",
       "  </thead>\n",
       "  <tbody>\n",
       "    <tr>\n",
       "      <th>1</th>\n",
       "      <td>1</td>\n",
       "      <td>34.638298</td>\n",
       "      <td>55.143506</td>\n",
       "      <td>3.616978</td>\n",
       "      <td>14.856494</td>\n",
       "    </tr>\n",
       "    <tr>\n",
       "      <th>11</th>\n",
       "      <td>2</td>\n",
       "      <td>38.679612</td>\n",
       "      <td>50.635559</td>\n",
       "      <td>5.287655</td>\n",
       "      <td>19.364441</td>\n",
       "    </tr>\n",
       "    <tr>\n",
       "      <th>3</th>\n",
       "      <td>3</td>\n",
       "      <td>29.288660</td>\n",
       "      <td>66.930877</td>\n",
       "      <td>4.163969</td>\n",
       "      <td>3.780464</td>\n",
       "    </tr>\n",
       "    <tr>\n",
       "      <th>6</th>\n",
       "      <td>4</td>\n",
       "      <td>41.531915</td>\n",
       "      <td>75.003110</td>\n",
       "      <td>4.053455</td>\n",
       "      <td>0.000000</td>\n",
       "    </tr>\n",
       "    <tr>\n",
       "      <th>4</th>\n",
       "      <td>5</td>\n",
       "      <td>34.420455</td>\n",
       "      <td>79.298163</td>\n",
       "      <td>3.117916</td>\n",
       "      <td>0.000000</td>\n",
       "    </tr>\n",
       "    <tr>\n",
       "      <th>2</th>\n",
       "      <td>6</td>\n",
       "      <td>50.146789</td>\n",
       "      <td>83.517825</td>\n",
       "      <td>2.337846</td>\n",
       "      <td>3.517825</td>\n",
       "    </tr>\n",
       "    <tr>\n",
       "      <th>8</th>\n",
       "      <td>7</td>\n",
       "      <td>57.164948</td>\n",
       "      <td>84.819263</td>\n",
       "      <td>2.288164</td>\n",
       "      <td>4.819263</td>\n",
       "    </tr>\n",
       "    <tr>\n",
       "      <th>7</th>\n",
       "      <td>8</td>\n",
       "      <td>53.396226</td>\n",
       "      <td>84.826903</td>\n",
       "      <td>2.398984</td>\n",
       "      <td>4.826903</td>\n",
       "    </tr>\n",
       "    <tr>\n",
       "      <th>5</th>\n",
       "      <td>9</td>\n",
       "      <td>54.027523</td>\n",
       "      <td>80.543929</td>\n",
       "      <td>3.126586</td>\n",
       "      <td>0.543929</td>\n",
       "    </tr>\n",
       "    <tr>\n",
       "      <th>9</th>\n",
       "      <td>10</td>\n",
       "      <td>18.600000</td>\n",
       "      <td>71.639206</td>\n",
       "      <td>3.650651</td>\n",
       "      <td>3.039206</td>\n",
       "    </tr>\n",
       "    <tr>\n",
       "      <th>10</th>\n",
       "      <td>11</td>\n",
       "      <td>29.931373</td>\n",
       "      <td>68.869646</td>\n",
       "      <td>3.796104</td>\n",
       "      <td>1.198982</td>\n",
       "    </tr>\n",
       "    <tr>\n",
       "      <th>0</th>\n",
       "      <td>12</td>\n",
       "      <td>23.175258</td>\n",
       "      <td>69.411095</td>\n",
       "      <td>4.193664</td>\n",
       "      <td>7.413647</td>\n",
       "    </tr>\n",
       "  </tbody>\n",
       "</table>\n",
       "</div>"
      ],
      "text/plain": [
       "    Month   Humidity  Temperature      Wind  comfort_index\n",
       "1       1  34.638298    55.143506  3.616978      14.856494\n",
       "11      2  38.679612    50.635559  5.287655      19.364441\n",
       "3       3  29.288660    66.930877  4.163969       3.780464\n",
       "6       4  41.531915    75.003110  4.053455       0.000000\n",
       "4       5  34.420455    79.298163  3.117916       0.000000\n",
       "2       6  50.146789    83.517825  2.337846       3.517825\n",
       "8       7  57.164948    84.819263  2.288164       4.819263\n",
       "7       8  53.396226    84.826903  2.398984       4.826903\n",
       "5       9  54.027523    80.543929  3.126586       0.543929\n",
       "9      10  18.600000    71.639206  3.650651       3.039206\n",
       "10     11  29.931373    68.869646  3.796104       1.198982\n",
       "0      12  23.175258    69.411095  4.193664       7.413647"
      ]
     },
     "execution_count": 33,
     "metadata": {},
     "output_type": "execute_result"
    }
   ],
   "source": [
    "avg_pandas_df['comfort_index'] = avg_pandas_df.apply(comfort_index, axis=1)\n",
    "avg_pandas_df.set_index(['Month'])\n",
    "avg_pandas_df.sort_values('Month', inplace=True)\n",
    "avg_pandas_df"
   ]
  },
  {
   "cell_type": "code",
   "execution_count": 34,
   "metadata": {},
   "outputs": [
    {
     "data": {
      "image/png": "[encoded data removed]",
      "text/plain": [
       "<Figure size 864x432 with 1 Axes>"
      ]
     },
     "metadata": {},
     "output_type": "display_data"
    }
   ],
   "source": [
    "%matplotlib inline\n",
    "\n",
    "ax = avg_pandas_df.plot(\n",
    "    kind='bar',\n",
    "    figsize=(12, 6),\n",
    "    x='Month',\n",
    "    y='comfort_index',\n",
    "    fontsize = 20,\n",
    "    color='#3399ff',\n",
    ")\n",
    "ax.set_xlabel('Month', fontsize = 20)\n",
    "ax.set_ylabel('Comfort Index', fontsize = 20)\n",
    "ax.set_title('Comfort Index in Gainesville, FL', fontsize = 20)\n",
    "plt.show()"
   ]
  },
  {
   "cell_type": "markdown",
   "metadata": {},
   "source": [
    "* The best month to visit Gainesville, FL is April or May.\n",
    "* These two websites indicates that the time around April is the best time to visit. [source1](https://www.eliotandme.com/when-to-visit/Gainesville,+FL,+USA) [source2](https://championtraveler.com/dates/best-time-to-visit-gainesville-fl-us/)"
   ]
  },
  {
   "cell_type": "markdown",
   "metadata": {},
   "source": [
    "# 3.  **Seattle**: \"c22z\", \"c22y\", \"c23p\", \"c23n\"\n",
    "\n",
    "![Seattle](img/Seattle.png)"
   ]
  },
  {
   "cell_type": "code",
   "execution_count": 35,
   "metadata": {},
   "outputs": [
    {
     "name": "stdout",
     "output_type": "stream",
     "text": [
      "+-----+------------------+------------------+------------------+\n",
      "|Month|          Humidity|       Temperature|              Wind|\n",
      "+-----+------------------+------------------+------------------+\n",
      "|   12| 89.03846153846153| 278.4433196274551| 6.517839684353008|\n",
      "|    1|  58.0916955017301| 279.6495886145991|3.8440904652371124|\n",
      "|    6|43.107205623901585| 295.5306613164543| 2.791391700165762|\n",
      "|    3| 61.20621931260229| 284.8426306392089| 4.298411957492805|\n",
      "|    5| 56.50439367311072| 291.3470974940617| 2.675342236545677|\n",
      "|    9| 41.03010033444816| 290.7872126652644| 3.385793821119943|\n",
      "|    4| 81.88307155322862|285.83602207576627|3.4258775237759163|\n",
      "|    8|40.939597315436245| 295.6172301017198|3.4423143247129935|\n",
      "|    7|  40.3982905982906|297.51888146033656|2.6642659852647372|\n",
      "|   10|  52.9463986599665| 287.7560498414926| 4.486356675025806|\n",
      "|   11| 78.84271523178808| 279.2245332831579| 4.959974135808794|\n",
      "|    2| 64.55112651646448| 281.8167571757034| 5.306629053021634|\n",
      "+-----+------------------+------------------+------------------+\n",
      "\n",
      "CPU times: user 26.4 ms, sys: 14.9 ms, total: 41.3 ms\n",
      "Wall time: 2min 26s\n"
     ]
    }
   ],
   "source": [
    "%%time\n",
    "\n",
    "df.createOrReplaceTempView(\"NAM_S\")\n",
    "avg = spark.sql(\n",
    "    '''\n",
    "    SELECT\n",
    "        Month,\n",
    "        AVG(Humidity) AS Humidity,\n",
    "        AVG(Temperature) AS Temperature,\n",
    "        AVG(Wind) AS Wind\n",
    "    FROM NAM_S\n",
    "    WHERE Geohash like \"c22z%\"\n",
    "        OR Geohash like \"c22y%\"\n",
    "        OR Geohash like \"c23p%\"\n",
    "        OR Geohash like \"c23n%\"\n",
    "    GROUP BY Month\n",
    "    '''\n",
    ")\n",
    "\n",
    "avg.show()"
   ]
  },
  {
   "cell_type": "code",
   "execution_count": 36,
   "metadata": {},
   "outputs": [
    {
     "name": "stdout",
     "output_type": "stream",
     "text": [
      "CPU times: user 35 ms, sys: 18.2 ms, total: 53.2 ms\n",
      "Wall time: 2min 38s\n"
     ]
    }
   ],
   "source": [
    "%%time\n",
    "\n",
    "# Convert to Pandas dataframe\n",
    "avg_pandas_df = avg.toPandas()\n",
    "avg_pandas_df.to_pickle('/home4/csung4/sea.pickle')"
   ]
  },
  {
   "cell_type": "code",
   "execution_count": 37,
   "metadata": {},
   "outputs": [],
   "source": [
    "avg_pandas_df = pd.read_pickle('/home4/csung4/sea.pickle')"
   ]
  },
  {
   "cell_type": "code",
   "execution_count": 38,
   "metadata": {},
   "outputs": [
    {
     "name": "stdout",
     "output_type": "stream",
     "text": [
      "CPU times: user 17.2 ms, sys: 12 µs, total: 17.2 ms\n",
      "Wall time: 15 ms\n"
     ]
    }
   ],
   "source": [
    "%%time\n",
    "\n",
    "avg_pandas_df.Temperature = convert_temperature(avg_pandas_df.Temperature)\n",
    "avg_pandas_df['comfort_index'] = avg_pandas_df.apply(comfort_index, axis=1)\n",
    "avg_pandas_df.set_index(['Month'])\n",
    "avg_pandas_df.sort_values('Month', inplace=True)\n",
    "avg_pandas_df"
   ]
  },
  {
   "cell_type": "code",
   "execution_count": 40,
   "metadata": {},
   "outputs": [
    {
     "data": {
      "image/png": "[encoded data removed]",
      "text/plain": [
       "<Figure size 864x432 with 1 Axes>"
      ]
     },
     "metadata": {},
     "output_type": "display_data"
    }
   ],
   "source": [
    "%matplotlib inline\n",
    "\n",
    "ax = avg_pandas_df.plot(\n",
    "    kind='bar',\n",
    "    figsize=(12, 6),\n",
    "    x='Month',\n",
    "    y='comfort_index',\n",
    "    fontsize = 20,\n",
    "    color='#3399ff',\n",
    ")\n",
    "ax.set_xlabel('Month', fontsize = 20)\n",
    "ax.set_ylabel('Comfort Index', fontsize = 20)\n",
    "ax.set_title('Comfort Index in Seattle', fontsize = 20)\n",
    "plt.show()"
   ]
  },
  {
   "cell_type": "markdown",
   "metadata": {},
   "source": [
    "* June, July, and August are the best month to visit Seattle.\n",
    "* U.S. News indicates that Summer is the best season to visit Seattle. [source](https://travel.usnews.com/Seattle_WA/When_To_Visit/)"
   ]
  },
  {
   "cell_type": "markdown",
   "metadata": {},
   "source": [
    "# 4.  **Austin, TX**: \"9v6k\", \"9v67\", \"9v6s\", \"9v6e\"\n",
    "\n",
    "![Austin](img/Austin.png)"
   ]
  },
  {
   "cell_type": "code",
   "execution_count": 41,
   "metadata": {},
   "outputs": [
    {
     "name": "stdout",
     "output_type": "stream",
     "text": [
      "+-----+------------------+------------------+------------------+\n",
      "|Month|          Humidity|       Temperature|              Wind|\n",
      "+-----+------------------+------------------+------------------+\n",
      "|   12| 18.16737288135593| 285.2286548937781| 4.863677225943844|\n",
      "|    1| 47.92164179104478| 280.7148582116881|5.5317316688041185|\n",
      "|    6| 40.52281368821293|  300.636720142437| 5.012441954288646|\n",
      "|    3|46.139146567717994|288.91120381257974| 5.120001183259465|\n",
      "|    5|  47.2815734989648| 297.5907911217731| 6.684027236070692|\n",
      "|    9|34.258252427184466| 301.5061148930522| 3.089356507549008|\n",
      "|    4|  43.0060120240481|295.32095544849466| 6.105264971036472|\n",
      "|    8|37.014736842105265| 304.9676588199013| 4.129678531508697|\n",
      "|    7| 27.05103969754253| 303.3916264842273| 7.016817480663722|\n",
      "|   10| 38.17786561264822|296.01274078731007| 5.366004784057734|\n",
      "|   11|44.569169960474305| 288.7875494071146| 5.908071092259978|\n",
      "|    2|43.784679089026916| 283.2984357561384| 6.355180874621152|\n",
      "+-----+------------------+------------------+------------------+\n",
      "\n",
      "CPU times: user 22.3 ms, sys: 15.5 ms, total: 37.8 ms\n",
      "Wall time: 2min 37s\n"
     ]
    }
   ],
   "source": [
    "%%time\n",
    "\n",
    "df.createOrReplaceTempView(\"NAM_S\")\n",
    "avg = spark.sql(\n",
    "    '''\n",
    "    SELECT\n",
    "        Month,\n",
    "        AVG(Humidity) AS Humidity,\n",
    "        AVG(Temperature) AS Temperature,\n",
    "        AVG(Wind) AS Wind\n",
    "    FROM NAM_S\n",
    "    WHERE Geohash like \"9v6k%\"\n",
    "        OR Geohash like \"9v67%\"\n",
    "        OR Geohash like \"9v6e%\"\n",
    "        OR Geohash like \"9v6s%\"\n",
    "    GROUP BY Month\n",
    "    '''\n",
    ")\n",
    "\n",
    "avg.show()"
   ]
  },
  {
   "cell_type": "code",
   "execution_count": 42,
   "metadata": {},
   "outputs": [
    {
     "name": "stdout",
     "output_type": "stream",
     "text": [
      "CPU times: user 33 ms, sys: 18.3 ms, total: 51.3 ms\n",
      "Wall time: 2min 30s\n"
     ]
    }
   ],
   "source": [
    "%%time\n",
    "\n",
    "# Convert to Pandas dataframe\n",
    "avg_pandas_df = avg.toPandas()\n",
    "avg_pandas_df.to_pickle('/home4/csung4/aus.pickle')"
   ]
  },
  {
   "cell_type": "code",
   "execution_count": 43,
   "metadata": {},
   "outputs": [],
   "source": [
    "avg_pandas_df = pd.read_pickle('/home4/csung4/aus.pickle')"
   ]
  },
  {
   "cell_type": "code",
   "execution_count": 44,
   "metadata": {},
   "outputs": [
    {
     "name": "stdout",
     "output_type": "stream",
     "text": [
      "CPU times: user 3.57 ms, sys: 47 µs, total: 3.62 ms\n",
      "Wall time: 2.76 ms\n"
     ]
    }
   ],
   "source": [
    "%%time\n",
    "\n",
    "avg_pandas_df.Temperature = convert_temperature(avg_pandas_df.Temperature)\n",
    "avg_pandas_df['comfort_index'] = avg_pandas_df.apply(comfort_index, axis=1)\n",
    "avg_pandas_df.set_index(['Month'])\n",
    "avg_pandas_df.sort_values('Month', inplace=True)\n",
    "avg_pandas_df"
   ]
  },
  {
   "cell_type": "code",
   "execution_count": 45,
   "metadata": {},
   "outputs": [
    {
     "data": {
      "image/png": "[encoded data removed]",
      "text/plain": [
       "<Figure size 864x432 with 1 Axes>"
      ]
     },
     "metadata": {},
     "output_type": "display_data"
    }
   ],
   "source": [
    "%matplotlib inline\n",
    "\n",
    "ax = avg_pandas_df.plot(\n",
    "    kind='bar',\n",
    "    figsize=(12, 6),\n",
    "    x='Month',\n",
    "    y='comfort_index',\n",
    "    fontsize = 20,\n",
    "    color='#3399ff',\n",
    ")\n",
    "ax.set_xlabel('Month', fontsize = 20)\n",
    "ax.set_ylabel('Comfort Index', fontsize = 20)\n",
    "ax.set_title('Comfort Index in Austin, TX', fontsize = 20)\n",
    "plt.show()"
   ]
  },
  {
   "cell_type": "markdown",
   "metadata": {},
   "source": [
    "* April, May, and October are the best months to visit Austiin, TX.\n",
    "* U.S. News indicates that the best times to visit Austin are September to November or March to May. [source](https://travel.usnews.com/Austin_TX/When_To_Visit/)"
   ]
  },
  {
   "cell_type": "markdown",
   "metadata": {},
   "source": [
    "# 5.  **Chicago**: \"dp3w\", \"dp3t\"\n",
    "\n",
    "![Chicago](img/Chicago.png)"
   ]
  },
  {
   "cell_type": "code",
   "execution_count": 46,
   "metadata": {},
   "outputs": [
    {
     "name": "stdout",
     "output_type": "stream",
     "text": [
      "+-----+------------------+------------------+------------------+\n",
      "|Month|          Humidity|       Temperature|              Wind|\n",
      "+-----+------------------+------------------+------------------+\n",
      "|   12| 67.78402366863905| 277.9385635105111| 7.818096276835577|\n",
      "|    1| 80.20621468926554| 267.0711760871154| 6.656413058439891|\n",
      "|    6|48.731988472622476| 293.9814973770713|   4.8498979645435|\n",
      "|    3| 56.34324324324324|275.28401695457666|  6.61721272162489|\n",
      "|    5| 59.79692307692308| 289.3773914513221|  6.91504721889129|\n",
      "|    9| 38.66193181818182|293.17701582475144| 5.003610785373232|\n",
      "|    4|56.123493975903614|281.03255536182814| 6.836307680301638|\n",
      "|    8|34.349162011173185| 297.3835722001571| 4.609607744441685|\n",
      "|    7| 37.83806818181818| 298.0913932106712| 4.762182456017896|\n",
      "|   10| 54.50852272727273| 286.1508974595503| 7.777343573048711|\n",
      "|   11| 57.48795180722892| 280.1164863310664| 9.024961322366472|\n",
      "|    2| 73.72934472934473|  264.189132733902|6.7576931151229775|\n",
      "+-----+------------------+------------------+------------------+\n",
      "\n",
      "CPU times: user 60.1 ms, sys: 34.2 ms, total: 94.3 ms\n",
      "Wall time: 6min 6s\n"
     ]
    }
   ],
   "source": [
    "%%time\n",
    "\n",
    "df.createOrReplaceTempView(\"NAM_S\")\n",
    "avg = spark.sql(\n",
    "    '''\n",
    "    SELECT\n",
    "        Month,\n",
    "        AVG(Humidity) AS Humidity,\n",
    "        AVG(Temperature) AS Temperature,\n",
    "        AVG(Wind) AS Wind\n",
    "    FROM NAM_S\n",
    "    WHERE Geohash like \"dp3w%\"\n",
    "        OR Geohash like \"dp3t%\"\n",
    "    GROUP BY Month\n",
    "    '''\n",
    ")\n",
    "\n",
    "avg.show()"
   ]
  },
  {
   "cell_type": "code",
   "execution_count": 47,
   "metadata": {},
   "outputs": [
    {
     "name": "stdout",
     "output_type": "stream",
     "text": [
      "CPU times: user 39.2 ms, sys: 19.7 ms, total: 58.8 ms\n",
      "Wall time: 2min 55s\n"
     ]
    }
   ],
   "source": [
    "%%time\n",
    "\n",
    "# Convert to Pandas dataframe\n",
    "avg_pandas_df = avg.toPandas()\n",
    "avg_pandas_df.to_pickle('/home4/csung4/chi.pickle')"
   ]
  },
  {
   "cell_type": "code",
   "execution_count": 48,
   "metadata": {},
   "outputs": [],
   "source": [
    "avg_pandas_df = pd.read_pickle('/home4/csung4/chi.pickle')"
   ]
  },
  {
   "cell_type": "code",
   "execution_count": 49,
   "metadata": {},
   "outputs": [
    {
     "name": "stdout",
     "output_type": "stream",
     "text": [
      "CPU times: user 14.7 ms, sys: 0 ns, total: 14.7 ms\n",
      "Wall time: 12.7 ms\n"
     ]
    }
   ],
   "source": [
    "%%time\n",
    "\n",
    "avg_pandas_df.Temperature = convert_temperature(avg_pandas_df.Temperature)\n",
    "avg_pandas_df['comfort_index'] = avg_pandas_df.apply(comfort_index, axis=1)\n",
    "avg_pandas_df.set_index(['Month'])\n",
    "avg_pandas_df.sort_values('Month', inplace=True)\n",
    "avg_pandas_df"
   ]
  },
  {
   "cell_type": "code",
   "execution_count": 50,
   "metadata": {},
   "outputs": [
    {
     "data": {
      "image/png": "[encoded data removed]",
      "text/plain": [
       "<Figure size 864x432 with 1 Axes>"
      ]
     },
     "metadata": {},
     "output_type": "display_data"
    }
   ],
   "source": [
    "%matplotlib inline\n",
    "\n",
    "ax = avg_pandas_df.plot(\n",
    "    kind='bar',\n",
    "    figsize=(12, 6),\n",
    "    x='Month',\n",
    "    y='comfort_index',\n",
    "    fontsize = 20,\n",
    "    color='#3399ff',\n",
    ")\n",
    "ax.set_xlabel('Month', fontsize = 20)\n",
    "ax.set_ylabel('Comfort Index', fontsize = 20)\n",
    "ax.set_title('Comfort Index in Chicago', fontsize = 20)\n",
    "plt.show()"
   ]
  },
  {
   "cell_type": "markdown",
   "metadata": {},
   "source": [
    "* July and August are the best months to visit Chicago.\n",
    "* This [article](https://santorinidave.com/best-time-to-visit-chicago) indicates that the best times to visit Chicago is in late Spring, early summer, and early fall."
   ]
  },
  {
   "cell_type": "code",
   "execution_count": null,
   "metadata": {},
   "outputs": [],
   "source": []
  }
 ],
 "metadata": {
  "kernelspec": {
   "display_name": "Python 3",
   "language": "python",
   "name": "python3"
  },
  "language_info": {
   "codemirror_mode": {
    "name": "ipython",
    "version": 3
   },
   "file_extension": ".py",
   "mimetype": "text/x-python",
   "name": "python",
   "nbconvert_exporter": "python",
   "pygments_lexer": "ipython3",
   "version": "3.6.5"
  }
 },
 "nbformat": 4,
 "nbformat_minor": 2
}
